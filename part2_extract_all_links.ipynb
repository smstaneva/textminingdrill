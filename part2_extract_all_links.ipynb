{
 "cells": [
  {
   "cell_type": "markdown",
   "metadata": {},
   "source": [
    "### Extract All Links that Contain dc/sessions"
   ]
  },
  {
   "cell_type": "code",
   "execution_count": 2,
   "metadata": {
    "collapsed": true
   },
   "outputs": [],
   "source": [
    "from urllib import request"
   ]
  },
  {
   "cell_type": "code",
   "execution_count": 3,
   "metadata": {
    "collapsed": true
   },
   "outputs": [],
   "source": [
    "from bs4 import BeautifulSoup"
   ]
  },
  {
   "cell_type": "code",
   "execution_count": 4,
   "metadata": {
    "collapsed": false
   },
   "outputs": [],
   "source": [
    "webpage = request.urlopen(\"https://tdwi.org/events/seminars/dc\").read()"
   ]
  },
  {
   "cell_type": "code",
   "execution_count": 5,
   "metadata": {
    "collapsed": false
   },
   "outputs": [
    {
     "data": {
      "text/plain": [
       "b' \\r\\n\\r\\n<!DOCTYPE html>\\r\\n<html>\\r\\n<head>\\r\\n    \\r\\n<title>TDWI Advanced Skills for Big Data Practitioners Seminar \\xe2\\x80\\x93 D.C./ Virtual Classroom | Transforming Data with Intelligence</title>\\r\\n<meta name=\"description\" content=\"<h4 class=&#34;title&#34;>Advanced Skills for Big Data Practitioners</h4><div class=&#34;info&#34;><h5 class=&#34;location&#34;>Washington, DC</h5><h5 class=&#34;date&#34;>April 30&ndash;May 2, 2018</h5><img src=&#34;https://download.1105media.com/tdwi/Remote-assets/Events/ico_virtualclass.png&#34; height=&#34;40&#34; width=&#34;126&#34;></div><p>Take your skills to the next level with a three-day seminar that covers lots of ground: hands-on Hadoop, creating value with non-traditional data sets, machine learning with big data, roadmap planning, and a workshop on big data implementation. </p><div class=&#34;cta&#34;><a class=&#34;more_btn&#34; href=&#34;/events/seminars/dc/home.aspx&#34;>more</a></div>\">\\r\\n<meta name=\"keywords\" content=\"analytics, data management, data science, data warehousing, business intelligence, the data warehousing institute, tdwi, certified business intelligence professionals, cbip, world conferences, business intelligence journal\">\\r\\n\\r\\n<meta property=\"og:title\" content=\"TDWI Advanced Skills for Big Data Practitioners Seminar \\xe2\\x80\\x93 D.C./ Virtual Classroom | Transforming Data with Intelligence\" />\\r\\n<meta property=\"og:description\" content=\"<h4 class=\\'title\\'>Advanced Skills for Big Data Practitioners</h4><div class=\\'info\\'><h5 class=\\'location\\'>Washington, DC</h5><h5 class=\\'date\\'>April 30&ndash;May 2, 2018</h5><img src=\\'https://download.1105media.com/tdwi/Remote-assets/Events/ico_virtualclass.png\\' height=\\'40\\' width=\\'126\\'></div><p>Take your skills to the next level with a three-day seminar that covers lots of ground: hands-on Hadoop, creating value with non-traditional data sets, machine learning with big data, roadmap planning, and a workshop on big data implementation. </p><div class=\\'cta\\'><a class=\\'more_btn\\' href=\\'/events/seminars/dc/home.aspx\\'>more</a></div>\" />\\r\\n<meta property=\"og:url\" content=\"https://tdwi.org/events/seminars/dc.aspx\" />\\r\\n<meta property=\"og:image\" content=\"https://tdwi.org/~/media/TDWI/TDWI%20Events/2018/seminars_washingtondc.jpg\" />\\r\\n<meta property=\"og:site_name\" content=\"Transforming Data with Intelligence\" />\\r\\n\\r\\n    <!-- BEGIN Google Partner Tag HEAD CODE -->\\r\\n<script type=\\'text/javascript\\'>\\r\\n(function(){\\r\\nvar useSSL = \\'https:\\' == document.location.protocol;\\r\\nvar src = (useSSL ? \\'https:\\' : \\'http:\\') + \\'//www.googletagservices.com/tag/js/gpt.js\\';\\r\\ndocument.write(\\'<scr\\' + \\'ipt src=\"\\' + src + \\'\"></scr\\' + \\'ipt>\\');\\r\\n})();\\r\\n</script>\\r\\n<!-- END Google Partner Tag HEAD CODE -->\\r\\n\\r\\n    <link rel=\"stylesheet\" href=\"/design/tdwi/tdwi/2017/events/css/components.css?v=1\" />\\n<link rel=\"stylesheet\" href=\"/design/tdwi/tdwi/2017/events/css/events.css?v=1\" />\\n\\r\\n\\r\\n\\r\\n<script type=\\'application/ld+json\\'>\\n{\"@context\":\"http:\\\\/\\\\/schema.org\",\"@type\":\"WebSite\",\"url\":\"https:\\\\/\\\\/tdwi.org\",\"name\":\"Transforming Data with Intelligence\",\"alternateName\":\"TDWI\",\"potentialAction\":{\"@type\":\"SearchAction\",\"target\":\"https:\\\\/\\\\/tdwi.org\\\\/Forms\\\\/Search-Results.aspx?query={search_term_string}\",\"query-input\":\"required name=search_term_string\"}}</script>\\n\\n<script type=\"application/ld+json\">\\n{\\n  \"@context\": \"http:\\\\/\\\\/schema.org\",\\n  \"@type\": \"Organization\",\\n  \"name\": \"Transforming Data with Intelligence\",\\n  \"alternateName\": \"TDWI\",\\n  \"url\": \"https://tdwi.org\",\\n  \"sameAs\": [\\n    \"https://www.linkedin.com/company-beta/220146/\",\\n    \"https://twitter.com/TDWI\",\\n    \"https://www.facebook.com/TDWI.allthingsdata\",\\n    \"https://plus.google.com/+TdwiOrg?rel=publisher\",\\n    \"https://www.youtube.com/user/TDWI1995\",\\n    \"https://www.instagram.com/tdwilive/\"\\n  ]\\n}\\n</script>\\n\\n<!-- Google fonts -->\\n<link rel=\"stylesheet\" href=\"https://fonts.googleapis.com/css?family=PT+Serif\">\\n<!-- fa fonts -->\\n<link rel=\"stylesheet\" href=\"/design/TDWI/tdwi/2017/css/font-awesome.css\">\\n<link rel=\"stylesheet\" href=\"/design/TDWI/tdwi/2017/css/font-awesome.min.css\">\\n\\n<!-- web fonts -->\\n<script type=\"text/javascript\">\\n    var MTUserId=\\'9dbecaba-f0e3-439e-b270-2bb8b886aa76\\';\\n    var MTFontIds = new Array();\\n\\n    MTFontIds.push(\"5199694\"); // Avenir\\xc2\\xae Next W05 Paneuropean Bold \\n    MTFontIds.push(\"5226623\"); // Avenir\\xc2\\xae Next W05 Paneuropean Medium \\n    (function() {\\n        var mtTracking = document.createElement(\\'script\\');\\n        mtTracking.type=\\'text/javascript\\';\\n        mtTracking.async=\\'true\\';\\n        mtTracking.src=\\'mtiFontTrackingCode.js\\';\\n\\n        (document.getElementsByTagName(\\'head\\')[0]||document.getElementsByTagName(\\'body\\')[0]).appendChild(mtTracking);\\n    })();\\n</script>\\n\\n<style type=\"text/css\">\\n    @font-face{\\n        font-family:\"Avenir Next W05 Bold\";\\n        src:url(\"/design/TDWI/tdwi/2017/fonts/5199694/33b5fc3f-3be1-45d1-bc29-6a9286da6f8e.eot?#iefix\");\\n        src:url(\"/design/TDWI/tdwi/2017/fonts/5199694/33b5fc3f-3be1-45d1-bc29-6a9286da6f8e.eot?#iefix\") format(\"eot\"),url(\"/design/TDWI/tdwi/2017/fonts/5199694/750e110a-c47f-4c8f-829a-b56cc20cc51d.woff2\") format(\"woff2\"),url(\"/design/TDWI/tdwi/2017/fonts/5199694/f3420df8-1310-4059-9207-e82b1c9dd3a5.woff\") format(\"woff\"),url(\"/design/TDWI/tdwi/2017/fonts/5199694/9d614368-aa4e-48a6-856a-c89ac91e6a35.ttf\") format(\"truetype\");\\n    }\\n    @font-face{\\n        font-family:\"Avenir Next W05 Medium\";\\n        src:url(\"/design/TDWI/tdwi/2017/fonts/5226623/a7d3bd64-119b-40ad-985c-a50776f2ae49.eot?#iefix\");\\n        src:url(\"/design/TDWI/tdwi/2017/fonts/5226623/a7d3bd64-119b-40ad-985c-a50776f2ae49.eot?#iefix\") format(\"eot\"),url(\"/design/TDWI/tdwi/2017/fonts/5226623/9851da0a-2481-4687-bbeb-ed4ab170dc38.woff2\") format(\"woff2\"),url(\"/design/TDWI/tdwi/2017/fonts/5226623/cebce072-9561-4c6d-8c89-f0cefec63289.woff\") format(\"woff\"),url(\"/design/TDWI/tdwi/2017/fonts/5226623/8d00a64e-2d77-46b1-8804-6012868d61c9.ttf\") format(\"truetype\");\\n    }\\n\\n</style>   \\n\\n<link rel=\"shortcut icon\" href=\"/design/tdwi/tdwi/2017/img/favicn.ico\" type=\"image/x-icon\">\\n<link rel=\"icon\" href=\"/design/tdwi/tdwi/2017/img/favicn.ico\" type=\"image/x-icon\">\\n\\n<link rel=\"icon\" type=\"image/png\" sizes=\"32x32\" href=\"/design/tdwi/tdwi/2017/img/favicon-32x32.png\" />\\n<link rel=\"icon\" type=\"image/png\" sizes=\"16x16\" href=\"/design/tdwi/tdwi/2017/img/favicon-16x16.png\" />\\n<link rel=\"manifest\" href=\"/design/tdwi/tdwi/2017/img/manifest.json\" />\\n<link rel=\"mask-icon\" href=\"/design/tdwi/tdwi/2017/img/safari-pinned-tab.svg\" color=\"#393e41\" />\\n<meta name=\"msapplication-TileColor\" content=\"#ecca1a\" />\\n<meta name=\"msapplication-config\" content=\"/design/tdwi/tdwi/2017/img/browserconfig.xml\" />\\n<meta name=\"theme-color\" content=\"#ffffff\" />\\n\\n\\n\\n<link rel=\"icon\"  type=\"image/png\" sizes=\"192x192\" href=\"/design/tdwi/tdwi/2017/img/icon-192x192.png\" />\\n<link rel=\"icon\"  type=\"image/png\" sizes=\"128x128\" href=\"/design/tdwi/tdwi/2017/img/icon-128x128.png\" />\\n<link rel=\"apple-touch-icon\" href=\"/design/tdwi/tdwi/2017/img/apple-touch-icon.png\" />\\n<link rel=\"apple-touch-icon\" sizes=\"57x57\" href=\"/design/tdwi/tdwi/2017/img/apple-touch-icon-57x57.png\" />\\n<link rel=\"apple-touch-icon\" sizes=\"72x72\" href=\"/design/tdwi/tdwi/2017/img/apple-touch-icon-72x72.png\" />\\n<link rel=\"apple-touch-icon\" sizes=\"76x76\" href=\"/design/tdwi/tdwi/2017/img/apple-touch-icon-76x76.png\" />\\n<link rel=\"apple-touch-icon\" sizes=\"114x114\" href=\"/design/tdwi/tdwi/2017/img/apple-touch-icon-114x114.png\" />\\n<link rel=\"apple-touch-icon\" sizes=\"120x120\" href=\"/design/tdwi/tdwi/2017/img/apple-touch-icon-120x120.png\" />\\n<link rel=\"apple-touch-icon\" sizes=\"144x144\" href=\"/design/tdwi/tdwi/2017/img/apple-touch-icon-144x144.png\" />\\n<link rel=\"apple-touch-icon\" sizes=\"152x152\" href=\"/design/tdwi/tdwi/2017/img/apple-touch-icon-152x152.png\" />\\n<link rel=\"apple-touch-icon\" sizes=\"180x180\" href=\"/design/tdwi/tdwi/2017/img/apple-touch-icon-180x180.png\" />\\n\\n<meta charset=\"utf-8\" />\\n<meta http-equiv=\"X-UA-Compatible\" content=\"IE=edge\" />\\n<meta name=\"robots\" content=\"index, follow\" />\\n\\n\\n<!-- youtube -->\\n<meta name=\"google-site-verification\" content=\"GDCFHKf7rmp661bjQ_6ZHJi0Hi3zrC3uxYcpBB4NiE4\" />\\n\\n\\n<link rel=\"stylesheet\" href=\"/design/tdwi/tdwi/2017/css/html5.css?v=1\" />\\n<script type=\"text/javascript\" src=\"/design/tdwi/tdwi/2017/js/html5.js\"></script>\\n\\n<script src=\"https://ajax.googleapis.com/ajax/libs/jquery/1/jquery.min.js\"></script>\\n<link rel=\"stylesheet\" href=\"https://ajax.googleapis.com/ajax/libs/jqueryui/1.12.0/themes/smoothness/jquery-ui.css\">\\n<script src=\"https://ajax.googleapis.com/ajax/libs/jqueryui/1.12.0/jquery-ui.min.js\"></script>\\n\\n<script type=\"text/javascript\" src=\"/design/tdwi/tdwi/2017/js/jquery.innerfade.js\"></script>\\n<script type=\"text/javascript\" src=\"/design/tdwi/tdwi/2017/js/jquery.functions.js\"></script>\\n<script type=\"text/javascript\" src=\"/design/tdwi/tdwi/2017/js/jquery-migrate-1.2.1.min.js\"></script>\\n\\n<script>\\n$(document).ready(function(){\\n  $.each( $(\\'.search input[type=\"text\"]\\'), function() {\\n    $(this).attr(\\'placeholder\\', \\'search\\');\\n  });\\n});\\n</script>\\n\\n<!--- working style sheets -->\\n\\n<link rel=\"stylesheet\" href=\"/design/tdwi/tdwi/2017/css/RGstyles.css?v=1\" />\\n<link rel=\"stylesheet\" href=\"/design/tdwi/tdwi/2017/css/MBstyle.css?v=1\" />\\n\\n<!-- Optimizely -->\\n<script src=\"https://cdn.optimizely.com/js/426870007.js\"></script>\\r\\n\\r\\n\\r\\n\\r\\n    <!-- Google Analytics -->\\n<script type=\"text/javascript\">\\n\\n (function(i,s,o,g,r,a,m){i[\\'GoogleAnalyticsObject\\']=r;i[r]=i[r]||function(){\\n (i[r].q=i[r].q||[]).push(arguments)},i[r].l=1*new Date();a=s.createElement(o),\\n m=s.getElementsByTagName(o)[0];a.async=1;a.src=g;m.parentNode.insertBefore(a,m)\\n })(window,document,\\'script\\',\\'//www.google-analytics.com/analytics.js\\',\\'ga\\');\\n\\n ga(\\'create\\', \\'UA-9899118-15\\', \\'auto\\', {\\'allowLinker\\': true});\\n ga(\\'require\\', \\'linker\\');\\n ga(\\'linker:autoLink\\', [\\'tdwi.org\\', \\'www.eiseverywhere.com\\'] );\\n ga(\\'send\\', \\'pageview\\');\\n\\n</script>\\n<!-- End Google Analytics -->\\r\\n\\r\\n\\r\\n\\r\\n    \\r\\n    \\r\\n    <meta name=\"viewport\" content=\"width=device-width, initial-scale=1.0, maximum-scale=1.0, user-scalable=yes\" />    \\n <link rel=\"stylesheet\" href=\"/design/TDWI/tdwi/2017/events/seminars/washingtondc/css/style.css\" />\\n\\n    <!--[if lt IE10]>\\n    <link rel=\"stylesheet\" type=\"text/css\" href=\"/design/TDWI/tdwi/2017/events/seminars/washingtondc/css/fallback.css\" media=\"screen\" />\\n    <![endif]-->\\n\\n\\n    <link media=\"handheld, only screen and (max-width: 720px), only screen and (max-device-width: 720px)\" href=\"/design/TDWI/tdwi/2017/events/seminars/washingtondc/css/tablet.css\" rel=\"stylesheet\" />\\n    <link media=\"handheld, only screen and (max-width: 480px), only screen and (max-device-width: 480px)\" href=\"/design/TDWI/tdwi/2017/events/seminars/washingtondc/css/mobile.css\" rel=\"stylesheet\" />\\n    <!--[if IEMobile]>\\n    <link rel=\"stylesheet\" type=\"text/css\" href=\"/design/TDWI/tdwi/2017/events/seminars/washingtondc/css/mobile.css\" media=\"screen\" />\\n    <![endif]-->\\n\\n<script type=\"text/javascript\" src=\"/design/TDWI/tdwi/2017/events/seminars/washingtondc/js/jquery.js\"></script>\\n<script type=\"text/javascript\" src=\"/design/TDWI/tdwi/2017/events/seminars/washingtondc/js/jquery-ui.js\"></script>\\n<script type=\"text/javascript\" src=\"/design/TDWI/tdwi/2017/events/seminars/washingtondc/js/jquery.innerfade.js\"></script>\\n<script type=\"text/javascript\" src=\"/design/TDWI/tdwi/2017/events/seminars/washingtondc/js/topnav_multi.js\">\\n</script>\\n<script type=\"text/javascript\" src=\"/design/TDWI/tdwi/2017/events/seminars/washingtondc/js/core.js\"></script>\\n<script type=\"text/javascript\" src=\"/design/TDWI/tdwi/2017/events/seminars/washingtondc/js/html5.js\"></script>\\n\\r\\n\\r\\n\\r\\n<script type=\"text/javascript\" src=\"/design/TDWI/tdwi/2017/events/seminars/washingtondc/js/jquery.js\"></script>\\n<script type=\"text/javascript\">\\n\\n\\n$(document).ready(function(){ \\n$(window).scroll(function() {\\nvar wScroll = $(this).scrollTop();\\n\\nif($(\\'.boxAction\\').length) {\\n  if(wScroll > $(\\'.boxAction\\').offset().top - ($(window).height() /1.5)) {\\n    $(\\'.boxAction ul>li\\').each(function(i) {\\n      setTimeout(function(){\\n       $(\\'.boxAction ul>li\\').eq(i).addClass(\\'show\\');\\n      },150 * (i+1));      \\n\\t\\t});\\n\\t}\\n}\\n\\n});\\n\\n\\n});\\n</script>\\n\\r\\n\\r\\n\\r\\n<script type=\"text/javascript\">\\n$(document).ready(function(){\\n  var speaker;\\n  var event;\\n  var title;\\n\\n  if($(\\'#level0 #speaker h3\\').first().length) {\\n    var speaker = $(\\'#level0 #speaker h3\\').text();\\n    //console.log(\\'speaker: \\'+speaker);\\n    if($(\\'h1 a\\').first().length) {\\n      event = $(\\'h1 a\\').text();\\n    } else {\\n      event = \"TDWI\";\\n    }\\n   \\n    title = speaker + \" | \" + event;\\n    $(document).prop(\\'title\\', title);\\n    $(\"meta[property=\\'og\\\\\\\\:title\\']\").attr(\"content\", title);\\n\\n    var imgURL = \"https://tdwi.org/\" + $(\\'#level0 #speaker img\\').first().attr(\\'src\\');\\n    //console.log(imgURL);\\n    $(\"meta[property=\\'og\\\\\\\\:image\\']\").attr(\"content\", imgURL);\\n  }\\n\\n});\\n</script>\\r\\n\\r\\n\\r\\n<!-- Mobile Viewport -->\\n<meta name=\"viewport\" content=\"width=device-width, initial-scale=1.0, maximum-scale=2.0, user-scalable=yes\" />    \\n\\n<!-- Tablet Stylesheet -->\\n<link media=\"handheld, only screen and (max-width: 960px), only screen and (max-device-width: 960px)\" href=\"/design/tdwi/tdwi/2017/css/tablet.css?v=1\" rel=\"stylesheet\" />\\n\\n<!-- Mobile Stylesheet -->\\n<link media=\"handheld, only screen and (max-width: 480px), only screen and (max-device-width: 480px)\" href=\"/design/tdwi/tdwi/2017/css/mobile.css?v=1\" rel=\"stylesheet\" />\\n\\n<!--[if IEMobile]>\\n<link rel=\"stylesheet\" type=\"text/css\" href=\"/design/tdwi/tdwi/2017/css/mobile.css?v=1\" media=\"screen\" />\\n<![endif]-->\\r\\n\\r\\n\\r\\n\\r\\n    <script> (function () {  _ml = window._ml || {};  _ml.eid = \\'50202\\';  _ml.ht = \\'shex\\';  _ml.em = \\'\\';  _ml.dm = \\'\\';  _ml.informer = { enable: true };  var s = document.getElementsByTagName(\\'script\\')[0], cd = new Date(), mltag = document.createElement(\\'script\\');  mltag.type = \\'text/javascript\\'; mltag.async = true;  mltag.src = \\'//ml314.com/tag.aspx?\\' + cd.getDate() + cd.getMonth() + cd.getFullYear();  s.parentNode.insertBefore(mltag, s);  })(); </script>\\r\\n\\r\\n</head>\\r\\n<body>\\r\\n    <form name=\"form1\" method=\"post\" action=\"dc\" id=\"form1\">\\r\\n<input type=\"hidden\" name=\"__VIEWSTATE\" id=\"__VIEWSTATE\" value=\"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\" />\\r\\n\\r\\n\\r\\n<script src=\"/ScriptResource.axd?d=lA4YcjqYGqEtyoU9SXv1fQNKpBVAd6uY2C59BfMJQTQ9nr7Lr6gxPie6DPWr94TstFBGwfF2UXhKpdYzXUsQ-WVmHM4v8Czi7POlmms2P0tIAYy0_EKlV3DxrXSWozwLP8RJ1gBcASOW15ht9rI28NaFfdkyWcTVyUMRpmy8LWEqVrXz0&amp;t=2e2045e2\" type=\"text/javascript\"></script>\\r\\n<input type=\"hidden\" name=\"__VIEWSTATEGENERATOR\" id=\"__VIEWSTATEGENERATOR\" value=\"1A475F3F\" />\\r\\n        \\r\\n        <div id=\"wrapper\">\\r\\n            \\r\\n            \\r\\n            \\r\\n            \\r\\n            <script type=\"text/javascript\">\\n\\n$(document).ready(function(){ \\n\\n// image\\n  $(\\'a.pup\\').on(\\'click\\', function(e) {\\n    e.preventDefault();\\n\\n    var url = $(this).attr(\\'href\\');\\n    //console.log(url);\\n\\n    var content = \\'<img src=\"\\'+url+\\'\" />\\';\\n\\n    $(\\'#lightbox .content\\').html(content);\\n\\n    $(\\'#lightbox\\').addClass(\\'show\\');\\n\\n  });\\n\\n\\n\\n\\n// youtube\\n  $(\\'a.ytvideo\\').on(\\'click\\', function(e) {\\n    e.preventDefault();\\n    var videoID = $(this).attr(\\'href\\').split(\\'=\\')[1];\\n    console.log(videoID);\\n\\n    var url = \\'https://www.youtube.com/embed/\\'+videoID+\\'?rel=0&autoplay=1\\';\\n    //console.log(url);\\n\\n    var content = \\'<iframe width=\"560\" height=\"315\" frameborder=\"0\" src=\"\\'+url+\\'\"></iframe>\\';\\n\\n    $(\\'#lightbox .content\\').html(content);\\n\\n    $(\\'#lightbox\\').addClass(\\'show\\');\\n\\n  });\\n\\n\\n// Image Zoom\\n\\n $(\\'#lightbox .content\\').on(\\'click\\', \\'img\\', function(e) {\\n    e.preventDefault();\\n    $(this).parent(\\'.content\\').toggleClass(\\'full\\');\\n    //console.log(\\'stop, that tickles\\');\\n  });\\n\\n  $(\\'#lightbox\\').on(\\'click\\', function(e) {\\n    e.preventDefault();\\n    if( e.target !== this) return;\\n    $(\\'#lightbox .content\\').html(\\'\\');\\n    $(this).removeClass(\\'show\\');\\n  });\\n\\n  $(\\'#lightbox .close\\').on(\\'click\\', function(e) {\\n    e.preventDefault();\\n    if( e.target !== this) return;\\n    $(\\'#lightbox .content\\').html(\\'\\');\\n    $(\\'#lightbox\\').removeClass(\\'show\\');\\n  });\\n\\n});\\n\\n\\n</script>\\n\\n<div id=\"lightbox\">\\n  <a href=\"#\" class=\"close\"><span></span><span></span><span></span><span></span></a>\\n  <div class=\"content\"></div>\\n</div>\\r\\n\\r\\n\\r\\n\\r\\n            <header>\\r\\n                <div id=\"ph_header1_0_divBlockBox\" class=\"boxHomeNav\">\\r\\n\\t\\r\\n\\t<div id=\"ph_header1_0_divBody\" class=\"summary\"><a title=\"TDWI Seminars\" href=\"/events/seminars/upcoming.aspx\">&lt; TDWI Seminars</a></div>\\r\\n\\t\\r\\n</div>\\r\\n                <div id=\"ph_header2_0_divBlockBox\" class=\"hdrLogo\">\\r\\n\\t\\r\\n\\t<div id=\"ph_header2_0_divBody\" class=\"summary\"><h1><a href=\"/events/seminars/dc/home.aspx\">TDWI DC Seminar</a></h1></div>\\r\\n\\t\\r\\n</div>\\r\\n                \\r\\n                \\r\\n                \\r\\n                <nav id=\"utilityLinks\">\\r\\n                    \\r\\n                    \\r\\n                    \\r\\n                    \\r\\n                    \\r\\n                </nav>\\r\\n                <nav id=\"mainNavigation\">\\r\\n                    \\r\\n\\r\\n<NOINDEX>\\r\\n\\r\\n<!-- component markup start -->\\r\\n<div class=\\'mainNavigationMenu\\'>\\r\\n    <ul class=\"topnavlist\"><li class=\"\"><a href=\"/events/seminars/dc/home.aspx#agenda\">Agenda</a></li><li class=\"\"><a href=\"/events/seminars/dc/home.aspx#pricing\">Pricing</a></li><li class=\"\"><a href=\"/events/seminars/dc/home.aspx#location\">Location</a></li><li class=\" last\"><a href=\"http://www.eiseverywhere.com/dc18\">Register</a></li></ul>\\r\\n    <br class=\"clear\" />\\r\\n</div>\\r\\n<!-- component markup end -->\\r\\n\\r\\n</NOINDEX>\\r\\n\\r\\n\\r\\n                    \\r\\n                    \\r\\n                    \\r\\n                    \\r\\n                    <div id=\"menu\">\\r\\n                        \\r\\n                        \\r\\n                        \\r\\n                        \\r\\n                        \\r\\n                    </div>       \\r\\n                </nav>\\r\\n            </header>\\r\\n\\t\\r\\n            <div id=\"postHeader\">\\r\\n                <div class=\"bgvideo-container\">\\n<video loop=\"1\" autoplay=\"1\" class=\"bgvideo\" muted>\\n<source src=\"//download.1105media.com/tdwi/events/seminars/DC--shutterstock_v4793540.mp4\" type=\"video/mp4\"></source>\\n</video>\\n</div>\\r\\n\\r\\n\\r\\n\\r\\n                \\r\\n                \\r\\n                \\r\\n                \\r\\n                <div id=\"postHeaderContent\">\\r\\n                    <div id=\"postheadercontent1_0_divBlockBox\" class=\"boxHomeHeader\">\\r\\n\\t\\r\\n\\t<div id=\"postheadercontent1_0_divBody\" class=\"summary\"><h1>Advanced Skills for Big Data Practitioners</h1></div>\\r\\n\\t\\r\\n</div>\\r\\n                    <script type=\"text/javascript\" src=\"/design/TDWI/tdwi/2017/events/seminars/washingtondc/js/jquery.js\"></script>\\r\\n<script type=\"text/javascript\">\\r\\n\\r\\n$(document).ready(function() {\\r\\n\\r\\n$(\\'.presentation\\').on(\\'click\\', function(e) {\\r\\n  e.preventDefault();\\r\\n  $(this).siblings(\\'.abstract\\').slideToggle();\\r\\n});\\r\\n\\r\\nsetInterval(function() {\\t\\r\\nvar now = new Date();\\r\\nvar end = new Date(2018, 4, 1);\\r\\n\\r\\nvar one_day = 1000*60*60*24;\\r\\n\\r\\nvar diff = end.getTime()-now.getTime();\\r\\nvar days = Math.floor((diff)/(1000*60*60*24));\\r\\nvar rem = diff%(1000*60*60*24);\\r\\nvar hours = Math.floor(rem/(1000*60*60));\\r\\nrem = rem%(1000*60*60);\\r\\nvar mins = Math.floor(rem/(1000*60));\\r\\nrem = rem%(1000*60);\\r\\nvar secs = Math.floor(rem/(1000));\\r\\n\\r\\n$(\\'#countdown\\').html(\\'<ul><li>\\'+days+\\'<span>days</span></li><li>\\'+hours+\\'<span>hours</span></li><li>\\'+mins+\\'<span>minutes</span></li><li>\\'+secs+\\'<span>seconds</span></li></ul>\\');\\r\\n\\r\\n}, 1000);\\r\\n\\r\\n\\r\\n});\\r\\n\\r\\n</script>\\r\\n<div class=\"boxRegister\">\\r\\n<!-- <h3>Save 10% through March 30</h3> -->\\r\\n<div class=\"wrap\">\\r\\n<div class=\"arw_1\">Only</div>\\r\\n  <div id=\"countdown\">\\r\\n    <ul>\\r\\n      <li>--<span>days</span></li> \\r\\n      <li>--<span>hours</span></li>\\r\\n      <li>--<span>minutes</span></li>\\r\\n      <li>--<span>seconds</span></li>\\r\\n    </ul>\\r\\n  </div>\\r\\n<div class=\"arw_2\">Left To <br />Register</div>\\r\\n<div><a class=\"cta_btn\" href=\"http://www.eiseverywhere.com/dc18\">Register Now</a></div>\\r\\n</div>\\r\\n</div>\\r\\n\\r\\n\\r\\n\\r\\n                    \\r\\n                    \\r\\n                    \\r\\n                </div>    \\r\\n            </div>\\r\\n    \\r\\n            <div id=\"contentBox\">\\r\\n                <div id=\"contentbox1_0_divBlockBox\" class=\"boxIntro\">\\r\\n\\t\\r\\n\\t<div id=\"contentbox1_0_divBody\" class=\"summary\"><div class=\"intro-logo\">\\n<h1><a href=\"/events/seminars/dc/home.aspx\">TDWI<br>\\nWashington, DC<br>\\nSeminar</a></h1>\\n<h4>April 30&mdash;May 2, 2018</h4>\\n</div>\\n<div class=\"intro-desc\">\\n<p>Big data gets much attention for the changes that it brings to the field of data analytics. It also changes the game for data management practitioners. To achieve a positive return on your big data investment requires strategy that focuses on purpose, people, and process before exploring data and technologies. And anyone who works with data  &ndash; data architects, data engineers, and data analysts &ndash; needs to learn new skills to succeed in the age of big data.</p>\\n<p>In this three-day seminar from TDWI you will learn valuable opportunities and common applications for big data, how to define, refine, and apply a big data roadmap, key considerations to implement machine learning, and hands-on skills with Hadoop.</p>\\n</div></div>\\r\\n\\t\\r\\n</div><div id=\"contentbox1_1_divBlockBox\" class=\"boxExec\">\\r\\n\\t\\r\\n\\t<div id=\"contentbox1_1_divBody\" class=\"summary\"><h3><span><img src=\"https://tdwi.org/design/TDWI/tdwi/2017/img/ico_vc_w.png\" height=\"22\" width=\"25\"> Virtual Classroom</span> - New for 2018!</h3>\\r\\n<p><strong>Can\\'t travel to the seminar? You can join this seminar via our virtual classroom.</strong><a class=\"cta_btn_w\" href=\"#virtual\">Learn More</a></p></div>\\r\\n\\t\\r\\n</div><div id=\"contentbox1_2_divBlockBox\" class=\"boxAgenda\">\\r\\n\\t<h3 id=\"contentbox1_2_h3Header\"><a name=\"agenda\"></a>Agenda</h3>\\r\\n\\t<div id=\"contentbox1_2_divBody\" class=\"summary\"><table width=\"100%\" class=\"agendaTable track1 trackSpeaker\" border=\"0\" cellspacing=\"0\" cellpadding=\"0\">\\r\\n    <tbody>\\r\\n        <tr valign=\"top\">\\r\\n            <th>Seminar Track<br>\\r\\n            </th>\\r\\n        </tr>\\r\\n        <tr>\\r\\n            <td><a href=\"/events/seminars/dc/speakers/speaker-window.aspx?speakerid={a5456aae-3910-4be3-aef2-7a9995f709db}&amp;id={0f98cb11-7e69-46b2-b37e-3f43b6600a89}}\"><img alt=\"\" width=\"105\" height=\"105\" style=\"float: left;\" src=\"/~/media/TDWI/TDWI Events/Images/Speaker_105/krishnan_krish_105.jpg\"></a><a href=\"/events/seminars/dc/speakers/speaker-window.aspx?speakerid={a5456aae-3910-4be3-aef2-7a9995f709db}&amp;id={0f98cb11-7e69-46b2-b37e-3f43b6600a89}\">Krish Krishnan</a><br>\\r\\n            <span style=\"line-height: 10px; font-size: 14px;\">CTO<br>\\r\\n            Ampcus Inc</span> </td>\\r\\n        </tr>\\r\\n    </tbody>\\r\\n</table>\\r\\n<table width=\"100%\" class=\"agendaTable track1\" border=\"0\" cellspacing=\"0\" cellpadding=\"0\">\\r\\n    <tbody>\\r\\n        <tr valign=\"top\">\\r\\n            <th>Monday, April 30<br>\\r\\n            </th>\\r\\n        </tr>\\r\\n        <tr>\\r\\n            <td><a href=\"/events/seminars/dc/sessions/monday/tdwi-big-data-fundamentals-creating-value-from-non-traditional-data-sets.aspx\">TDWI Big Data Fundamentals: Creating Value from Non-Traditional Data Sets</a><br>\\r\\n            <span style=\"font-size: 11px;\">(Click for Full Description)</span> </td>\\r\\n        </tr>\\r\\n        <tr>\\r\\n            <td><a href=\"/events/seminars/dc/sessions/monday/big-data-road-maps.aspx\">Big Data Road Maps</a><br>\\r\\n            <span style=\"font-size: 11px;\">(Click for Full Description)</span> </td>\\r\\n        </tr>\\r\\n    </tbody>\\r\\n</table>\\r\\n<table width=\"100%\" class=\"agendaTable track1\" border=\"0\" cellspacing=\"0\" cellpadding=\"0\">\\r\\n    <tbody>\\r\\n        <tr valign=\"top\">\\r\\n            <th>Tuesday, May 1<br>\\r\\n            </th>\\r\\n        </tr>\\r\\n        <tr>\\r\\n            <td><a href=\"/events/seminars/dc/sessions/tuesday/data-warehousing-in-the-age-of-analytics-and-big-data-hadoop-and-the-data-warehouse.aspx\">Data Warehousing in the Age of Analytics &amp; Big Data: Hadoop and the Data Warehouse</a><br>\\r\\n            <span style=\"font-size: 11px;\">(Click for Full Description)</span> </td>\\r\\n        </tr>\\r\\n        <tr>\\r\\n            <td><a href=\"/events/seminars/dc/sessions/tuesday/machine-and-deep-learning-delivering-insights-from-big-data.aspx\">Machine &amp; Deep Learning: Delivering Insights from Big Data</a><br>\\r\\n            <span style=\"font-size: 11px;\">(Click for Full Description)</span> </td>\\r\\n        </tr>\\r\\n    </tbody>\\r\\n</table>\\r\\n<table width=\"100%\" class=\"agendaTable track1\" border=\"0\" cellspacing=\"0\" cellpadding=\"0\">\\r\\n    <tbody>\\r\\n        <tr valign=\"top\">\\r\\n            <th>Wednesday, May 2<br>\\r\\n            </th>\\r\\n        </tr>\\r\\n        <tr>\\r\\n            <td><a href=\"/events/seminars/dc/sessions/wednesday/hands-on-hadoop.aspx\">Hands-on Hadoop</a><br>\\r\\n            <span style=\"font-size: 11px;\">(Click for Full Description)</span> </td>\\r\\n        </tr>\\r\\n        <tr>\\r\\n            <td><a href=\"/events/seminars/dc/sessions/wednesday/workshop-big-data-implementation.aspx\">Workshop: Big Data Implementation</a><br>\\r\\n            <span style=\"font-size: 11px;\">(Click for Full Description)</span> </td>\\r\\n        </tr>\\r\\n    </tbody>\\r\\n</table></div>\\r\\n\\t\\r\\n</div><div id=\"contentbox1_3_divBlockBox\" class=\"boxReminder\">\\r\\n\\t<h3 id=\"contentbox1_3_h3Header\">Reserve your spot at the seminar today!</h3>\\r\\n\\t\\r\\n\\t<p id=\"contentbox1_3_pFooter\" class=\"footer\"><a href=\"http://www.eiseverywhere.com/dc18\">Register Now</a></p>\\r\\n</div><div id=\"contentbox1_4_divBlockBox\" class=\"boxPricing\">\\r\\n\\t<h3 id=\"contentbox1_4_h3Header\"><a name=\"pricing\"></a>Pricing</h3>\\r\\n\\t<div id=\"contentbox1_4_divBody\" class=\"summary\"><table width=\"100%\" class=\"pricingTable\" cellspacing=\"0\" cellpadding=\"5\">\\r\\n    <tbody>\\r\\n        <tr>\\r\\n            <th class=\"color\" style=\"width: 22%;\"> </th>\\r\\n            <th class=\"color\" valign=\"top\" style=\"width: 26%;\">Super Early Bird Registration <span>(Save 20% by Mar 9)</span></th>\\r\\n            <th class=\"color\" valign=\"top\" style=\"width: 26%;\">Early Bird Registration <span>(Save 10% by Mar 30)</span></th>\\r\\n            <th class=\"color\" valign=\"top\" style=\"width: 26%;\">Regular Registration</th>\\r\\n        </tr>\\r\\n        <tr>\\r\\n            <td class=\"tableBorder\" valign=\"top\">1-Day Package</td>\\r\\n            <td class=\"tableBorder\" valign=\"top\">$792</td>\\r\\n            <td class=\"tableBorder\" valign=\"top\">$891</td>\\r\\n            <td class=\"tableBorder\" valign=\"top\">$990</td>\\r\\n        </tr>\\r\\n        <tr>\\r\\n            <td class=\"tableBorder\" valign=\"top\">2-Day Package</td>\\r\\n            <td class=\"tableBorder\" valign=\"top\">$1,424</td>\\r\\n            <td class=\"tableBorder\" valign=\"top\">$1,602</td>\\r\\n            <td class=\"tableBorder\" valign=\"top\">$1,780</td>\\r\\n        </tr>\\r\\n        <tr>\\r\\n            <td class=\"tableBorder\" valign=\"top\">3-Day Package</td>\\r\\n            <td class=\"tableBorder\" valign=\"top\">$1,800</td>\\r\\n            <td class=\"tableBorder\" valign=\"top\">$2,025</td>\\r\\n            <td class=\"tableBorder\" valign=\"top\">$2,250</td>\\r\\n        </tr>\\r\\n    </tbody>\\r\\n</table>\\r\\n<p class=\"footnote\"><strong>MEMBER DISCOUNT</strong>: Receive a 10% discount on your registration. Membership status will be validated when your registration is processed.<br>Part of a team of 3 or more? Use promo code TEAM to receive an additional 10% off for each member of your group.</p></div>\\r\\n\\t\\r\\n</div><div id=\"contentbox1_5_divBlockBox\" class=\"boxHotel\">\\r\\n\\t<h3 id=\"contentbox1_5_h3Header\"><a name=\"location\"></a></h3>\\r\\n\\t<div id=\"contentbox1_5_divBody\" class=\"summary\"><figure>\\r\\n<img alt=\"\" width=\"600\" height=\"300\" src=\"/~/media/TDWI/TDWI Events/2018/dc_night_600x300.jpg\">\\r\\n<figcaption>Washington, DC</figcaption>\\r\\n</figure>\\r\\n<h3>Venue Location</h3>\\r\\n<p>MicroTek Training Center<br>\\r\\n1110 Vermont Avenue NW<br>\\r\\nSuite 700<br>\\r\\nWashington, DC 20005</p>\\r\\n<p style=\"clear: both;\"><strong>Hotels</strong></p>\\r\\n<p><a href=\"http://homewoodsuites.hilton.com/en/hw/reservations/index.jhtml?hotel=WASHWHW&amp;corporateCode=560005254\" class=\"cta_btn\" target=\"_blank\">Homewood Suites</a>&nbsp;<a href=\"http://www.crowneplaza.com/redirect?path=hd&amp;brandCode=cp&amp;localeCode=en&amp;regionCode=1&amp;hotelCode=WASKS&amp;rateCode=ILUFI&amp;_PMID=99502056\" class=\"cta_btn\" target=\"_blank\">Hamilton Hotel</a>&nbsp;<a href=\"https://www.clubquartershotels.com/microtek\" class=\"cta_btn\" target=\"_blank\">Club Quarters</a>&nbsp;<a href=\"https://gc.synxis.com/rez.aspx?Hotel=56825&amp;Chain=10179&amp;promo=MIK\" class=\"cta_btn\" target=\"_blank\">Donovan House</a>&nbsp;<a href=\"https://www.reservations-page.com/C00519/H11149/be.ashx?pc=MICROTEK\" class=\"cta_btn\" target=\"_blank\">Washington Plaza Hotel</a><br>\\r\\n<a href=\"https://www.mclabs.com/room-rentals/microtek-washington-dc/\" style=\"font-size: 12px;\" target=\"_blank\">Additional Information</a></p></div>\\r\\n\\t\\r\\n</div><div id=\"contentbox1_6_divBlockBox\" class=\"boxVirtual\">\\r\\n\\t<h3 id=\"contentbox1_6_h3Header\"><a name=\"virtual\"></a></h3>\\r\\n\\t<div id=\"contentbox1_6_divBody\" class=\"summary\"><figure><img alt=\"\" width=\"600\" height=\"300\" src=\"/~/media/TDWI/TDWI Events/2017/seminars_virtual_location.jpg\"><figcaption>Virtual Classroom</figcaption></figure>\\r\\n<h3><img src=\"https://tdwi.org/design/TDWI/tdwi/2017/img/ico_vc.png\" style=\"float:left;\" height=\"90\" width=\"104\">About the Virtual Classroom</h3>\\r\\n<p>TDWI has partnered with MicroTek to offer virtual classroom opportunities to our students at several of our 2018 Seminars. The Virtual Training Room enables remote attendees to experience the benefits of instructor-led training without having to travel. Remote participants experience the same collaboration, instructor interaction and learning benefits as those who are physically in the classroom. TDWI&rsquo;s Virtual Training Room technology allows all students to:</p>\\r\\n<ul>\\r\\n    <li>See and hear everything that is taking place in the live classroom</li>\\r\\n    <li>Raise their hands and ask questions</li>\\r\\n    <li>View and interact with course content (presentations, videos, whiteboard notes and more)</li>\\r\\n    <li>Allows for real-time collaboration </li>\\r\\n</ul>\\r\\n<p><a href=\"https://www.youtube.com/watch?v=7Oz248ROaNY\" target=\"_blank\" class=\"cta_btn\">Virtual Training Room from the Learner\\'s Perspective (Video)</a></p>\\r\\n<h4>Virtual Classroom Requirements</h4>\\r\\n<p>All remote users need to participate in a Virtual Training Room event is a computer with camera, wired Internet connection, speakers and a microphone &mdash; it&rsquo;s that easy.</p></div>\\r\\n\\t\\r\\n</div>\\r\\n                \\r\\n                \\r\\n                \\r\\n                \\r\\n                <div id=\"lContent\">\\r\\n                    \\r\\n                    \\r\\n                    \\r\\n                    \\r\\n                    \\r\\n                </div>\\r\\n                <section id=\"contentA\">\\r\\n                    \\r\\n                    \\r\\n                    \\r\\n                    \\r\\n                    \\r\\n                </section>\\r\\n                <section id=\"contentB\">\\r\\n                    \\r\\n                    \\r\\n                    \\r\\n                    \\r\\n                    \\r\\n                </section>\\r\\n                <section id=\"contentC\">\\r\\n                    \\r\\n                    \\r\\n                    \\r\\n                    \\r\\n                    \\r\\n                </section>\\r\\n                <section id=\"contentD\">\\r\\n                    \\r\\n                    \\r\\n                    \\r\\n                    \\r\\n                    \\r\\n                </section>\\r\\n                <section id=\"contentE\">\\r\\n                    \\r\\n                    \\r\\n                    \\r\\n                    \\r\\n                    \\r\\n                </section>\\r\\n                <section id=\"contentF\">\\r\\n                    \\r\\n                    \\r\\n                    \\r\\n                    \\r\\n                                        \\r\\n                </section>\\r\\n                <section id=\"contentG\">\\r\\n                    \\r\\n                    \\r\\n                    \\r\\n                    \\r\\n                     \\r\\n                </section>\\r\\n                <aside id=\"rContent\">\\r\\n                    \\r\\n                    \\r\\n                    \\r\\n                    \\r\\n                    \\r\\n                </aside>\\r\\n            </div>\\r\\n            <div id=\"prefooter\">\\r\\n                <div class=\"boxEmail\">\\n<h3> Subscribe to Receive seminar updates via email</h3>\\n   <div class=\"email_form\">\\n    <iframe scrolling=\"no\" class=\"marketo\" src=\"/design/TDWI/tdwi/2017/events/marketo/forms/washingtondc-seminar-marketo-email-capture.html\" target=\"_parent\"></iframe>\\n  </div>\\n</div>\\r\\n\\r\\n\\r\\n\\r\\n                \\r\\n                \\r\\n                \\r\\n                \\r\\n            </div>\\r\\n            <footer>\\r\\n                <script>\\n$(document).ready(function(){\\n  $(\\'#menu\\').html(\\'<span></span><span></span><span></span><span></span>\\');\\n  $(\\'#mainNavigation #menu\\').click(function(){\\n    $(\\'#mainNavigation,#utilityLinks\\').toggleClass(\\'open\\');\\n  });\\n});\\n</script>\\r\\n\\r\\n\\r\\n<div class=\"logos\">\\n\\t<a href=\"https://tdwi.org\" target=\"_blank\" class=\"tdwi\"></a>\\n    <a href=\"https://1105media.com\" target=\"_blank\" class=\"media\"></a>\\n</div>\\r\\n\\r\\n\\r\\n<div class=\"follow\">\\n\\t<h3>FOLLOW TDWI</h3>\\n\\t<ul class=\"stayConnected\">\\n        <li class=\"linkedin\"><a href=\"https://tdwi.org/linkedin\" target=\"_blank\">LinkedIn</a></li>\\n        <li class=\"twitter\"><a href=\"https://tdwi.org/twitter\" target=\"_blank\">Twitter</a></li>\\n        <li class=\"facebook\"><a href=\"https://tdwi.org/facebook\" target=\"_blank\">Facebook</a></li>\\n        <li class=\"gplus\"><a href=\"https://plus.google.com/+TdwiOrg?rel=publisher\"  target=\"_blank\">Google+</a></li>\\n        <li class=\"youtube\"><a href=\"https://tdwi.org/youtube\" target=\"_blank\">YouTube</a></li>\\n        <li class=\"instagram\"><a href=\"https://tdwi.org/instagram\" target=\"_blank\">Instagram</a></li>\\n\\t</ul>\\n</div>\\r\\n\\r\\n\\r\\n\\r\\n                \\r\\n\\r\\n<NOINDEX>\\r\\n\\r\\n</NOINDEX>\\r\\n\\r\\n<div id=\"ph_footer2_1_divBlockBox\" class=\"boxFooterReg\">\\r\\n\\t<h3 id=\"ph_footer2_1_h3Header\">TDWI DC Seminar</h3>\\r\\n\\t<div id=\"ph_footer2_1_divBody\" class=\"summary\"><p>MicroTek Training Center<br>\\r\\n1110 Vermont Avenue NW<br>\\r\\nSuite 700<br>\\r\\nWashington, DC 20005<br>\\r\\nApril 30&ndash;May 2</p></div>\\r\\n\\t<p id=\"ph_footer2_1_pFooter\" class=\"footer\"><a href=\"http://www.eiseverywhere.com/dc18\">Register Now</a></p>\\r\\n</div>\\r\\n                \\r\\n                \\r\\n                \\r\\n\\r\\n\\r\\n<div class=\"app\">\\n<h3>EVENT APP</h3>\\n<ul>\\n    <li><a href=\"https://itunes.apple.com/us/app/tdwi/id1111317486?ls=1&amp;mt=8\" target=\"_blank\"><img alt=\"Download on the App Store\" src=\"/design/tdwi/tdwi/2017/img/badge_apple_app_store.png\" /></a></li>\\n    <li><a href=\"https://play.google.com/store/apps/details?id=com.pathable.tdwi&amp;pcampaignid=MKT-Other-global-all-co-prtnr-py-PartBadge-Mar2515-1\" target=\"_blank\"><img alt=\"Get it on Google Play\" src=\"/design/tdwi/tdwi/2017/img/badge_google_play_store.png\" /></a></li>\\n</ul>\\n</div>\\r\\n\\r\\n\\r\\n<!-- Crazyegg heatmap code -->\\n<script type=\"text/javascript\">\\nsetTimeout(function(){var a=document.createElement(\"script\");\\nvar b=document.getElementsByTagName(\\'script\\')[0];\\na.src=document.location.protocol+\"//dnn506yrbagrg.cloudfront.net/pages/scripts/0012/7598.js?\"+Math.floor(new Date().getTime()/3600000);\\na.async=true;a.type=\"text/javascript\";b.parentNode.insertBefore(a,b)}, 1);\\n</script>\\n\\n\\n\\n\\n\\r\\n\\r\\n\\r\\n<!-- RTP tag --> \\n<script type=\\'text/javascript\\'>\\n(function(c,h,a,f,i,e){c[a]=c[a]||function(){(c[a].q=c[a].q||[]).push(arguments)};\\n c[a].a=i;c[a].e=e;var g=h.createElement(\"script\");g.async=true;g.type=\"text/javascript\";\\n g.src=f+\\'?aid=\\'+i;var b=h.getElementsByTagName(\"script\")[0];b.parentNode.insertBefore(g,b);\\n })(window,document,\"rtp\",\"//sjrtp4-cdn.marketo.com/rtp-api/v1/rtp.js\",\"tdwi\");\\n \\nrtp(\\'send\\',\\'view\\');\\nrtp(\\'get\\', \\'campaign\\',true);\\n</script>\\n<!-- End of RTP tag -->\\n\\n\\n<!-- Start Marketo Munchkin Code -->\\n<script type=\"text/javascript\">\\n(function() {\\nvar didInit = false;\\nfunction initMunchkin() {\\nif(didInit === false) {\\ndidInit = true;\\nMunchkin.init(\\'626-EMC-557\\', {\"asyncOnly\":true, \"domainLevel\":2});\\n}\\n}\\nvar s = document.createElement(\\'script\\');\\ns.type = \\'text/javascript\\';\\ns.async = true;\\ns.src = \\'//munchkin.marketo.net/munchkin.js\\';\\ns.onreadystatechange = function() {\\nif (this.readyState == \\'complete\\' || this.readyState == \\'loaded\\') {\\ninitMunchkin();\\n}\\n};\\ns.onload = initMunchkin;\\ndocument.getElementsByTagName(\\'head\\')[0].appendChild(s);\\n})();\\n</script> \\n<!-- End Marketo Munchkin Code -->\\r\\n\\r\\n\\r\\n<!-- Start Google Code for Remarketing Tag -->\\n\\n<script type=\"text/javascript\">\\n/* <![CDATA[ */\\nvar google_conversion_id = 910527071;\\nvar google_custom_params = window.google_tag_params;\\nvar google_remarketing_only = true;\\n/* ]]> */\\n</script>\\n<script type=\"text/javascript\" src=\"//www.googleadservices.com/pagead/conversion.js\">\\n</script>\\n<noscript>\\n<div style=\"display:inline;width:1px;height:1px;\">\\n<img height=\"1\" width=\"1\" style=\"border-style:none;\" alt=\"\" src=\"//googleads.g.doubleclick.net/pagead/viewthroughconversion/910527071/?value=0&amp;guid=ON&amp;script=0\"/>\\n</div>\\n</noscript>\\n\\n<!-- End Google Code for Remarketing Tag -->\\n\\n<!-- Start Google Code for Ad Blocker -->\\n    <script> \\n      \\n      window.onload = function() { \\n      \\n        // Delay to allow the async Google Ads to load\\n        setTimeout(function() { \\n          \\n          // Get the first AdSense ad unit on the page\\n          var ad = document.querySelector(\"ins.adsbygoogle\");\\n          \\n          // If the ads are not loaded, track the event\\n          if (ad && ad.innerHTML.replace(/\\\\s/g, \"\").length == 0) {\\n     \\n            if (typeof ga !== \\'undefined\\') {\\n     \\n                // Log an event in Universal Analytics\\n                // but without affecting overall bounce rate\\n                ga(\\'send\\', \\'event\\', \\'Adblock\\', \\'Yes\\', {\\'nonInteraction\\': 1}); \\n     \\n            } else if (typeof _gaq !== \\'undefined\\') {\\n     \\n                // Log a non-interactive event in old Google Analytics\\n                _gaq.push([\\'_trackEvent\\', \\'Adblock\\', \\'Yes\\', undefined, undefined, true]);\\n     \\n            }\\n          }\\n        }, 2000); // Run ad block detection 2 seconds after page load\\n      }; \\n      \\n    </script>\\n\\n<!-- End Google Code for Ad Blocker -->\\r\\n\\r\\n\\r\\n<!-- Facebook Conversion Code for Visits Pricing Page of Event Web Site -->\\n<script>(function() {\\n  var _fbq = window._fbq || (window._fbq = []);\\n  if (!_fbq.loaded) {\\n    var fbds = document.createElement(\\'script\\');\\n    fbds.async = true;\\n    fbds.src = \\'//connect.facebook.net/en_US/fbds.js\\';\\n    var s = document.getElementsByTagName(\\'script\\')[0];\\n    s.parentNode.insertBefore(fbds, s);\\n    _fbq.loaded = true;\\n  }\\n})();\\nwindow._fbq = window._fbq || [];\\nwindow._fbq.push([\\'track\\', \\'6020145320236\\', {\\'value\\':\\'0.00\\',\\'currency\\':\\'USD\\'}]);\\n</script>\\n<noscript><img height=\"1\" width=\"1\" alt=\"\" style=\"display:none\" src=\"https://www.facebook.com/tr?ev=6020145320236&cd[value]=0.00&amp;cd[currency]=USD&amp;noscript=1\" /></noscript>\\r\\n\\r\\n\\r\\n<script>(function() {\\n  var _fbq = window._fbq || (window._fbq = []);\\n  if (!_fbq.loaded) {\\n    var fbds = document.createElement(\\'script\\');\\n    fbds.async = true;\\n    fbds.src = \\'//connect.facebook.net/en_US/fbds.js\\';\\n    var s = document.getElementsByTagName(\\'script\\')[0];\\n    s.parentNode.insertBefore(fbds, s);\\n    _fbq.loaded = true;\\n  }\\n  _fbq.push([\\'addPixelId\\', \\'407773706048385\\']);\\n})();\\nwindow._fbq = window._fbq || [];\\nwindow._fbq.push([\\'track\\', \\'PixelInitialized\\', {}]);\\n</script>\\n<noscript><img height=\"1\" width=\"1\" alt=\"\" style=\"display:none\" src=\"https://www.facebook.com/tr?id=407773706048385&ev=PixelInitialized\" /></noscript>\\r\\n\\r\\n\\r\\n<script type=\"text/javascript\">\\nvar axel = Math.random() + \"\";\\nvar a = axel * 10000000000000;\\ndocument.write(\\'<img src=\"http://ad.doubleclick.net/ddm/activity/src=4619205;type=1105t0;cat=tdwib0;ord=\\' + a + \\'?\" width=\"1\" height=\"1\" alt=\"\"/>\\');\\n</script>\\n<noscript>\\n<img src=\"http://ad.doubleclick.net/ddm/activity/src=4619205;type=1105t0;cat=tdwib0;ord=1?\" width=\"1\" height=\"1\" alt=\"\"/>\\n</noscript>\\r\\n\\r\\n\\r\\n<!-- begin SnapEngage code -->\\n<script type=\"text/javascript\">\\n  (function() {\\n    var se = document.createElement(\\'script\\'); se.type = \\'text/javascript\\'; se.async = true;\\n    se.src = \\'//storage.googleapis.com/code.snapengage.com/js/94e58518-4843-4066-be94-4b7a126abeb1.js\\';\\n    var done = false;\\n    se.onload = se.onreadystatechange = function() {\\n      if (!done&&(!this.readyState||this.readyState===\\'loaded\\'||this.readyState===\\'complete\\')) {\\n        done = true;\\n        /* Place your SnapEngage JS API code below */\\n        /* SnapEngage.allowChatSound(true); Example JS API: Enable sounds for Visitors. */\\n      }\\n    };\\n    var s = document.getElementsByTagName(\\'script\\')[0]; s.parentNode.insertBefore(se, s);\\n  })();\\n</script>\\n<!-- end SnapEngage code -->\\r\\n\\r\\n\\r\\n\\r\\n            </footer>\\r\\n        </div>\\r\\n    \\r\\n\\r\\n<script type=\"text/javascript\">\\r\\n//<![CDATA[\\r\\nSys.Application.initialize();\\r\\n//]]>\\r\\n</script>\\r\\n</form>\\r\\n</body>\\r\\n</html>'"
      ]
     },
     "execution_count": 5,
     "metadata": {},
     "output_type": "execute_result"
    }
   ],
   "source": [
    "webpage"
   ]
  },
  {
   "cell_type": "code",
   "execution_count": 6,
   "metadata": {
    "collapsed": false
   },
   "outputs": [],
   "source": [
    "schedule = BeautifulSoup(webpage,'html.parser')"
   ]
  },
  {
   "cell_type": "code",
   "execution_count": 7,
   "metadata": {
    "collapsed": false
   },
   "outputs": [
    {
     "data": {
      "text/plain": [
       "[<a class=\"close\" href=\"#\"><span></span><span></span><span></span><span></span></a>,\n",
       " <a href=\"/events/seminars/upcoming.aspx\" title=\"TDWI Seminars\">&lt; TDWI Seminars</a>,\n",
       " <a href=\"/events/seminars/dc/home.aspx\">TDWI DC Seminar</a>,\n",
       " <a href=\"/events/seminars/dc/home.aspx#agenda\">Agenda</a>,\n",
       " <a href=\"/events/seminars/dc/home.aspx#pricing\">Pricing</a>,\n",
       " <a href=\"/events/seminars/dc/home.aspx#location\">Location</a>,\n",
       " <a href=\"http://www.eiseverywhere.com/dc18\">Register</a>,\n",
       " <a class=\"cta_btn\" href=\"http://www.eiseverywhere.com/dc18\">Register Now</a>,\n",
       " <a href=\"/events/seminars/dc/home.aspx\">TDWI<br>\n",
       " Washington, DC<br>\n",
       " Seminar</br></br></a>,\n",
       " <a class=\"cta_btn_w\" href=\"#virtual\">Learn More</a>,\n",
       " <a href=\"/events/seminars/dc/speakers/speaker-window.aspx?speakerid={a5456aae-3910-4be3-aef2-7a9995f709db}&amp;id={0f98cb11-7e69-46b2-b37e-3f43b6600a89}}\"><img alt=\"\" height=\"105\" src=\"/~/media/TDWI/TDWI Events/Images/Speaker_105/krishnan_krish_105.jpg\" style=\"float: left;\" width=\"105\"/></a>,\n",
       " <a href=\"/events/seminars/dc/speakers/speaker-window.aspx?speakerid={a5456aae-3910-4be3-aef2-7a9995f709db}&amp;id={0f98cb11-7e69-46b2-b37e-3f43b6600a89}\">Krish Krishnan</a>,\n",
       " <a href=\"/events/seminars/dc/sessions/monday/tdwi-big-data-fundamentals-creating-value-from-non-traditional-data-sets.aspx\">TDWI Big Data Fundamentals: Creating Value from Non-Traditional Data Sets</a>,\n",
       " <a href=\"/events/seminars/dc/sessions/monday/big-data-road-maps.aspx\">Big Data Road Maps</a>,\n",
       " <a href=\"/events/seminars/dc/sessions/tuesday/data-warehousing-in-the-age-of-analytics-and-big-data-hadoop-and-the-data-warehouse.aspx\">Data Warehousing in the Age of Analytics &amp; Big Data: Hadoop and the Data Warehouse</a>,\n",
       " <a href=\"/events/seminars/dc/sessions/tuesday/machine-and-deep-learning-delivering-insights-from-big-data.aspx\">Machine &amp; Deep Learning: Delivering Insights from Big Data</a>,\n",
       " <a href=\"/events/seminars/dc/sessions/wednesday/hands-on-hadoop.aspx\">Hands-on Hadoop</a>,\n",
       " <a href=\"/events/seminars/dc/sessions/wednesday/workshop-big-data-implementation.aspx\">Workshop: Big Data Implementation</a>,\n",
       " <a href=\"http://www.eiseverywhere.com/dc18\">Register Now</a>,\n",
       " <a class=\"cta_btn\" href=\"http://homewoodsuites.hilton.com/en/hw/reservations/index.jhtml?hotel=WASHWHW&amp;corporateCode=560005254\" target=\"_blank\">Homewood Suites</a>,\n",
       " <a class=\"cta_btn\" href=\"http://www.crowneplaza.com/redirect?path=hd&amp;brandCode=cp&amp;localeCode=en&amp;regionCode=1&amp;hotelCode=WASKS&amp;rateCode=ILUFI&amp;_PMID=99502056\" target=\"_blank\">Hamilton Hotel</a>,\n",
       " <a class=\"cta_btn\" href=\"https://www.clubquartershotels.com/microtek\" target=\"_blank\">Club Quarters</a>,\n",
       " <a class=\"cta_btn\" href=\"https://gc.synxis.com/rez.aspx?Hotel=56825&amp;Chain=10179&amp;promo=MIK\" target=\"_blank\">Donovan House</a>,\n",
       " <a class=\"cta_btn\" href=\"https://www.reservations-page.com/C00519/H11149/be.ashx?pc=MICROTEK\" target=\"_blank\">Washington Plaza Hotel</a>,\n",
       " <a href=\"https://www.mclabs.com/room-rentals/microtek-washington-dc/\" style=\"font-size: 12px;\" target=\"_blank\">Additional Information</a>,\n",
       " <a class=\"cta_btn\" href=\"https://www.youtube.com/watch?v=7Oz248ROaNY\" target=\"_blank\">Virtual Training Room from the Learner's Perspective (Video)</a>,\n",
       " <a class=\"tdwi\" href=\"https://tdwi.org\" target=\"_blank\"></a>,\n",
       " <a class=\"media\" href=\"https://1105media.com\" target=\"_blank\"></a>,\n",
       " <a href=\"https://tdwi.org/linkedin\" target=\"_blank\">LinkedIn</a>,\n",
       " <a href=\"https://tdwi.org/twitter\" target=\"_blank\">Twitter</a>,\n",
       " <a href=\"https://tdwi.org/facebook\" target=\"_blank\">Facebook</a>,\n",
       " <a href=\"https://plus.google.com/+TdwiOrg?rel=publisher\" target=\"_blank\">Google+</a>,\n",
       " <a href=\"https://tdwi.org/youtube\" target=\"_blank\">YouTube</a>,\n",
       " <a href=\"https://tdwi.org/instagram\" target=\"_blank\">Instagram</a>,\n",
       " <a href=\"http://www.eiseverywhere.com/dc18\">Register Now</a>,\n",
       " <a href=\"https://itunes.apple.com/us/app/tdwi/id1111317486?ls=1&amp;mt=8\" target=\"_blank\"><img alt=\"Download on the App Store\" src=\"/design/tdwi/tdwi/2017/img/badge_apple_app_store.png\"/></a>,\n",
       " <a href=\"https://play.google.com/store/apps/details?id=com.pathable.tdwi&amp;pcampaignid=MKT-Other-global-all-co-prtnr-py-PartBadge-Mar2515-1\" target=\"_blank\"><img alt=\"Get it on Google Play\" src=\"/design/tdwi/tdwi/2017/img/badge_google_play_store.png\"/></a>]"
      ]
     },
     "execution_count": 7,
     "metadata": {},
     "output_type": "execute_result"
    }
   ],
   "source": [
    "schedule.find_all('a',href=True)"
   ]
  },
  {
   "cell_type": "code",
   "execution_count": 8,
   "metadata": {
    "collapsed": true
   },
   "outputs": [],
   "source": [
    "base_url = \"https://tdwi.org\""
   ]
  },
  {
   "cell_type": "code",
   "execution_count": 9,
   "metadata": {
    "collapsed": true
   },
   "outputs": [],
   "source": [
    "urls = [base_url+a['href'] for a in schedule.find_all('a', href=True)  if 'dc/sessions' in a['href']]"
   ]
  },
  {
   "cell_type": "code",
   "execution_count": 10,
   "metadata": {
    "collapsed": false
   },
   "outputs": [
    {
     "data": {
      "text/plain": [
       "['https://tdwi.org/events/seminars/dc/sessions/monday/tdwi-big-data-fundamentals-creating-value-from-non-traditional-data-sets.aspx',\n",
       " 'https://tdwi.org/events/seminars/dc/sessions/monday/big-data-road-maps.aspx',\n",
       " 'https://tdwi.org/events/seminars/dc/sessions/tuesday/data-warehousing-in-the-age-of-analytics-and-big-data-hadoop-and-the-data-warehouse.aspx',\n",
       " 'https://tdwi.org/events/seminars/dc/sessions/tuesday/machine-and-deep-learning-delivering-insights-from-big-data.aspx',\n",
       " 'https://tdwi.org/events/seminars/dc/sessions/wednesday/hands-on-hadoop.aspx',\n",
       " 'https://tdwi.org/events/seminars/dc/sessions/wednesday/workshop-big-data-implementation.aspx']"
      ]
     },
     "execution_count": 10,
     "metadata": {},
     "output_type": "execute_result"
    }
   ],
   "source": [
    "urls"
   ]
  },
  {
   "cell_type": "markdown",
   "metadata": {},
   "source": [
    "### Scrape the page where there is an abstract"
   ]
  },
  {
   "cell_type": "code",
   "execution_count": 11,
   "metadata": {
    "collapsed": false
   },
   "outputs": [
    {
     "data": {
      "text/plain": [
       "'https://tdwi.org/events/seminars/dc/sessions/monday/tdwi-big-data-fundamentals-creating-value-from-non-traditional-data-sets.aspx'"
      ]
     },
     "execution_count": 11,
     "metadata": {},
     "output_type": "execute_result"
    }
   ],
   "source": [
    "urls[0]"
   ]
  },
  {
   "cell_type": "markdown",
   "metadata": {},
   "source": [
    "### Preprocessing Function 3 - url"
   ]
  },
  {
   "cell_type": "code",
   "execution_count": 105,
   "metadata": {
    "collapsed": false
   },
   "outputs": [],
   "source": [
    "abstract_webpage = request.urlopen(urls[5]).read()"
   ]
  },
  {
   "cell_type": "markdown",
   "metadata": {},
   "source": [
    "### _______________________________"
   ]
  },
  {
   "cell_type": "code",
   "execution_count": 106,
   "metadata": {
    "collapsed": false
   },
   "outputs": [
    {
     "data": {
      "text/plain": [
       "b' \\r\\n\\r\\n<!DOCTYPE html>\\r\\n<html>\\r\\n<head>\\r\\n    \\r\\n<title>Workshop: Big Data Implementation | Transforming Data with Intelligence</title>\\r\\n<meta name=\"description\" content=\"TDWI leader in analytics, business intelligence, and data management education, training, and research.\">\\r\\n<meta name=\"keywords\" content=\"analytics, data management, data science, data warehousing, business intelligence, the data warehousing institute, tdwi, certified business intelligence professionals, cbip, world conferences, business intelligence journal\">\\r\\n\\r\\n<meta property=\"og:title\" content=\"Workshop: Big Data Implementation | Transforming Data with Intelligence\" />\\r\\n<meta property=\"og:description\" content=\"\" />\\r\\n<meta property=\"og:url\" content=\"https://tdwi.org/events/seminars/dc/sessions/wednesday/workshop-big-data-implementation.aspx\" />\\r\\n<meta property=\"og:image\" content=\"\" />\\r\\n<meta property=\"og:site_name\" content=\"Transforming Data with Intelligence\" />\\r\\n\\r\\n    <!-- BEGIN Google Partner Tag HEAD CODE -->\\r\\n<script type=\\'text/javascript\\'>\\r\\n(function(){\\r\\nvar useSSL = \\'https:\\' == document.location.protocol;\\r\\nvar src = (useSSL ? \\'https:\\' : \\'http:\\') + \\'//www.googletagservices.com/tag/js/gpt.js\\';\\r\\ndocument.write(\\'<scr\\' + \\'ipt src=\"\\' + src + \\'\"></scr\\' + \\'ipt>\\');\\r\\n})();\\r\\n</script>\\r\\n<!-- END Google Partner Tag HEAD CODE -->\\r\\n\\r\\n    <link rel=\"stylesheet\" href=\"/design/tdwi/tdwi/2017/events/css/components.css?v=1\" />\\n<link rel=\"stylesheet\" href=\"/design/tdwi/tdwi/2017/events/css/events.css?v=1\" />\\n\\r\\n\\r\\n\\r\\n<script type=\\'application/ld+json\\'>\\n{\"@context\":\"http:\\\\/\\\\/schema.org\",\"@type\":\"WebSite\",\"url\":\"https:\\\\/\\\\/tdwi.org\",\"name\":\"Transforming Data with Intelligence\",\"alternateName\":\"TDWI\",\"potentialAction\":{\"@type\":\"SearchAction\",\"target\":\"https:\\\\/\\\\/tdwi.org\\\\/Forms\\\\/Search-Results.aspx?query={search_term_string}\",\"query-input\":\"required name=search_term_string\"}}</script>\\n\\n<script type=\"application/ld+json\">\\n{\\n  \"@context\": \"http:\\\\/\\\\/schema.org\",\\n  \"@type\": \"Organization\",\\n  \"name\": \"Transforming Data with Intelligence\",\\n  \"alternateName\": \"TDWI\",\\n  \"url\": \"https://tdwi.org\",\\n  \"sameAs\": [\\n    \"https://www.linkedin.com/company-beta/220146/\",\\n    \"https://twitter.com/TDWI\",\\n    \"https://www.facebook.com/TDWI.allthingsdata\",\\n    \"https://plus.google.com/+TdwiOrg?rel=publisher\",\\n    \"https://www.youtube.com/user/TDWI1995\",\\n    \"https://www.instagram.com/tdwilive/\"\\n  ]\\n}\\n</script>\\n\\n<!-- Google fonts -->\\n<link rel=\"stylesheet\" href=\"https://fonts.googleapis.com/css?family=PT+Serif\">\\n<!-- fa fonts -->\\n<link rel=\"stylesheet\" href=\"/design/TDWI/tdwi/2017/css/font-awesome.css\">\\n<link rel=\"stylesheet\" href=\"/design/TDWI/tdwi/2017/css/font-awesome.min.css\">\\n\\n<!-- web fonts -->\\n<script type=\"text/javascript\">\\n    var MTUserId=\\'9dbecaba-f0e3-439e-b270-2bb8b886aa76\\';\\n    var MTFontIds = new Array();\\n\\n    MTFontIds.push(\"5199694\"); // Avenir\\xc2\\xae Next W05 Paneuropean Bold \\n    MTFontIds.push(\"5226623\"); // Avenir\\xc2\\xae Next W05 Paneuropean Medium \\n    (function() {\\n        var mtTracking = document.createElement(\\'script\\');\\n        mtTracking.type=\\'text/javascript\\';\\n        mtTracking.async=\\'true\\';\\n        mtTracking.src=\\'mtiFontTrackingCode.js\\';\\n\\n        (document.getElementsByTagName(\\'head\\')[0]||document.getElementsByTagName(\\'body\\')[0]).appendChild(mtTracking);\\n    })();\\n</script>\\n\\n<style type=\"text/css\">\\n    @font-face{\\n        font-family:\"Avenir Next W05 Bold\";\\n        src:url(\"/design/TDWI/tdwi/2017/fonts/5199694/33b5fc3f-3be1-45d1-bc29-6a9286da6f8e.eot?#iefix\");\\n        src:url(\"/design/TDWI/tdwi/2017/fonts/5199694/33b5fc3f-3be1-45d1-bc29-6a9286da6f8e.eot?#iefix\") format(\"eot\"),url(\"/design/TDWI/tdwi/2017/fonts/5199694/750e110a-c47f-4c8f-829a-b56cc20cc51d.woff2\") format(\"woff2\"),url(\"/design/TDWI/tdwi/2017/fonts/5199694/f3420df8-1310-4059-9207-e82b1c9dd3a5.woff\") format(\"woff\"),url(\"/design/TDWI/tdwi/2017/fonts/5199694/9d614368-aa4e-48a6-856a-c89ac91e6a35.ttf\") format(\"truetype\");\\n    }\\n    @font-face{\\n        font-family:\"Avenir Next W05 Medium\";\\n        src:url(\"/design/TDWI/tdwi/2017/fonts/5226623/a7d3bd64-119b-40ad-985c-a50776f2ae49.eot?#iefix\");\\n        src:url(\"/design/TDWI/tdwi/2017/fonts/5226623/a7d3bd64-119b-40ad-985c-a50776f2ae49.eot?#iefix\") format(\"eot\"),url(\"/design/TDWI/tdwi/2017/fonts/5226623/9851da0a-2481-4687-bbeb-ed4ab170dc38.woff2\") format(\"woff2\"),url(\"/design/TDWI/tdwi/2017/fonts/5226623/cebce072-9561-4c6d-8c89-f0cefec63289.woff\") format(\"woff\"),url(\"/design/TDWI/tdwi/2017/fonts/5226623/8d00a64e-2d77-46b1-8804-6012868d61c9.ttf\") format(\"truetype\");\\n    }\\n\\n</style>   \\n\\n<link rel=\"shortcut icon\" href=\"/design/tdwi/tdwi/2017/img/favicn.ico\" type=\"image/x-icon\">\\n<link rel=\"icon\" href=\"/design/tdwi/tdwi/2017/img/favicn.ico\" type=\"image/x-icon\">\\n\\n<link rel=\"icon\" type=\"image/png\" sizes=\"32x32\" href=\"/design/tdwi/tdwi/2017/img/favicon-32x32.png\" />\\n<link rel=\"icon\" type=\"image/png\" sizes=\"16x16\" href=\"/design/tdwi/tdwi/2017/img/favicon-16x16.png\" />\\n<link rel=\"manifest\" href=\"/design/tdwi/tdwi/2017/img/manifest.json\" />\\n<link rel=\"mask-icon\" href=\"/design/tdwi/tdwi/2017/img/safari-pinned-tab.svg\" color=\"#393e41\" />\\n<meta name=\"msapplication-TileColor\" content=\"#ecca1a\" />\\n<meta name=\"msapplication-config\" content=\"/design/tdwi/tdwi/2017/img/browserconfig.xml\" />\\n<meta name=\"theme-color\" content=\"#ffffff\" />\\n\\n\\n\\n<link rel=\"icon\"  type=\"image/png\" sizes=\"192x192\" href=\"/design/tdwi/tdwi/2017/img/icon-192x192.png\" />\\n<link rel=\"icon\"  type=\"image/png\" sizes=\"128x128\" href=\"/design/tdwi/tdwi/2017/img/icon-128x128.png\" />\\n<link rel=\"apple-touch-icon\" href=\"/design/tdwi/tdwi/2017/img/apple-touch-icon.png\" />\\n<link rel=\"apple-touch-icon\" sizes=\"57x57\" href=\"/design/tdwi/tdwi/2017/img/apple-touch-icon-57x57.png\" />\\n<link rel=\"apple-touch-icon\" sizes=\"72x72\" href=\"/design/tdwi/tdwi/2017/img/apple-touch-icon-72x72.png\" />\\n<link rel=\"apple-touch-icon\" sizes=\"76x76\" href=\"/design/tdwi/tdwi/2017/img/apple-touch-icon-76x76.png\" />\\n<link rel=\"apple-touch-icon\" sizes=\"114x114\" href=\"/design/tdwi/tdwi/2017/img/apple-touch-icon-114x114.png\" />\\n<link rel=\"apple-touch-icon\" sizes=\"120x120\" href=\"/design/tdwi/tdwi/2017/img/apple-touch-icon-120x120.png\" />\\n<link rel=\"apple-touch-icon\" sizes=\"144x144\" href=\"/design/tdwi/tdwi/2017/img/apple-touch-icon-144x144.png\" />\\n<link rel=\"apple-touch-icon\" sizes=\"152x152\" href=\"/design/tdwi/tdwi/2017/img/apple-touch-icon-152x152.png\" />\\n<link rel=\"apple-touch-icon\" sizes=\"180x180\" href=\"/design/tdwi/tdwi/2017/img/apple-touch-icon-180x180.png\" />\\n\\n<meta charset=\"utf-8\" />\\n<meta http-equiv=\"X-UA-Compatible\" content=\"IE=edge\" />\\n<meta name=\"robots\" content=\"index, follow\" />\\n\\n\\n<!-- youtube -->\\n<meta name=\"google-site-verification\" content=\"GDCFHKf7rmp661bjQ_6ZHJi0Hi3zrC3uxYcpBB4NiE4\" />\\n\\n\\n<link rel=\"stylesheet\" href=\"/design/tdwi/tdwi/2017/css/html5.css?v=1\" />\\n<script type=\"text/javascript\" src=\"/design/tdwi/tdwi/2017/js/html5.js\"></script>\\n\\n<script src=\"https://ajax.googleapis.com/ajax/libs/jquery/1/jquery.min.js\"></script>\\n<link rel=\"stylesheet\" href=\"https://ajax.googleapis.com/ajax/libs/jqueryui/1.12.0/themes/smoothness/jquery-ui.css\">\\n<script src=\"https://ajax.googleapis.com/ajax/libs/jqueryui/1.12.0/jquery-ui.min.js\"></script>\\n\\n<script type=\"text/javascript\" src=\"/design/tdwi/tdwi/2017/js/jquery.innerfade.js\"></script>\\n<script type=\"text/javascript\" src=\"/design/tdwi/tdwi/2017/js/jquery.functions.js\"></script>\\n<script type=\"text/javascript\" src=\"/design/tdwi/tdwi/2017/js/jquery-migrate-1.2.1.min.js\"></script>\\n\\n<script>\\n$(document).ready(function(){\\n  $.each( $(\\'.search input[type=\"text\"]\\'), function() {\\n    $(this).attr(\\'placeholder\\', \\'search\\');\\n  });\\n});\\n</script>\\n\\n<!--- working style sheets -->\\n\\n<link rel=\"stylesheet\" href=\"/design/tdwi/tdwi/2017/css/RGstyles.css?v=1\" />\\n<link rel=\"stylesheet\" href=\"/design/tdwi/tdwi/2017/css/MBstyle.css?v=1\" />\\n\\n<!-- Optimizely -->\\n<script src=\"https://cdn.optimizely.com/js/426870007.js\"></script>\\r\\n\\r\\n\\r\\n\\r\\n    <!-- Google Analytics -->\\n<script type=\"text/javascript\">\\n\\n (function(i,s,o,g,r,a,m){i[\\'GoogleAnalyticsObject\\']=r;i[r]=i[r]||function(){\\n (i[r].q=i[r].q||[]).push(arguments)},i[r].l=1*new Date();a=s.createElement(o),\\n m=s.getElementsByTagName(o)[0];a.async=1;a.src=g;m.parentNode.insertBefore(a,m)\\n })(window,document,\\'script\\',\\'//www.google-analytics.com/analytics.js\\',\\'ga\\');\\n\\n ga(\\'create\\', \\'UA-9899118-15\\', \\'auto\\', {\\'allowLinker\\': true});\\n ga(\\'require\\', \\'linker\\');\\n ga(\\'linker:autoLink\\', [\\'tdwi.org\\', \\'www.eiseverywhere.com\\'] );\\n ga(\\'send\\', \\'pageview\\');\\n\\n</script>\\n<!-- End Google Analytics -->\\r\\n\\r\\n\\r\\n\\r\\n    \\r\\n    \\r\\n    <meta name=\"viewport\" content=\"width=device-width, initial-scale=1.0, maximum-scale=1.0, user-scalable=yes\" />    \\n <link rel=\"stylesheet\" href=\"/design/TDWI/tdwi/2017/events/seminars/washingtondc/css/style.css\" />\\n\\n    <!--[if lt IE10]>\\n    <link rel=\"stylesheet\" type=\"text/css\" href=\"/design/TDWI/tdwi/2017/events/seminars/washingtondc/css/fallback.css\" media=\"screen\" />\\n    <![endif]-->\\n\\n\\n    <link media=\"handheld, only screen and (max-width: 720px), only screen and (max-device-width: 720px)\" href=\"/design/TDWI/tdwi/2017/events/seminars/washingtondc/css/tablet.css\" rel=\"stylesheet\" />\\n    <link media=\"handheld, only screen and (max-width: 480px), only screen and (max-device-width: 480px)\" href=\"/design/TDWI/tdwi/2017/events/seminars/washingtondc/css/mobile.css\" rel=\"stylesheet\" />\\n    <!--[if IEMobile]>\\n    <link rel=\"stylesheet\" type=\"text/css\" href=\"/design/TDWI/tdwi/2017/events/seminars/washingtondc/css/mobile.css\" media=\"screen\" />\\n    <![endif]-->\\n\\n<script type=\"text/javascript\" src=\"/design/TDWI/tdwi/2017/events/seminars/washingtondc/js/jquery.js\"></script>\\n<script type=\"text/javascript\" src=\"/design/TDWI/tdwi/2017/events/seminars/washingtondc/js/jquery-ui.js\"></script>\\n<script type=\"text/javascript\" src=\"/design/TDWI/tdwi/2017/events/seminars/washingtondc/js/jquery.innerfade.js\"></script>\\n<script type=\"text/javascript\" src=\"/design/TDWI/tdwi/2017/events/seminars/washingtondc/js/topnav_multi.js\">\\n</script>\\n<script type=\"text/javascript\" src=\"/design/TDWI/tdwi/2017/events/seminars/washingtondc/js/core.js\"></script>\\n<script type=\"text/javascript\" src=\"/design/TDWI/tdwi/2017/events/seminars/washingtondc/js/html5.js\"></script>\\n\\r\\n\\r\\n\\r\\n<script type=\"text/javascript\" src=\"/design/TDWI/tdwi/2017/events/seminars/washingtondc/js/jquery.js\"></script>\\n<script type=\"text/javascript\">\\n\\n\\n$(document).ready(function(){ \\n$(window).scroll(function() {\\nvar wScroll = $(this).scrollTop();\\n\\nif($(\\'.boxAction\\').length) {\\n  if(wScroll > $(\\'.boxAction\\').offset().top - ($(window).height() /1.5)) {\\n    $(\\'.boxAction ul>li\\').each(function(i) {\\n      setTimeout(function(){\\n       $(\\'.boxAction ul>li\\').eq(i).addClass(\\'show\\');\\n      },150 * (i+1));      \\n\\t\\t});\\n\\t}\\n}\\n\\n});\\n\\n\\n});\\n</script>\\n\\r\\n\\r\\n\\r\\n<script type=\"text/javascript\">\\n$(document).ready(function(){\\n  var speaker;\\n  var event;\\n  var title;\\n\\n  if($(\\'#level0 #speaker h3\\').first().length) {\\n    var speaker = $(\\'#level0 #speaker h3\\').text();\\n    //console.log(\\'speaker: \\'+speaker);\\n    if($(\\'h1 a\\').first().length) {\\n      event = $(\\'h1 a\\').text();\\n    } else {\\n      event = \"TDWI\";\\n    }\\n   \\n    title = speaker + \" | \" + event;\\n    $(document).prop(\\'title\\', title);\\n    $(\"meta[property=\\'og\\\\\\\\:title\\']\").attr(\"content\", title);\\n\\n    var imgURL = \"https://tdwi.org/\" + $(\\'#level0 #speaker img\\').first().attr(\\'src\\');\\n    //console.log(imgURL);\\n    $(\"meta[property=\\'og\\\\\\\\:image\\']\").attr(\"content\", imgURL);\\n  }\\n\\n});\\n</script>\\r\\n\\r\\n\\r\\n<!-- Mobile Viewport -->\\n<meta name=\"viewport\" content=\"width=device-width, initial-scale=1.0, maximum-scale=2.0, user-scalable=yes\" />    \\n\\n<!-- Tablet Stylesheet -->\\n<link media=\"handheld, only screen and (max-width: 960px), only screen and (max-device-width: 960px)\" href=\"/design/tdwi/tdwi/2017/css/tablet.css?v=1\" rel=\"stylesheet\" />\\n\\n<!-- Mobile Stylesheet -->\\n<link media=\"handheld, only screen and (max-width: 480px), only screen and (max-device-width: 480px)\" href=\"/design/tdwi/tdwi/2017/css/mobile.css?v=1\" rel=\"stylesheet\" />\\n\\n<!--[if IEMobile]>\\n<link rel=\"stylesheet\" type=\"text/css\" href=\"/design/tdwi/tdwi/2017/css/mobile.css?v=1\" media=\"screen\" />\\n<![endif]-->\\r\\n\\r\\n\\r\\n\\r\\n    <script> (function () {  _ml = window._ml || {};  _ml.eid = \\'50202\\';  _ml.ht = \\'shex\\';  _ml.em = \\'\\';  _ml.dm = \\'\\';  _ml.informer = { enable: true };  var s = document.getElementsByTagName(\\'script\\')[0], cd = new Date(), mltag = document.createElement(\\'script\\');  mltag.type = \\'text/javascript\\'; mltag.async = true;  mltag.src = \\'//ml314.com/tag.aspx?\\' + cd.getDate() + cd.getMonth() + cd.getFullYear();  s.parentNode.insertBefore(mltag, s);  })(); </script>\\r\\n\\r\\n</head>\\r\\n<body>\\r\\n    <form name=\"form1\" method=\"post\" action=\"workshop-big-data-implementation.aspx\" id=\"form1\">\\r\\n<input type=\"hidden\" name=\"__VIEWSTATE\" id=\"__VIEWSTATE\" value=\"/wEPDwUKLTkzMDMxMjI4Mw9kFgYCAQ9kFggCAQ8WAh4EVGV4dAVHV29ya3Nob3A6IEJpZyBEYXRhIEltcGxlbWVudGF0aW9uIHwgVHJhbnNmb3JtaW5nIERhdGEgd2l0aCBJbnRlbGxpZ2VuY2VkAgMPFgIfAAVxY29udGVudD0iVERXSSBsZWFkZXIgaW4gYW5hbHl0aWNzLCBidXNpbmVzcyBpbnRlbGxpZ2VuY2UsIGFuZCBkYXRhIG1hbmFnZW1lbnQgZWR1Y2F0aW9uLCB0cmFpbmluZywgYW5kIHJlc2VhcmNoLiJkAgUPFgIfAAXoAWNvbnRlbnQ9ImFuYWx5dGljcywgZGF0YSBtYW5hZ2VtZW50LCBkYXRhIHNjaWVuY2UsIGRhdGEgd2FyZWhvdXNpbmcsIGJ1c2luZXNzIGludGVsbGlnZW5jZSwgdGhlIGRhdGEgd2FyZWhvdXNpbmcgaW5zdGl0dXRlLCB0ZHdpLCBjZXJ0aWZpZWQgYnVzaW5lc3MgaW50ZWxsaWdlbmNlIHByb2Zlc3Npb25hbHMsIGNiaXAsIHdvcmxkIGNvbmZlcmVuY2VzLCBidXNpbmVzcyBpbnRlbGxpZ2VuY2Ugam91cm5hbCJkAgkPFgIfAAWbAzxtZXRhIHByb3BlcnR5PSJvZzp0aXRsZSIgY29udGVudD0iV29ya3Nob3A6IEJpZyBEYXRhIEltcGxlbWVudGF0aW9uIHwgVHJhbnNmb3JtaW5nIERhdGEgd2l0aCBJbnRlbGxpZ2VuY2UiIC8+DQo8bWV0YSBwcm9wZXJ0eT0ib2c6ZGVzY3JpcHRpb24iIGNvbnRlbnQ9IiIgLz4NCjxtZXRhIHByb3BlcnR5PSJvZzp1cmwiIGNvbnRlbnQ9Imh0dHBzOi8vdGR3aS5vcmcvZXZlbnRzL3NlbWluYXJzL2RjL3Nlc3Npb25zL3dlZG5lc2RheS93b3Jrc2hvcC1iaWctZGF0YS1pbXBsZW1lbnRhdGlvbi5hc3B4IiAvPg0KPG1ldGEgcHJvcGVydHk9Im9nOmltYWdlIiBjb250ZW50PSIiIC8+DQo8bWV0YSBwcm9wZXJ0eT0ib2c6c2l0ZV9uYW1lIiBjb250ZW50PSJUcmFuc2Zvcm1pbmcgRGF0YSB3aXRoIEludGVsbGlnZW5jZSIgLz4NCmQCDw9kFgJmDxYCHwAFyAM8c2NyaXB0PiAoZnVuY3Rpb24gKCkgeyAgX21sID0gd2luZG93Ll9tbCB8fCB7fTsgIF9tbC5laWQgPSAnNTAyMDInOyAgX21sLmh0ID0gJ3NoZXgnOyAgX21sLmVtID0gJyc7ICBfbWwuZG0gPSAnJzsgIF9tbC5pbmZvcm1lciA9IHsgZW5hYmxlOiB0cnVlIH07ICB2YXIgcyA9IGRvY3VtZW50LmdldEVsZW1lbnRzQnlUYWdOYW1lKCdzY3JpcHQnKVswXSwgY2QgPSBuZXcgRGF0ZSgpLCBtbHRhZyA9IGRvY3VtZW50LmNyZWF0ZUVsZW1lbnQoJ3NjcmlwdCcpOyAgbWx0YWcudHlwZSA9ICd0ZXh0L2phdmFzY3JpcHQnOyBtbHRhZy5hc3luYyA9IHRydWU7ICBtbHRhZy5zcmMgPSAnLy9tbDMxNC5jb20vdGFnLmFzcHg/JyArIGNkLmdldERhdGUoKSArIGNkLmdldE1vbnRoKCkgKyBjZC5nZXRGdWxsWWVhcigpOyAgcy5wYXJlbnROb2RlLmluc2VydEJlZm9yZShtbHRhZywgcyk7ICB9KSgpOyA8L3NjcmlwdD5kAhEPZBYCAksPZBYCZg9kFgJmD2QWFgIBDxYCHwAFC2lkPSdsZXZlbDAnZAIFDxYCHgdWaXNpYmxlaGQCBw8WAh4JaW5uZXJodG1sBSIgV29ya3Nob3A6IEJpZyBEYXRhIEltcGxlbWVudGF0aW9uZAIJDxYCHwIFC01heSAyLCAyMDE4ZAILDxYCHwFoZAINDxYCHwIFGUR1cmF0aW9uOiBIYWxmIERheSBDb3Vyc2VkAg8PFgIfAWhkAhEPFgIfAWhkAhMPFgIfAgUSUHJlcmVxdWlzaXRlOiBOb25lZAIZDxYCHwFoZAIbDxYCHwIF0Qs8aDQ+RGF0YS1Ecml2ZW4gRGVjaXNpb25zPC9oND4NCjx1bCBjbGFzcz0ibGVhcm4iPg0KICA8bGk+RGF0YSBWYWx1ZSBDaGFpbi48L2xpPg0KICA8bGk+SW50ZXJyb2dhdGluZyBBIENyb3NzLU9yZ2FuaXphdGlvbmFsIERhdGEgU2V0LjwvbGk+DQogIDxsaT5NaWdyYXRpb24gZnJvbSBzaWxvcyB0byBhbiBpbnRlZ3JhdGVkIHJhdyBkYXRhIGxhbmRzY2FwZS48L2xpPg0KPC91bD4NCjxoND4mbmJzcDtCaWcgRGF0YSBUZWNobm9sb2dpY2FsIExhbmRzY2FwZTwvaDQ+DQo8dWwgY2xhc3M9ImxlYXJuIj4NCiAgPGxpPkVjb3N5c3RlbSBFc3NlbnRpYWxzOiA8L2xpPg0KICA8dWwgY2xhc3M9ImxlYXJuIj4NCiAgICA8bGk+VW5kZXJzdGFuZGluZyAgdGVjaG5vbG9naWVzIGFuZCB2ZW5kb3JzPC9saT4NCiAgICA8bGk+RGVmaW5pbmcgIHRoZSB2YWx1ZSBvZiBkaXN0cmlidXRlZCBjb21wdXRpbmcgPC9saT4NCiAgICA8bGk+VGVjaG5vbG9neSAgc3RhY2tzLjwvbGk+DQogICAgPGxpPlNlbGVjdGlvbiAgQ3JpdGVyaWE8L2xpPg0KICA8L3VsPg0KICA8bGk+RGF0YSBTd2FtcCwgRGF0YSBMYWtlIGFuZCBEYXRhIEh1YnMuPC9saT4NCjwvdWw+DQo8aDQ+Jm5ic3A7VGhlIEludGVyc2VjdGlvbiBvZiBEYXRhIFNjaWVuY2UgYW5kIEJpZyBEYXRhPC9oND4NCjx1bCBjbGFzcz0ibGVhcm4iPg0KICA8bGk+RGF0YSBTY2llbmNlIFByYWN0aWNlIOKAkyBUZWFtcyBhbmQgU2tpbGxzPC9saT4NCiAgPGxpPkRlZmluaW5nIHRoZSBEYXRhIFdhcmVob3VzZSBHb2FscyBmb3IgRGF0YSBTY2llbmNlLjwvbGk+DQogIDxsaT5BcnRpZmljaWFsIEludGVsbGlnZW5jZSBhbmQgTWFjaGluZSBMZWFybmluZyBJbnRlcnNlY3RzLjwvbGk+DQogIDxsaT5Nb25ldGl6aW5nIERhdGEuPC9saT4NCiAgPGxpPlBpdGZhbGxzIG9mIEJpZyBEYXRhLjwvbGk+DQogIDxsaT5DaGFsbGVuZ2VzIGFuZCBCYXJyaWVycy48L2xpPg0KPC91bD4NCjxoND4mbmJzcDtCaWcgRGF0YSBSZXNvdXJjZXMgYW5kIEhSPC9oND4NCjx1bCBjbGFzcz0ibGVhcm4iPg0KICA8bGk+QnVpbGRpbmcgYW4gaW50ZXJuYWwgdGVhbSBmb3IgZGF0YSBzY2llbmNlLjwvbGk+DQogIDxsaT5IaXJpbmcgRGF0YSBTY2llbmNlIFRlYW0gTWVtYmVycy48L2xpPg0KICA8bGk+RGF0YSBTY2llbmNlIFRlYW1zIFN1Y2Nlc3MgR29hbHMuPC9saT4NCjwvdWw+DQo8aDQ+TmV3IERpcmVjdGlvbnMgYW5kIE9wcG9ydHVuaXRpZXMgZm9yIElubm92YXRpb248L2g0Pg0KPHVsIGNsYXNzPSJsZWFybiI+DQogIDxsaT5OZXcgYnVzaW5lc3Mgb3Bwb3J0dW5pdGllcy48L2xpPg0KICA8bGk+TGV2ZXJhZ2luZyBCaWcgRGF0YS48L2xpPg0KICA8bGk+TGVhZGVyc2hpcCBkZXZlbG9wbWVudC48L2xpPg0KICA8bGk+SW5ub3ZhdGlvbiBMYWI6IGhvdyB0byB0YWtlIGEgcHJvYmxlbSwgc29sdmUgaXQsIGFuZCBwdXNoIHRoYXQgc29sdXRpb24gdXAgd2l0aGluIHRoZSBvcmdhbml6YXRpb24uPC9saT4NCjwvdWw+ZBgCBSVjb250ZW50Ym94Ml8wJExpc3RWaWV3QXNzb2NpYXRlZEZpbGVzDzwrAAoBCGZkBRljb250ZW50Ym94Ml8wJFNwZWFrZXJJbmZvDzwrAAoCBxQrAAFkCAIBZPSe6jRikGKUymVy1Q58ekJBAdyL\" />\\r\\n\\r\\n\\r\\n<script src=\"/ScriptResource.axd?d=lA4YcjqYGqEtyoU9SXv1fQNKpBVAd6uY2C59BfMJQTQ9nr7Lr6gxPie6DPWr94TstFBGwfF2UXhKpdYzXUsQ-WVmHM4v8Czi7POlmms2P0tIAYy0_EKlV3DxrXSWozwLP8RJ1gBcASOW15ht9rI28NaFfdkyWcTVyUMRpmy8LWEqVrXz0&amp;t=2e2045e2\" type=\"text/javascript\"></script>\\r\\n<input type=\"hidden\" name=\"__VIEWSTATEGENERATOR\" id=\"__VIEWSTATEGENERATOR\" value=\"1A475F3F\" />\\r\\n        \\r\\n        <div id=\"wrapper\">\\r\\n            \\r\\n            \\r\\n            \\r\\n            \\r\\n            <script type=\"text/javascript\">\\n\\n$(document).ready(function(){ \\n\\n// image\\n  $(\\'a.pup\\').on(\\'click\\', function(e) {\\n    e.preventDefault();\\n\\n    var url = $(this).attr(\\'href\\');\\n    //console.log(url);\\n\\n    var content = \\'<img src=\"\\'+url+\\'\" />\\';\\n\\n    $(\\'#lightbox .content\\').html(content);\\n\\n    $(\\'#lightbox\\').addClass(\\'show\\');\\n\\n  });\\n\\n\\n\\n\\n// youtube\\n  $(\\'a.ytvideo\\').on(\\'click\\', function(e) {\\n    e.preventDefault();\\n    var videoID = $(this).attr(\\'href\\').split(\\'=\\')[1];\\n    console.log(videoID);\\n\\n    var url = \\'https://www.youtube.com/embed/\\'+videoID+\\'?rel=0&autoplay=1\\';\\n    //console.log(url);\\n\\n    var content = \\'<iframe width=\"560\" height=\"315\" frameborder=\"0\" src=\"\\'+url+\\'\"></iframe>\\';\\n\\n    $(\\'#lightbox .content\\').html(content);\\n\\n    $(\\'#lightbox\\').addClass(\\'show\\');\\n\\n  });\\n\\n\\n// Image Zoom\\n\\n $(\\'#lightbox .content\\').on(\\'click\\', \\'img\\', function(e) {\\n    e.preventDefault();\\n    $(this).parent(\\'.content\\').toggleClass(\\'full\\');\\n    //console.log(\\'stop, that tickles\\');\\n  });\\n\\n  $(\\'#lightbox\\').on(\\'click\\', function(e) {\\n    e.preventDefault();\\n    if( e.target !== this) return;\\n    $(\\'#lightbox .content\\').html(\\'\\');\\n    $(this).removeClass(\\'show\\');\\n  });\\n\\n  $(\\'#lightbox .close\\').on(\\'click\\', function(e) {\\n    e.preventDefault();\\n    if( e.target !== this) return;\\n    $(\\'#lightbox .content\\').html(\\'\\');\\n    $(\\'#lightbox\\').removeClass(\\'show\\');\\n  });\\n\\n});\\n\\n\\n</script>\\n\\n<div id=\"lightbox\">\\n  <a href=\"#\" class=\"close\"><span></span><span></span><span></span><span></span></a>\\n  <div class=\"content\"></div>\\n</div>\\r\\n\\r\\n\\r\\n\\r\\n            <header>\\r\\n                <div id=\"ph_header1_0_divBlockBox\" class=\"boxHomeNav\">\\r\\n\\t\\r\\n\\t<div id=\"ph_header1_0_divBody\" class=\"summary\"><a title=\"TDWI Seminars\" href=\"/events/seminars/upcoming.aspx\">&lt; TDWI Seminars</a></div>\\r\\n\\t\\r\\n</div>\\r\\n                <div id=\"ph_header2_0_divBlockBox\" class=\"hdrLogo\">\\r\\n\\t\\r\\n\\t<div id=\"ph_header2_0_divBody\" class=\"summary\"><h1><a href=\"/events/seminars/dc/home.aspx\">TDWI DC Seminar</a></h1></div>\\r\\n\\t\\r\\n</div>\\r\\n                \\r\\n                \\r\\n                \\r\\n                <nav id=\"utilityLinks\">\\r\\n                    \\r\\n                    \\r\\n                    \\r\\n                    \\r\\n                    \\r\\n                </nav>\\r\\n                <nav id=\"mainNavigation\">\\r\\n                    \\r\\n\\r\\n<NOINDEX>\\r\\n\\r\\n<!-- component markup start -->\\r\\n<div class=\\'mainNavigationMenu\\'>\\r\\n    <ul class=\"topnavlist\"><li class=\"\"><a href=\"/events/seminars/dc/home.aspx#agenda\">Agenda</a></li><li class=\"\"><a href=\"/events/seminars/dc/home.aspx#pricing\">Pricing</a></li><li class=\"\"><a href=\"/events/seminars/dc/home.aspx#location\">Location</a></li><li class=\" last\"><a href=\"http://www.eiseverywhere.com/dc18\">Register</a></li></ul>\\r\\n    <br class=\"clear\" />\\r\\n</div>\\r\\n<!-- component markup end -->\\r\\n\\r\\n</NOINDEX>\\r\\n\\r\\n\\r\\n                    \\r\\n                    \\r\\n                    \\r\\n                    \\r\\n                    <div id=\"menu\">\\r\\n                        \\r\\n                        \\r\\n                        \\r\\n                        \\r\\n                        \\r\\n                    </div>       \\r\\n                </nav>\\r\\n            </header>\\r\\n\\t\\r\\n            <div id=\"postHeader\">\\r\\n                \\r\\n                \\r\\n                \\r\\n                \\r\\n                \\r\\n                <div id=\"postHeaderContent\">\\r\\n                    \\r\\n                    \\r\\n                    \\r\\n                    \\r\\n                    \\r\\n                </div>    \\r\\n            </div>\\r\\n    \\r\\n            <div id=\"contentBox\">\\r\\n                <div id=\"contentbox1_0_divBlockBox\" class=\"pageHero\">\\r\\n\\t\\r\\n\\t<div id=\"contentbox1_0_divBody\" class=\"summary\"><h2>TDWI DC Seminar</h2></div>\\r\\n\\t\\r\\n</div>\\r\\n                \\r\\n\\r\\n<!-- component markup start -->\\r\\n<div id=\\'level0\\'>\\r\\n\\r\\n\\t\\r\\n\\r\\n<!-- component markup start -->\\r\\n\\r\\n<!-- component markup end -->  \\r\\n\\r\\n\\t<div id=\"sessions\">\\r\\n\\t\\t\\r\\n\\t\\t<h4 id=\"contentbox2_0_SessionName\"> Workshop: Big Data Implementation</h4>\\r\\n\\t\\t\\r\\n\\t\\t<p id=\"contentbox2_0_Date\" class=\"date\">May 2, 2018</p>\\r\\n\\t\\t\\t\\t\\r\\n\\t\\t<p id=\"contentbox2_0_Duration\" class=\"duration\">Duration: Half Day Course</p>\\r\\n\\t\\t\\t\\r\\n\\t\\t<div>\\r\\n\\t\\t\\t\\r\\n\\t\\t\\t\\r\\n\\t\\t\\t<p id=\"contentbox2_0_Prerequisite\" class=\"prereq\">Prerequisite: None</p>\\r\\n\\t\\t\\t\\r\\n\\t\\t\\t<!-- Speaker start -->\\r\\n\\t\\t\\t\\r\\n                \\r\\n                <div class=\"speaker\">\\r\\n                    <a href=\"https://tdwi.org/events/seminars/dc/Speakers/Speaker Window.aspx?SpeakerId={A5456AAE-3910-4BE3-AEF2-7A9995F709DB}&ID={4ADD2367-D19D-47BA-88DC-C288B4BAA0A5}\"><img src=\\'~/media/TDWI/TDWI Events/Images/Speaker_105/krishnan_krish_105.jpg\\' /></a>\\r\\n\\t\\t\\t        <p id=\"contentbox2_0_SpeakerInfo_ctrl0_SpeakerName\" class=\"speaker\"><a href=\"https://tdwi.org/events/seminars/dc/Speakers/Speaker Window.aspx?SpeakerId={A5456AAE-3910-4BE3-AEF2-7A9995F709DB}&ID={4ADD2367-D19D-47BA-88DC-C288B4BAA0A5}\">Krish Krishnan</a></p>\\r\\n\\t\\t\\t        <p id=\"contentbox2_0_SpeakerInfo_ctrl0_Credentials\" class=\"speakercredentials\"></p>\\r\\n\\t\\t\\t\\t\\t<p id=\"contentbox2_0_SpeakerInfo_ctrl0_SpeakerTitle\" class=\"speakertitle\">CTO</p>\\r\\n\\t\\t\\t\\t\\t<p id=\"contentbox2_0_SpeakerInfo_ctrl0_SpeakerCompany\" class=\"speakercompany\">Ampcus Inc</p>\\r\\n\\r\\n\\t\\t\\t        \\r\\n\\t\\t\\t    </div>\\r\\n            \\r\\n            \\r\\n            <!-- Speaker end -->\\r\\n\\t\\t\\t\\r\\n\\t\\t\\t<!-- Associated Files start -->\\r\\n                  \\r\\n\\t        <!-- Associated Files end -->\\r\\n\\t\\t\\t\\t\\r\\n\\t\\t\\t\\r\\n\\t\\t\\t<p id=\"contentbox2_0_Content\"><h4>Data-Driven Decisions</h4>\\r\\n<ul class=\"learn\">\\r\\n  <li>Data Value Chain.</li>\\r\\n  <li>Interrogating A Cross-Organizational Data Set.</li>\\r\\n  <li>Migration from silos to an integrated raw data landscape.</li>\\r\\n</ul>\\r\\n<h4>&nbsp;Big Data Technological Landscape</h4>\\r\\n<ul class=\"learn\">\\r\\n  <li>Ecosystem Essentials: </li>\\r\\n  <ul class=\"learn\">\\r\\n    <li>Understanding  technologies and vendors</li>\\r\\n    <li>Defining  the value of distributed computing </li>\\r\\n    <li>Technology  stacks.</li>\\r\\n    <li>Selection  Criteria</li>\\r\\n  </ul>\\r\\n  <li>Data Swamp, Data Lake and Data Hubs.</li>\\r\\n</ul>\\r\\n<h4>&nbsp;The Intersection of Data Science and Big Data</h4>\\r\\n<ul class=\"learn\">\\r\\n  <li>Data Science Practice \\xe2\\x80\\x93 Teams and Skills</li>\\r\\n  <li>Defining the Data Warehouse Goals for Data Science.</li>\\r\\n  <li>Artificial Intelligence and Machine Learning Intersects.</li>\\r\\n  <li>Monetizing Data.</li>\\r\\n  <li>Pitfalls of Big Data.</li>\\r\\n  <li>Challenges and Barriers.</li>\\r\\n</ul>\\r\\n<h4>&nbsp;Big Data Resources and HR</h4>\\r\\n<ul class=\"learn\">\\r\\n  <li>Building an internal team for data science.</li>\\r\\n  <li>Hiring Data Science Team Members.</li>\\r\\n  <li>Data Science Teams Success Goals.</li>\\r\\n</ul>\\r\\n<h4>New Directions and Opportunities for Innovation</h4>\\r\\n<ul class=\"learn\">\\r\\n  <li>New business opportunities.</li>\\r\\n  <li>Leveraging Big Data.</li>\\r\\n  <li>Leadership development.</li>\\r\\n  <li>Innovation Lab: how to take a problem, solve it, and push that solution up within the organization.</li>\\r\\n</ul></p>\\r\\n\\t\\t</div>\\r\\n\\t</div>\\r\\n</div>\\r\\n<!-- component markup end -->\\r\\n\\r\\n\\r\\n                <div class=\"back_btn\"><a href=\"javascript:history.back()\" class=\"cta_btn\">Back to previous page</a></div>\\r\\n\\r\\n\\r\\n\\r\\n                \\r\\n                \\r\\n                <div id=\"lContent\">\\r\\n                    \\r\\n                    \\r\\n                    \\r\\n                    \\r\\n                    \\r\\n                </div>\\r\\n                <section id=\"contentA\">\\r\\n                    \\r\\n                    \\r\\n                    \\r\\n                    \\r\\n                    \\r\\n                </section>\\r\\n                <section id=\"contentB\">\\r\\n                    \\r\\n                    \\r\\n                    \\r\\n                    \\r\\n                    \\r\\n                </section>\\r\\n                <section id=\"contentC\">\\r\\n                    \\r\\n                    \\r\\n                    \\r\\n                    \\r\\n                    \\r\\n                </section>\\r\\n                <section id=\"contentD\">\\r\\n                    \\r\\n                    \\r\\n                    \\r\\n                    \\r\\n                    \\r\\n                </section>\\r\\n                <section id=\"contentE\">\\r\\n                    \\r\\n                    \\r\\n                    \\r\\n                    \\r\\n                    \\r\\n                </section>\\r\\n                <section id=\"contentF\">\\r\\n                    \\r\\n                    \\r\\n                    \\r\\n                    \\r\\n                                        \\r\\n                </section>\\r\\n                <section id=\"contentG\">\\r\\n                    \\r\\n                    \\r\\n                    \\r\\n                    \\r\\n                     \\r\\n                </section>\\r\\n                <aside id=\"rContent\">\\r\\n                    \\r\\n                    \\r\\n                    \\r\\n                    \\r\\n                    \\r\\n                </aside>\\r\\n            </div>\\r\\n            <div id=\"prefooter\">\\r\\n                <div id=\"ph_prefooter1_0_divBlockBox\" class=\"boxReminder\">\\r\\n\\t<h3 id=\"ph_prefooter1_0_h3Header\">Register Online</h3>\\r\\n\\t<div id=\"ph_prefooter1_0_divBody\" class=\"summary\"><p>Rest easy&mdash;online registrations for this seminar are secure. Our secured server environment keeps your information private.</p></div>\\r\\n\\t<p id=\"ph_prefooter1_0_pFooter\" class=\"footer\"><a href=\"http://www.eiseverywhere.com/dc18\">Register Now</a></p>\\r\\n</div><div class=\"boxEmail\">\\n<h3> Subscribe to Receive seminar updates via email</h3>\\n   <div class=\"email_form\">\\n    <iframe scrolling=\"no\" class=\"marketo\" src=\"/design/TDWI/tdwi/2017/events/marketo/forms/washingtondc-seminar-marketo-email-capture.html\" target=\"_parent\"></iframe>\\n  </div>\\n</div>\\r\\n\\r\\n\\r\\n\\r\\n                \\r\\n                \\r\\n                \\r\\n                \\r\\n            </div>\\r\\n            <footer>\\r\\n                <script>\\n$(document).ready(function(){\\n  $(\\'#menu\\').html(\\'<span></span><span></span><span></span><span></span>\\');\\n  $(\\'#mainNavigation #menu\\').click(function(){\\n    $(\\'#mainNavigation,#utilityLinks\\').toggleClass(\\'open\\');\\n  });\\n});\\n</script>\\r\\n\\r\\n\\r\\n<div class=\"logos\">\\n\\t<a href=\"https://tdwi.org\" target=\"_blank\" class=\"tdwi\"></a>\\n    <a href=\"https://1105media.com\" target=\"_blank\" class=\"media\"></a>\\n</div>\\r\\n\\r\\n\\r\\n<div class=\"follow\">\\n\\t<h3>FOLLOW TDWI</h3>\\n\\t<ul class=\"stayConnected\">\\n        <li class=\"linkedin\"><a href=\"https://tdwi.org/linkedin\" target=\"_blank\">LinkedIn</a></li>\\n        <li class=\"twitter\"><a href=\"https://tdwi.org/twitter\" target=\"_blank\">Twitter</a></li>\\n        <li class=\"facebook\"><a href=\"https://tdwi.org/facebook\" target=\"_blank\">Facebook</a></li>\\n        <li class=\"gplus\"><a href=\"https://plus.google.com/+TdwiOrg?rel=publisher\"  target=\"_blank\">Google+</a></li>\\n        <li class=\"youtube\"><a href=\"https://tdwi.org/youtube\" target=\"_blank\">YouTube</a></li>\\n        <li class=\"instagram\"><a href=\"https://tdwi.org/instagram\" target=\"_blank\">Instagram</a></li>\\n\\t</ul>\\n</div>\\r\\n\\r\\n\\r\\n\\r\\n                \\r\\n\\r\\n<NOINDEX>\\r\\n\\r\\n</NOINDEX>\\r\\n\\r\\n<div id=\"ph_footer2_1_divBlockBox\" class=\"boxFooterReg\">\\r\\n\\t<h3 id=\"ph_footer2_1_h3Header\">TDWI DC Seminar</h3>\\r\\n\\t<div id=\"ph_footer2_1_divBody\" class=\"summary\"><p>MicroTek Training Center<br>\\r\\n1110 Vermont Avenue NW<br>\\r\\nSuite 700<br>\\r\\nWashington, DC 20005<br>\\r\\nApril 30&ndash;May 2</p></div>\\r\\n\\t<p id=\"ph_footer2_1_pFooter\" class=\"footer\"><a href=\"http://www.eiseverywhere.com/dc18\">Register Now</a></p>\\r\\n</div>\\r\\n                \\r\\n                \\r\\n                \\r\\n\\r\\n\\r\\n<div class=\"app\">\\n<h3>EVENT APP</h3>\\n<ul>\\n    <li><a href=\"https://itunes.apple.com/us/app/tdwi/id1111317486?ls=1&amp;mt=8\" target=\"_blank\"><img alt=\"Download on the App Store\" src=\"/design/tdwi/tdwi/2017/img/badge_apple_app_store.png\" /></a></li>\\n    <li><a href=\"https://play.google.com/store/apps/details?id=com.pathable.tdwi&amp;pcampaignid=MKT-Other-global-all-co-prtnr-py-PartBadge-Mar2515-1\" target=\"_blank\"><img alt=\"Get it on Google Play\" src=\"/design/tdwi/tdwi/2017/img/badge_google_play_store.png\" /></a></li>\\n</ul>\\n</div>\\r\\n\\r\\n\\r\\n<!-- Crazyegg heatmap code -->\\n<script type=\"text/javascript\">\\nsetTimeout(function(){var a=document.createElement(\"script\");\\nvar b=document.getElementsByTagName(\\'script\\')[0];\\na.src=document.location.protocol+\"//dnn506yrbagrg.cloudfront.net/pages/scripts/0012/7598.js?\"+Math.floor(new Date().getTime()/3600000);\\na.async=true;a.type=\"text/javascript\";b.parentNode.insertBefore(a,b)}, 1);\\n</script>\\n\\n\\n\\n\\n\\r\\n\\r\\n\\r\\n<!-- RTP tag --> \\n<script type=\\'text/javascript\\'>\\n(function(c,h,a,f,i,e){c[a]=c[a]||function(){(c[a].q=c[a].q||[]).push(arguments)};\\n c[a].a=i;c[a].e=e;var g=h.createElement(\"script\");g.async=true;g.type=\"text/javascript\";\\n g.src=f+\\'?aid=\\'+i;var b=h.getElementsByTagName(\"script\")[0];b.parentNode.insertBefore(g,b);\\n })(window,document,\"rtp\",\"//sjrtp4-cdn.marketo.com/rtp-api/v1/rtp.js\",\"tdwi\");\\n \\nrtp(\\'send\\',\\'view\\');\\nrtp(\\'get\\', \\'campaign\\',true);\\n</script>\\n<!-- End of RTP tag -->\\n\\n\\n<!-- Start Marketo Munchkin Code -->\\n<script type=\"text/javascript\">\\n(function() {\\nvar didInit = false;\\nfunction initMunchkin() {\\nif(didInit === false) {\\ndidInit = true;\\nMunchkin.init(\\'626-EMC-557\\', {\"asyncOnly\":true, \"domainLevel\":2});\\n}\\n}\\nvar s = document.createElement(\\'script\\');\\ns.type = \\'text/javascript\\';\\ns.async = true;\\ns.src = \\'//munchkin.marketo.net/munchkin.js\\';\\ns.onreadystatechange = function() {\\nif (this.readyState == \\'complete\\' || this.readyState == \\'loaded\\') {\\ninitMunchkin();\\n}\\n};\\ns.onload = initMunchkin;\\ndocument.getElementsByTagName(\\'head\\')[0].appendChild(s);\\n})();\\n</script> \\n<!-- End Marketo Munchkin Code -->\\r\\n\\r\\n\\r\\n<!-- Start Google Code for Remarketing Tag -->\\n\\n<script type=\"text/javascript\">\\n/* <![CDATA[ */\\nvar google_conversion_id = 910527071;\\nvar google_custom_params = window.google_tag_params;\\nvar google_remarketing_only = true;\\n/* ]]> */\\n</script>\\n<script type=\"text/javascript\" src=\"//www.googleadservices.com/pagead/conversion.js\">\\n</script>\\n<noscript>\\n<div style=\"display:inline;width:1px;height:1px;\">\\n<img height=\"1\" width=\"1\" style=\"border-style:none;\" alt=\"\" src=\"//googleads.g.doubleclick.net/pagead/viewthroughconversion/910527071/?value=0&amp;guid=ON&amp;script=0\"/>\\n</div>\\n</noscript>\\n\\n<!-- End Google Code for Remarketing Tag -->\\n\\n<!-- Start Google Code for Ad Blocker -->\\n    <script> \\n      \\n      window.onload = function() { \\n      \\n        // Delay to allow the async Google Ads to load\\n        setTimeout(function() { \\n          \\n          // Get the first AdSense ad unit on the page\\n          var ad = document.querySelector(\"ins.adsbygoogle\");\\n          \\n          // If the ads are not loaded, track the event\\n          if (ad && ad.innerHTML.replace(/\\\\s/g, \"\").length == 0) {\\n     \\n            if (typeof ga !== \\'undefined\\') {\\n     \\n                // Log an event in Universal Analytics\\n                // but without affecting overall bounce rate\\n                ga(\\'send\\', \\'event\\', \\'Adblock\\', \\'Yes\\', {\\'nonInteraction\\': 1}); \\n     \\n            } else if (typeof _gaq !== \\'undefined\\') {\\n     \\n                // Log a non-interactive event in old Google Analytics\\n                _gaq.push([\\'_trackEvent\\', \\'Adblock\\', \\'Yes\\', undefined, undefined, true]);\\n     \\n            }\\n          }\\n        }, 2000); // Run ad block detection 2 seconds after page load\\n      }; \\n      \\n    </script>\\n\\n<!-- End Google Code for Ad Blocker -->\\r\\n\\r\\n\\r\\n<!-- Facebook Conversion Code for Visits Pricing Page of Event Web Site -->\\n<script>(function() {\\n  var _fbq = window._fbq || (window._fbq = []);\\n  if (!_fbq.loaded) {\\n    var fbds = document.createElement(\\'script\\');\\n    fbds.async = true;\\n    fbds.src = \\'//connect.facebook.net/en_US/fbds.js\\';\\n    var s = document.getElementsByTagName(\\'script\\')[0];\\n    s.parentNode.insertBefore(fbds, s);\\n    _fbq.loaded = true;\\n  }\\n})();\\nwindow._fbq = window._fbq || [];\\nwindow._fbq.push([\\'track\\', \\'6020145320236\\', {\\'value\\':\\'0.00\\',\\'currency\\':\\'USD\\'}]);\\n</script>\\n<noscript><img height=\"1\" width=\"1\" alt=\"\" style=\"display:none\" src=\"https://www.facebook.com/tr?ev=6020145320236&cd[value]=0.00&amp;cd[currency]=USD&amp;noscript=1\" /></noscript>\\r\\n\\r\\n\\r\\n<script>(function() {\\n  var _fbq = window._fbq || (window._fbq = []);\\n  if (!_fbq.loaded) {\\n    var fbds = document.createElement(\\'script\\');\\n    fbds.async = true;\\n    fbds.src = \\'//connect.facebook.net/en_US/fbds.js\\';\\n    var s = document.getElementsByTagName(\\'script\\')[0];\\n    s.parentNode.insertBefore(fbds, s);\\n    _fbq.loaded = true;\\n  }\\n  _fbq.push([\\'addPixelId\\', \\'407773706048385\\']);\\n})();\\nwindow._fbq = window._fbq || [];\\nwindow._fbq.push([\\'track\\', \\'PixelInitialized\\', {}]);\\n</script>\\n<noscript><img height=\"1\" width=\"1\" alt=\"\" style=\"display:none\" src=\"https://www.facebook.com/tr?id=407773706048385&ev=PixelInitialized\" /></noscript>\\r\\n\\r\\n\\r\\n<script type=\"text/javascript\">\\nvar axel = Math.random() + \"\";\\nvar a = axel * 10000000000000;\\ndocument.write(\\'<img src=\"http://ad.doubleclick.net/ddm/activity/src=4619205;type=1105t0;cat=tdwib0;ord=\\' + a + \\'?\" width=\"1\" height=\"1\" alt=\"\"/>\\');\\n</script>\\n<noscript>\\n<img src=\"http://ad.doubleclick.net/ddm/activity/src=4619205;type=1105t0;cat=tdwib0;ord=1?\" width=\"1\" height=\"1\" alt=\"\"/>\\n</noscript>\\r\\n\\r\\n\\r\\n<!-- begin SnapEngage code -->\\n<script type=\"text/javascript\">\\n  (function() {\\n    var se = document.createElement(\\'script\\'); se.type = \\'text/javascript\\'; se.async = true;\\n    se.src = \\'//storage.googleapis.com/code.snapengage.com/js/94e58518-4843-4066-be94-4b7a126abeb1.js\\';\\n    var done = false;\\n    se.onload = se.onreadystatechange = function() {\\n      if (!done&&(!this.readyState||this.readyState===\\'loaded\\'||this.readyState===\\'complete\\')) {\\n        done = true;\\n        /* Place your SnapEngage JS API code below */\\n        /* SnapEngage.allowChatSound(true); Example JS API: Enable sounds for Visitors. */\\n      }\\n    };\\n    var s = document.getElementsByTagName(\\'script\\')[0]; s.parentNode.insertBefore(se, s);\\n  })();\\n</script>\\n<!-- end SnapEngage code -->\\r\\n\\r\\n\\r\\n\\r\\n            </footer>\\r\\n        </div>\\r\\n    \\r\\n\\r\\n<script type=\"text/javascript\">\\r\\n//<![CDATA[\\r\\nSys.Application.initialize();\\r\\n//]]>\\r\\n</script>\\r\\n</form>\\r\\n</body>\\r\\n</html>'"
      ]
     },
     "execution_count": 106,
     "metadata": {},
     "output_type": "execute_result"
    }
   ],
   "source": [
    "abstract_webpage"
   ]
  },
  {
   "cell_type": "markdown",
   "metadata": {},
   "source": [
    "### Preprocessing Function 4"
   ]
  },
  {
   "cell_type": "code",
   "execution_count": 107,
   "metadata": {
    "collapsed": false
   },
   "outputs": [],
   "source": [
    "abstract = BeautifulSoup(abstract_webpage,'html.parser')"
   ]
  },
  {
   "cell_type": "markdown",
   "metadata": {},
   "source": [
    "### _________________________"
   ]
  },
  {
   "cell_type": "code",
   "execution_count": 108,
   "metadata": {
    "collapsed": false
   },
   "outputs": [
    {
     "data": {
      "text/plain": [
       "\n",
       "<!DOCTYPE html>\n",
       "\n",
       "<html>\n",
       "<head>\n",
       "<title>Workshop: Big Data Implementation | Transforming Data with Intelligence</title>\n",
       "<meta content=\"TDWI leader in analytics, business intelligence, and data management education, training, and research.\" name=\"description\">\n",
       "<meta content=\"analytics, data management, data science, data warehousing, business intelligence, the data warehousing institute, tdwi, certified business intelligence professionals, cbip, world conferences, business intelligence journal\" name=\"keywords\">\n",
       "<meta content=\"Workshop: Big Data Implementation | Transforming Data with Intelligence\" property=\"og:title\"/>\n",
       "<meta content=\"\" property=\"og:description\"/>\n",
       "<meta content=\"https://tdwi.org/events/seminars/dc/sessions/wednesday/workshop-big-data-implementation.aspx\" property=\"og:url\"/>\n",
       "<meta content=\"\" property=\"og:image\"/>\n",
       "<meta content=\"Transforming Data with Intelligence\" property=\"og:site_name\"/>\n",
       "<!-- BEGIN Google Partner Tag HEAD CODE -->\n",
       "<script type=\"text/javascript\">\n",
       "(function(){\n",
       "var useSSL = 'https:' == document.location.protocol;\n",
       "var src = (useSSL ? 'https:' : 'http:') + '//www.googletagservices.com/tag/js/gpt.js';\n",
       "document.write('<scr' + 'ipt src=\"' + src + '\"></scr' + 'ipt>');\n",
       "})();\n",
       "</script>\n",
       "<!-- END Google Partner Tag HEAD CODE -->\n",
       "<link href=\"/design/tdwi/tdwi/2017/events/css/components.css?v=1\" rel=\"stylesheet\"/>\n",
       "<link href=\"/design/tdwi/tdwi/2017/events/css/events.css?v=1\" rel=\"stylesheet\"/>\n",
       "<script type=\"application/ld+json\">\n",
       "{\"@context\":\"http:\\/\\/schema.org\",\"@type\":\"WebSite\",\"url\":\"https:\\/\\/tdwi.org\",\"name\":\"Transforming Data with Intelligence\",\"alternateName\":\"TDWI\",\"potentialAction\":{\"@type\":\"SearchAction\",\"target\":\"https:\\/\\/tdwi.org\\/Forms\\/Search-Results.aspx?query={search_term_string}\",\"query-input\":\"required name=search_term_string\"}}</script>\n",
       "<script type=\"application/ld+json\">\n",
       "{\n",
       "  \"@context\": \"http:\\/\\/schema.org\",\n",
       "  \"@type\": \"Organization\",\n",
       "  \"name\": \"Transforming Data with Intelligence\",\n",
       "  \"alternateName\": \"TDWI\",\n",
       "  \"url\": \"https://tdwi.org\",\n",
       "  \"sameAs\": [\n",
       "    \"https://www.linkedin.com/company-beta/220146/\",\n",
       "    \"https://twitter.com/TDWI\",\n",
       "    \"https://www.facebook.com/TDWI.allthingsdata\",\n",
       "    \"https://plus.google.com/+TdwiOrg?rel=publisher\",\n",
       "    \"https://www.youtube.com/user/TDWI1995\",\n",
       "    \"https://www.instagram.com/tdwilive/\"\n",
       "  ]\n",
       "}\n",
       "</script>\n",
       "<!-- Google fonts -->\n",
       "<link href=\"https://fonts.googleapis.com/css?family=PT+Serif\" rel=\"stylesheet\">\n",
       "<!-- fa fonts -->\n",
       "<link href=\"/design/TDWI/tdwi/2017/css/font-awesome.css\" rel=\"stylesheet\">\n",
       "<link href=\"/design/TDWI/tdwi/2017/css/font-awesome.min.css\" rel=\"stylesheet\">\n",
       "<!-- web fonts -->\n",
       "<script type=\"text/javascript\">\n",
       "    var MTUserId='9dbecaba-f0e3-439e-b270-2bb8b886aa76';\n",
       "    var MTFontIds = new Array();\n",
       "\n",
       "    MTFontIds.push(\"5199694\"); // Avenir® Next W05 Paneuropean Bold \n",
       "    MTFontIds.push(\"5226623\"); // Avenir® Next W05 Paneuropean Medium \n",
       "    (function() {\n",
       "        var mtTracking = document.createElement('script');\n",
       "        mtTracking.type='text/javascript';\n",
       "        mtTracking.async='true';\n",
       "        mtTracking.src='mtiFontTrackingCode.js';\n",
       "\n",
       "        (document.getElementsByTagName('head')[0]||document.getElementsByTagName('body')[0]).appendChild(mtTracking);\n",
       "    })();\n",
       "</script>\n",
       "<style type=\"text/css\">\n",
       "    @font-face{\n",
       "        font-family:\"Avenir Next W05 Bold\";\n",
       "        src:url(\"/design/TDWI/tdwi/2017/fonts/5199694/33b5fc3f-3be1-45d1-bc29-6a9286da6f8e.eot?#iefix\");\n",
       "        src:url(\"/design/TDWI/tdwi/2017/fonts/5199694/33b5fc3f-3be1-45d1-bc29-6a9286da6f8e.eot?#iefix\") format(\"eot\"),url(\"/design/TDWI/tdwi/2017/fonts/5199694/750e110a-c47f-4c8f-829a-b56cc20cc51d.woff2\") format(\"woff2\"),url(\"/design/TDWI/tdwi/2017/fonts/5199694/f3420df8-1310-4059-9207-e82b1c9dd3a5.woff\") format(\"woff\"),url(\"/design/TDWI/tdwi/2017/fonts/5199694/9d614368-aa4e-48a6-856a-c89ac91e6a35.ttf\") format(\"truetype\");\n",
       "    }\n",
       "    @font-face{\n",
       "        font-family:\"Avenir Next W05 Medium\";\n",
       "        src:url(\"/design/TDWI/tdwi/2017/fonts/5226623/a7d3bd64-119b-40ad-985c-a50776f2ae49.eot?#iefix\");\n",
       "        src:url(\"/design/TDWI/tdwi/2017/fonts/5226623/a7d3bd64-119b-40ad-985c-a50776f2ae49.eot?#iefix\") format(\"eot\"),url(\"/design/TDWI/tdwi/2017/fonts/5226623/9851da0a-2481-4687-bbeb-ed4ab170dc38.woff2\") format(\"woff2\"),url(\"/design/TDWI/tdwi/2017/fonts/5226623/cebce072-9561-4c6d-8c89-f0cefec63289.woff\") format(\"woff\"),url(\"/design/TDWI/tdwi/2017/fonts/5226623/8d00a64e-2d77-46b1-8804-6012868d61c9.ttf\") format(\"truetype\");\n",
       "    }\n",
       "\n",
       "</style>\n",
       "<link href=\"/design/tdwi/tdwi/2017/img/favicn.ico\" rel=\"shortcut icon\" type=\"image/x-icon\">\n",
       "<link href=\"/design/tdwi/tdwi/2017/img/favicn.ico\" rel=\"icon\" type=\"image/x-icon\">\n",
       "<link href=\"/design/tdwi/tdwi/2017/img/favicon-32x32.png\" rel=\"icon\" sizes=\"32x32\" type=\"image/png\"/>\n",
       "<link href=\"/design/tdwi/tdwi/2017/img/favicon-16x16.png\" rel=\"icon\" sizes=\"16x16\" type=\"image/png\"/>\n",
       "<link href=\"/design/tdwi/tdwi/2017/img/manifest.json\" rel=\"manifest\"/>\n",
       "<link color=\"#393e41\" href=\"/design/tdwi/tdwi/2017/img/safari-pinned-tab.svg\" rel=\"mask-icon\"/>\n",
       "<meta content=\"#ecca1a\" name=\"msapplication-TileColor\"/>\n",
       "<meta content=\"/design/tdwi/tdwi/2017/img/browserconfig.xml\" name=\"msapplication-config\"/>\n",
       "<meta content=\"#ffffff\" name=\"theme-color\"/>\n",
       "<link href=\"/design/tdwi/tdwi/2017/img/icon-192x192.png\" rel=\"icon\" sizes=\"192x192\" type=\"image/png\"/>\n",
       "<link href=\"/design/tdwi/tdwi/2017/img/icon-128x128.png\" rel=\"icon\" sizes=\"128x128\" type=\"image/png\"/>\n",
       "<link href=\"/design/tdwi/tdwi/2017/img/apple-touch-icon.png\" rel=\"apple-touch-icon\"/>\n",
       "<link href=\"/design/tdwi/tdwi/2017/img/apple-touch-icon-57x57.png\" rel=\"apple-touch-icon\" sizes=\"57x57\"/>\n",
       "<link href=\"/design/tdwi/tdwi/2017/img/apple-touch-icon-72x72.png\" rel=\"apple-touch-icon\" sizes=\"72x72\"/>\n",
       "<link href=\"/design/tdwi/tdwi/2017/img/apple-touch-icon-76x76.png\" rel=\"apple-touch-icon\" sizes=\"76x76\"/>\n",
       "<link href=\"/design/tdwi/tdwi/2017/img/apple-touch-icon-114x114.png\" rel=\"apple-touch-icon\" sizes=\"114x114\"/>\n",
       "<link href=\"/design/tdwi/tdwi/2017/img/apple-touch-icon-120x120.png\" rel=\"apple-touch-icon\" sizes=\"120x120\"/>\n",
       "<link href=\"/design/tdwi/tdwi/2017/img/apple-touch-icon-144x144.png\" rel=\"apple-touch-icon\" sizes=\"144x144\"/>\n",
       "<link href=\"/design/tdwi/tdwi/2017/img/apple-touch-icon-152x152.png\" rel=\"apple-touch-icon\" sizes=\"152x152\"/>\n",
       "<link href=\"/design/tdwi/tdwi/2017/img/apple-touch-icon-180x180.png\" rel=\"apple-touch-icon\" sizes=\"180x180\"/>\n",
       "<meta charset=\"utf-8\"/>\n",
       "<meta content=\"IE=edge\" http-equiv=\"X-UA-Compatible\"/>\n",
       "<meta content=\"index, follow\" name=\"robots\"/>\n",
       "<!-- youtube -->\n",
       "<meta content=\"GDCFHKf7rmp661bjQ_6ZHJi0Hi3zrC3uxYcpBB4NiE4\" name=\"google-site-verification\"/>\n",
       "<link href=\"/design/tdwi/tdwi/2017/css/html5.css?v=1\" rel=\"stylesheet\"/>\n",
       "<script src=\"/design/tdwi/tdwi/2017/js/html5.js\" type=\"text/javascript\"></script>\n",
       "<script src=\"https://ajax.googleapis.com/ajax/libs/jquery/1/jquery.min.js\"></script>\n",
       "<link href=\"https://ajax.googleapis.com/ajax/libs/jqueryui/1.12.0/themes/smoothness/jquery-ui.css\" rel=\"stylesheet\">\n",
       "<script src=\"https://ajax.googleapis.com/ajax/libs/jqueryui/1.12.0/jquery-ui.min.js\"></script>\n",
       "<script src=\"/design/tdwi/tdwi/2017/js/jquery.innerfade.js\" type=\"text/javascript\"></script>\n",
       "<script src=\"/design/tdwi/tdwi/2017/js/jquery.functions.js\" type=\"text/javascript\"></script>\n",
       "<script src=\"/design/tdwi/tdwi/2017/js/jquery-migrate-1.2.1.min.js\" type=\"text/javascript\"></script>\n",
       "<script>\n",
       "$(document).ready(function(){\n",
       "  $.each( $('.search input[type=\"text\"]'), function() {\n",
       "    $(this).attr('placeholder', 'search');\n",
       "  });\n",
       "});\n",
       "</script>\n",
       "<!--- working style sheets -->\n",
       "<link href=\"/design/tdwi/tdwi/2017/css/RGstyles.css?v=1\" rel=\"stylesheet\"/>\n",
       "<link href=\"/design/tdwi/tdwi/2017/css/MBstyle.css?v=1\" rel=\"stylesheet\"/>\n",
       "<!-- Optimizely -->\n",
       "<script src=\"https://cdn.optimizely.com/js/426870007.js\"></script>\n",
       "<!-- Google Analytics -->\n",
       "<script type=\"text/javascript\">\n",
       "\n",
       " (function(i,s,o,g,r,a,m){i['GoogleAnalyticsObject']=r;i[r]=i[r]||function(){\n",
       " (i[r].q=i[r].q||[]).push(arguments)},i[r].l=1*new Date();a=s.createElement(o),\n",
       " m=s.getElementsByTagName(o)[0];a.async=1;a.src=g;m.parentNode.insertBefore(a,m)\n",
       " })(window,document,'script','//www.google-analytics.com/analytics.js','ga');\n",
       "\n",
       " ga('create', 'UA-9899118-15', 'auto', {'allowLinker': true});\n",
       " ga('require', 'linker');\n",
       " ga('linker:autoLink', ['tdwi.org', 'www.eiseverywhere.com'] );\n",
       " ga('send', 'pageview');\n",
       "\n",
       "</script>\n",
       "<!-- End Google Analytics -->\n",
       "<meta content=\"width=device-width, initial-scale=1.0, maximum-scale=1.0, user-scalable=yes\" name=\"viewport\"/>\n",
       "<link href=\"/design/TDWI/tdwi/2017/events/seminars/washingtondc/css/style.css\" rel=\"stylesheet\"/>\n",
       "<!--[if lt IE10]>\n",
       "    <link rel=\"stylesheet\" type=\"text/css\" href=\"/design/TDWI/tdwi/2017/events/seminars/washingtondc/css/fallback.css\" media=\"screen\" />\n",
       "    <![endif]-->\n",
       "<link href=\"/design/TDWI/tdwi/2017/events/seminars/washingtondc/css/tablet.css\" media=\"handheld, only screen and (max-width: 720px), only screen and (max-device-width: 720px)\" rel=\"stylesheet\"/>\n",
       "<link href=\"/design/TDWI/tdwi/2017/events/seminars/washingtondc/css/mobile.css\" media=\"handheld, only screen and (max-width: 480px), only screen and (max-device-width: 480px)\" rel=\"stylesheet\"/>\n",
       "<!--[if IEMobile]>\n",
       "    <link rel=\"stylesheet\" type=\"text/css\" href=\"/design/TDWI/tdwi/2017/events/seminars/washingtondc/css/mobile.css\" media=\"screen\" />\n",
       "    <![endif]-->\n",
       "<script src=\"/design/TDWI/tdwi/2017/events/seminars/washingtondc/js/jquery.js\" type=\"text/javascript\"></script>\n",
       "<script src=\"/design/TDWI/tdwi/2017/events/seminars/washingtondc/js/jquery-ui.js\" type=\"text/javascript\"></script>\n",
       "<script src=\"/design/TDWI/tdwi/2017/events/seminars/washingtondc/js/jquery.innerfade.js\" type=\"text/javascript\"></script>\n",
       "<script src=\"/design/TDWI/tdwi/2017/events/seminars/washingtondc/js/topnav_multi.js\" type=\"text/javascript\">\n",
       "</script>\n",
       "<script src=\"/design/TDWI/tdwi/2017/events/seminars/washingtondc/js/core.js\" type=\"text/javascript\"></script>\n",
       "<script src=\"/design/TDWI/tdwi/2017/events/seminars/washingtondc/js/html5.js\" type=\"text/javascript\"></script>\n",
       "<script src=\"/design/TDWI/tdwi/2017/events/seminars/washingtondc/js/jquery.js\" type=\"text/javascript\"></script>\n",
       "<script type=\"text/javascript\">\n",
       "\n",
       "\n",
       "$(document).ready(function(){ \n",
       "$(window).scroll(function() {\n",
       "var wScroll = $(this).scrollTop();\n",
       "\n",
       "if($('.boxAction').length) {\n",
       "  if(wScroll > $('.boxAction').offset().top - ($(window).height() /1.5)) {\n",
       "    $('.boxAction ul>li').each(function(i) {\n",
       "      setTimeout(function(){\n",
       "       $('.boxAction ul>li').eq(i).addClass('show');\n",
       "      },150 * (i+1));      \n",
       "\t\t});\n",
       "\t}\n",
       "}\n",
       "\n",
       "});\n",
       "\n",
       "\n",
       "});\n",
       "</script>\n",
       "<script type=\"text/javascript\">\n",
       "$(document).ready(function(){\n",
       "  var speaker;\n",
       "  var event;\n",
       "  var title;\n",
       "\n",
       "  if($('#level0 #speaker h3').first().length) {\n",
       "    var speaker = $('#level0 #speaker h3').text();\n",
       "    //console.log('speaker: '+speaker);\n",
       "    if($('h1 a').first().length) {\n",
       "      event = $('h1 a').text();\n",
       "    } else {\n",
       "      event = \"TDWI\";\n",
       "    }\n",
       "   \n",
       "    title = speaker + \" | \" + event;\n",
       "    $(document).prop('title', title);\n",
       "    $(\"meta[property='og\\\\:title']\").attr(\"content\", title);\n",
       "\n",
       "    var imgURL = \"https://tdwi.org/\" + $('#level0 #speaker img').first().attr('src');\n",
       "    //console.log(imgURL);\n",
       "    $(\"meta[property='og\\\\:image']\").attr(\"content\", imgURL);\n",
       "  }\n",
       "\n",
       "});\n",
       "</script>\n",
       "<!-- Mobile Viewport -->\n",
       "<meta content=\"width=device-width, initial-scale=1.0, maximum-scale=2.0, user-scalable=yes\" name=\"viewport\"/>\n",
       "<!-- Tablet Stylesheet -->\n",
       "<link href=\"/design/tdwi/tdwi/2017/css/tablet.css?v=1\" media=\"handheld, only screen and (max-width: 960px), only screen and (max-device-width: 960px)\" rel=\"stylesheet\"/>\n",
       "<!-- Mobile Stylesheet -->\n",
       "<link href=\"/design/tdwi/tdwi/2017/css/mobile.css?v=1\" media=\"handheld, only screen and (max-width: 480px), only screen and (max-device-width: 480px)\" rel=\"stylesheet\"/>\n",
       "<!--[if IEMobile]>\n",
       "<link rel=\"stylesheet\" type=\"text/css\" href=\"/design/tdwi/tdwi/2017/css/mobile.css?v=1\" media=\"screen\" />\n",
       "<![endif]-->\n",
       "<script> (function () {  _ml = window._ml || {};  _ml.eid = '50202';  _ml.ht = 'shex';  _ml.em = '';  _ml.dm = '';  _ml.informer = { enable: true };  var s = document.getElementsByTagName('script')[0], cd = new Date(), mltag = document.createElement('script');  mltag.type = 'text/javascript'; mltag.async = true;  mltag.src = '//ml314.com/tag.aspx?' + cd.getDate() + cd.getMonth() + cd.getFullYear();  s.parentNode.insertBefore(mltag, s);  })(); </script>\n",
       "</link></link></link></link></link></link></meta></meta></head>\n",
       "<body>\n",
       "<form action=\"workshop-big-data-implementation.aspx\" id=\"form1\" method=\"post\" name=\"form1\">\n",
       "<input id=\"__VIEWSTATE\" name=\"__VIEWSTATE\" type=\"hidden\" value=\"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\"/>\n",
       "<script src=\"/ScriptResource.axd?d=lA4YcjqYGqEtyoU9SXv1fQNKpBVAd6uY2C59BfMJQTQ9nr7Lr6gxPie6DPWr94TstFBGwfF2UXhKpdYzXUsQ-WVmHM4v8Czi7POlmms2P0tIAYy0_EKlV3DxrXSWozwLP8RJ1gBcASOW15ht9rI28NaFfdkyWcTVyUMRpmy8LWEqVrXz0&amp;t=2e2045e2\" type=\"text/javascript\"></script>\n",
       "<input id=\"__VIEWSTATEGENERATOR\" name=\"__VIEWSTATEGENERATOR\" type=\"hidden\" value=\"1A475F3F\"/>\n",
       "<div id=\"wrapper\">\n",
       "<script type=\"text/javascript\">\n",
       "\n",
       "$(document).ready(function(){ \n",
       "\n",
       "// image\n",
       "  $('a.pup').on('click', function(e) {\n",
       "    e.preventDefault();\n",
       "\n",
       "    var url = $(this).attr('href');\n",
       "    //console.log(url);\n",
       "\n",
       "    var content = '<img src=\"'+url+'\" />';\n",
       "\n",
       "    $('#lightbox .content').html(content);\n",
       "\n",
       "    $('#lightbox').addClass('show');\n",
       "\n",
       "  });\n",
       "\n",
       "\n",
       "\n",
       "\n",
       "// youtube\n",
       "  $('a.ytvideo').on('click', function(e) {\n",
       "    e.preventDefault();\n",
       "    var videoID = $(this).attr('href').split('=')[1];\n",
       "    console.log(videoID);\n",
       "\n",
       "    var url = 'https://www.youtube.com/embed/'+videoID+'?rel=0&autoplay=1';\n",
       "    //console.log(url);\n",
       "\n",
       "    var content = '<iframe width=\"560\" height=\"315\" frameborder=\"0\" src=\"'+url+'\"></iframe>';\n",
       "\n",
       "    $('#lightbox .content').html(content);\n",
       "\n",
       "    $('#lightbox').addClass('show');\n",
       "\n",
       "  });\n",
       "\n",
       "\n",
       "// Image Zoom\n",
       "\n",
       " $('#lightbox .content').on('click', 'img', function(e) {\n",
       "    e.preventDefault();\n",
       "    $(this).parent('.content').toggleClass('full');\n",
       "    //console.log('stop, that tickles');\n",
       "  });\n",
       "\n",
       "  $('#lightbox').on('click', function(e) {\n",
       "    e.preventDefault();\n",
       "    if( e.target !== this) return;\n",
       "    $('#lightbox .content').html('');\n",
       "    $(this).removeClass('show');\n",
       "  });\n",
       "\n",
       "  $('#lightbox .close').on('click', function(e) {\n",
       "    e.preventDefault();\n",
       "    if( e.target !== this) return;\n",
       "    $('#lightbox .content').html('');\n",
       "    $('#lightbox').removeClass('show');\n",
       "  });\n",
       "\n",
       "});\n",
       "\n",
       "\n",
       "</script>\n",
       "<div id=\"lightbox\">\n",
       "<a class=\"close\" href=\"#\"><span></span><span></span><span></span><span></span></a>\n",
       "<div class=\"content\"></div>\n",
       "</div>\n",
       "<header>\n",
       "<div class=\"boxHomeNav\" id=\"ph_header1_0_divBlockBox\">\n",
       "<div class=\"summary\" id=\"ph_header1_0_divBody\"><a href=\"/events/seminars/upcoming.aspx\" title=\"TDWI Seminars\">&lt; TDWI Seminars</a></div>\n",
       "</div>\n",
       "<div class=\"hdrLogo\" id=\"ph_header2_0_divBlockBox\">\n",
       "<div class=\"summary\" id=\"ph_header2_0_divBody\"><h1><a href=\"/events/seminars/dc/home.aspx\">TDWI DC Seminar</a></h1></div>\n",
       "</div>\n",
       "<nav id=\"utilityLinks\">\n",
       "</nav>\n",
       "<nav id=\"mainNavigation\">\n",
       "<noindex>\n",
       "<!-- component markup start -->\n",
       "<div class=\"mainNavigationMenu\">\n",
       "<ul class=\"topnavlist\"><li class=\"\"><a href=\"/events/seminars/dc/home.aspx#agenda\">Agenda</a></li><li class=\"\"><a href=\"/events/seminars/dc/home.aspx#pricing\">Pricing</a></li><li class=\"\"><a href=\"/events/seminars/dc/home.aspx#location\">Location</a></li><li class=\" last\"><a href=\"http://www.eiseverywhere.com/dc18\">Register</a></li></ul>\n",
       "<br class=\"clear\"/>\n",
       "</div>\n",
       "<!-- component markup end -->\n",
       "</noindex>\n",
       "<div id=\"menu\">\n",
       "</div>\n",
       "</nav>\n",
       "</header>\n",
       "<div id=\"postHeader\">\n",
       "<div id=\"postHeaderContent\">\n",
       "</div>\n",
       "</div>\n",
       "<div id=\"contentBox\">\n",
       "<div class=\"pageHero\" id=\"contentbox1_0_divBlockBox\">\n",
       "<div class=\"summary\" id=\"contentbox1_0_divBody\"><h2>TDWI DC Seminar</h2></div>\n",
       "</div>\n",
       "<!-- component markup start -->\n",
       "<div id=\"level0\">\n",
       "<!-- component markup start -->\n",
       "<!-- component markup end -->\n",
       "<div id=\"sessions\">\n",
       "<h4 id=\"contentbox2_0_SessionName\"> Workshop: Big Data Implementation</h4>\n",
       "<p class=\"date\" id=\"contentbox2_0_Date\">May 2, 2018</p>\n",
       "<p class=\"duration\" id=\"contentbox2_0_Duration\">Duration: Half Day Course</p>\n",
       "<div>\n",
       "<p class=\"prereq\" id=\"contentbox2_0_Prerequisite\">Prerequisite: None</p>\n",
       "<!-- Speaker start -->\n",
       "<div class=\"speaker\">\n",
       "<a href=\"https://tdwi.org/events/seminars/dc/Speakers/Speaker Window.aspx?SpeakerId={A5456AAE-3910-4BE3-AEF2-7A9995F709DB}&amp;ID={4ADD2367-D19D-47BA-88DC-C288B4BAA0A5}\"><img src=\"~/media/TDWI/TDWI Events/Images/Speaker_105/krishnan_krish_105.jpg\"/></a>\n",
       "<p class=\"speaker\" id=\"contentbox2_0_SpeakerInfo_ctrl0_SpeakerName\"><a href=\"https://tdwi.org/events/seminars/dc/Speakers/Speaker Window.aspx?SpeakerId={A5456AAE-3910-4BE3-AEF2-7A9995F709DB}&amp;ID={4ADD2367-D19D-47BA-88DC-C288B4BAA0A5}\">Krish Krishnan</a></p>\n",
       "<p class=\"speakercredentials\" id=\"contentbox2_0_SpeakerInfo_ctrl0_Credentials\"></p>\n",
       "<p class=\"speakertitle\" id=\"contentbox2_0_SpeakerInfo_ctrl0_SpeakerTitle\">CTO</p>\n",
       "<p class=\"speakercompany\" id=\"contentbox2_0_SpeakerInfo_ctrl0_SpeakerCompany\">Ampcus Inc</p>\n",
       "</div>\n",
       "<!-- Speaker end -->\n",
       "<!-- Associated Files start -->\n",
       "<!-- Associated Files end -->\n",
       "<p id=\"contentbox2_0_Content\"><h4>Data-Driven Decisions</h4>\n",
       "<ul class=\"learn\">\n",
       "<li>Data Value Chain.</li>\n",
       "<li>Interrogating A Cross-Organizational Data Set.</li>\n",
       "<li>Migration from silos to an integrated raw data landscape.</li>\n",
       "</ul>\n",
       "<h4> Big Data Technological Landscape</h4>\n",
       "<ul class=\"learn\">\n",
       "<li>Ecosystem Essentials: </li>\n",
       "<ul class=\"learn\">\n",
       "<li>Understanding  technologies and vendors</li>\n",
       "<li>Defining  the value of distributed computing </li>\n",
       "<li>Technology  stacks.</li>\n",
       "<li>Selection  Criteria</li>\n",
       "</ul>\n",
       "<li>Data Swamp, Data Lake and Data Hubs.</li>\n",
       "</ul>\n",
       "<h4> The Intersection of Data Science and Big Data</h4>\n",
       "<ul class=\"learn\">\n",
       "<li>Data Science Practice – Teams and Skills</li>\n",
       "<li>Defining the Data Warehouse Goals for Data Science.</li>\n",
       "<li>Artificial Intelligence and Machine Learning Intersects.</li>\n",
       "<li>Monetizing Data.</li>\n",
       "<li>Pitfalls of Big Data.</li>\n",
       "<li>Challenges and Barriers.</li>\n",
       "</ul>\n",
       "<h4> Big Data Resources and HR</h4>\n",
       "<ul class=\"learn\">\n",
       "<li>Building an internal team for data science.</li>\n",
       "<li>Hiring Data Science Team Members.</li>\n",
       "<li>Data Science Teams Success Goals.</li>\n",
       "</ul>\n",
       "<h4>New Directions and Opportunities for Innovation</h4>\n",
       "<ul class=\"learn\">\n",
       "<li>New business opportunities.</li>\n",
       "<li>Leveraging Big Data.</li>\n",
       "<li>Leadership development.</li>\n",
       "<li>Innovation Lab: how to take a problem, solve it, and push that solution up within the organization.</li>\n",
       "</ul></p>\n",
       "</div>\n",
       "</div>\n",
       "</div>\n",
       "<!-- component markup end -->\n",
       "<div class=\"back_btn\"><a class=\"cta_btn\" href=\"javascript:history.back()\">Back to previous page</a></div>\n",
       "<div id=\"lContent\">\n",
       "</div>\n",
       "<section id=\"contentA\">\n",
       "</section>\n",
       "<section id=\"contentB\">\n",
       "</section>\n",
       "<section id=\"contentC\">\n",
       "</section>\n",
       "<section id=\"contentD\">\n",
       "</section>\n",
       "<section id=\"contentE\">\n",
       "</section>\n",
       "<section id=\"contentF\">\n",
       "</section>\n",
       "<section id=\"contentG\">\n",
       "</section>\n",
       "<aside id=\"rContent\">\n",
       "</aside>\n",
       "</div>\n",
       "<div id=\"prefooter\">\n",
       "<div class=\"boxReminder\" id=\"ph_prefooter1_0_divBlockBox\">\n",
       "<h3 id=\"ph_prefooter1_0_h3Header\">Register Online</h3>\n",
       "<div class=\"summary\" id=\"ph_prefooter1_0_divBody\"><p>Rest easy—online registrations for this seminar are secure. Our secured server environment keeps your information private.</p></div>\n",
       "<p class=\"footer\" id=\"ph_prefooter1_0_pFooter\"><a href=\"http://www.eiseverywhere.com/dc18\">Register Now</a></p>\n",
       "</div><div class=\"boxEmail\">\n",
       "<h3> Subscribe to Receive seminar updates via email</h3>\n",
       "<div class=\"email_form\">\n",
       "<iframe class=\"marketo\" scrolling=\"no\" src=\"/design/TDWI/tdwi/2017/events/marketo/forms/washingtondc-seminar-marketo-email-capture.html\" target=\"_parent\"></iframe>\n",
       "</div>\n",
       "</div>\n",
       "</div>\n",
       "<footer>\n",
       "<script>\n",
       "$(document).ready(function(){\n",
       "  $('#menu').html('<span></span><span></span><span></span><span></span>');\n",
       "  $('#mainNavigation #menu').click(function(){\n",
       "    $('#mainNavigation,#utilityLinks').toggleClass('open');\n",
       "  });\n",
       "});\n",
       "</script>\n",
       "<div class=\"logos\">\n",
       "<a class=\"tdwi\" href=\"https://tdwi.org\" target=\"_blank\"></a>\n",
       "<a class=\"media\" href=\"https://1105media.com\" target=\"_blank\"></a>\n",
       "</div>\n",
       "<div class=\"follow\">\n",
       "<h3>FOLLOW TDWI</h3>\n",
       "<ul class=\"stayConnected\">\n",
       "<li class=\"linkedin\"><a href=\"https://tdwi.org/linkedin\" target=\"_blank\">LinkedIn</a></li>\n",
       "<li class=\"twitter\"><a href=\"https://tdwi.org/twitter\" target=\"_blank\">Twitter</a></li>\n",
       "<li class=\"facebook\"><a href=\"https://tdwi.org/facebook\" target=\"_blank\">Facebook</a></li>\n",
       "<li class=\"gplus\"><a href=\"https://plus.google.com/+TdwiOrg?rel=publisher\" target=\"_blank\">Google+</a></li>\n",
       "<li class=\"youtube\"><a href=\"https://tdwi.org/youtube\" target=\"_blank\">YouTube</a></li>\n",
       "<li class=\"instagram\"><a href=\"https://tdwi.org/instagram\" target=\"_blank\">Instagram</a></li>\n",
       "</ul>\n",
       "</div>\n",
       "<noindex>\n",
       "</noindex>\n",
       "<div class=\"boxFooterReg\" id=\"ph_footer2_1_divBlockBox\">\n",
       "<h3 id=\"ph_footer2_1_h3Header\">TDWI DC Seminar</h3>\n",
       "<div class=\"summary\" id=\"ph_footer2_1_divBody\"><p>MicroTek Training Center<br>\n",
       "1110 Vermont Avenue NW<br>\n",
       "Suite 700<br>\n",
       "Washington, DC 20005<br>\n",
       "April 30–May 2</br></br></br></br></p></div>\n",
       "<p class=\"footer\" id=\"ph_footer2_1_pFooter\"><a href=\"http://www.eiseverywhere.com/dc18\">Register Now</a></p>\n",
       "</div>\n",
       "<div class=\"app\">\n",
       "<h3>EVENT APP</h3>\n",
       "<ul>\n",
       "<li><a href=\"https://itunes.apple.com/us/app/tdwi/id1111317486?ls=1&amp;mt=8\" target=\"_blank\"><img alt=\"Download on the App Store\" src=\"/design/tdwi/tdwi/2017/img/badge_apple_app_store.png\"/></a></li>\n",
       "<li><a href=\"https://play.google.com/store/apps/details?id=com.pathable.tdwi&amp;pcampaignid=MKT-Other-global-all-co-prtnr-py-PartBadge-Mar2515-1\" target=\"_blank\"><img alt=\"Get it on Google Play\" src=\"/design/tdwi/tdwi/2017/img/badge_google_play_store.png\"/></a></li>\n",
       "</ul>\n",
       "</div>\n",
       "<!-- Crazyegg heatmap code -->\n",
       "<script type=\"text/javascript\">\n",
       "setTimeout(function(){var a=document.createElement(\"script\");\n",
       "var b=document.getElementsByTagName('script')[0];\n",
       "a.src=document.location.protocol+\"//dnn506yrbagrg.cloudfront.net/pages/scripts/0012/7598.js?\"+Math.floor(new Date().getTime()/3600000);\n",
       "a.async=true;a.type=\"text/javascript\";b.parentNode.insertBefore(a,b)}, 1);\n",
       "</script>\n",
       "<!-- RTP tag -->\n",
       "<script type=\"text/javascript\">\n",
       "(function(c,h,a,f,i,e){c[a]=c[a]||function(){(c[a].q=c[a].q||[]).push(arguments)};\n",
       " c[a].a=i;c[a].e=e;var g=h.createElement(\"script\");g.async=true;g.type=\"text/javascript\";\n",
       " g.src=f+'?aid='+i;var b=h.getElementsByTagName(\"script\")[0];b.parentNode.insertBefore(g,b);\n",
       " })(window,document,\"rtp\",\"//sjrtp4-cdn.marketo.com/rtp-api/v1/rtp.js\",\"tdwi\");\n",
       " \n",
       "rtp('send','view');\n",
       "rtp('get', 'campaign',true);\n",
       "</script>\n",
       "<!-- End of RTP tag -->\n",
       "<!-- Start Marketo Munchkin Code -->\n",
       "<script type=\"text/javascript\">\n",
       "(function() {\n",
       "var didInit = false;\n",
       "function initMunchkin() {\n",
       "if(didInit === false) {\n",
       "didInit = true;\n",
       "Munchkin.init('626-EMC-557', {\"asyncOnly\":true, \"domainLevel\":2});\n",
       "}\n",
       "}\n",
       "var s = document.createElement('script');\n",
       "s.type = 'text/javascript';\n",
       "s.async = true;\n",
       "s.src = '//munchkin.marketo.net/munchkin.js';\n",
       "s.onreadystatechange = function() {\n",
       "if (this.readyState == 'complete' || this.readyState == 'loaded') {\n",
       "initMunchkin();\n",
       "}\n",
       "};\n",
       "s.onload = initMunchkin;\n",
       "document.getElementsByTagName('head')[0].appendChild(s);\n",
       "})();\n",
       "</script>\n",
       "<!-- End Marketo Munchkin Code -->\n",
       "<!-- Start Google Code for Remarketing Tag -->\n",
       "<script type=\"text/javascript\">\n",
       "/* <![CDATA[ */\n",
       "var google_conversion_id = 910527071;\n",
       "var google_custom_params = window.google_tag_params;\n",
       "var google_remarketing_only = true;\n",
       "/* ]]> */\n",
       "</script>\n",
       "<script src=\"//www.googleadservices.com/pagead/conversion.js\" type=\"text/javascript\">\n",
       "</script>\n",
       "<noscript>\n",
       "<div style=\"display:inline;width:1px;height:1px;\">\n",
       "<img alt=\"\" height=\"1\" src=\"//googleads.g.doubleclick.net/pagead/viewthroughconversion/910527071/?value=0&amp;guid=ON&amp;script=0\" style=\"border-style:none;\" width=\"1\"/>\n",
       "</div>\n",
       "</noscript>\n",
       "<!-- End Google Code for Remarketing Tag -->\n",
       "<!-- Start Google Code for Ad Blocker -->\n",
       "<script> \n",
       "      \n",
       "      window.onload = function() { \n",
       "      \n",
       "        // Delay to allow the async Google Ads to load\n",
       "        setTimeout(function() { \n",
       "          \n",
       "          // Get the first AdSense ad unit on the page\n",
       "          var ad = document.querySelector(\"ins.adsbygoogle\");\n",
       "          \n",
       "          // If the ads are not loaded, track the event\n",
       "          if (ad && ad.innerHTML.replace(/\\s/g, \"\").length == 0) {\n",
       "     \n",
       "            if (typeof ga !== 'undefined') {\n",
       "     \n",
       "                // Log an event in Universal Analytics\n",
       "                // but without affecting overall bounce rate\n",
       "                ga('send', 'event', 'Adblock', 'Yes', {'nonInteraction': 1}); \n",
       "     \n",
       "            } else if (typeof _gaq !== 'undefined') {\n",
       "     \n",
       "                // Log a non-interactive event in old Google Analytics\n",
       "                _gaq.push(['_trackEvent', 'Adblock', 'Yes', undefined, undefined, true]);\n",
       "     \n",
       "            }\n",
       "          }\n",
       "        }, 2000); // Run ad block detection 2 seconds after page load\n",
       "      }; \n",
       "      \n",
       "    </script>\n",
       "<!-- End Google Code for Ad Blocker -->\n",
       "<!-- Facebook Conversion Code for Visits Pricing Page of Event Web Site -->\n",
       "<script>(function() {\n",
       "  var _fbq = window._fbq || (window._fbq = []);\n",
       "  if (!_fbq.loaded) {\n",
       "    var fbds = document.createElement('script');\n",
       "    fbds.async = true;\n",
       "    fbds.src = '//connect.facebook.net/en_US/fbds.js';\n",
       "    var s = document.getElementsByTagName('script')[0];\n",
       "    s.parentNode.insertBefore(fbds, s);\n",
       "    _fbq.loaded = true;\n",
       "  }\n",
       "})();\n",
       "window._fbq = window._fbq || [];\n",
       "window._fbq.push(['track', '6020145320236', {'value':'0.00','currency':'USD'}]);\n",
       "</script>\n",
       "<noscript><img alt=\"\" height=\"1\" src=\"https://www.facebook.com/tr?ev=6020145320236&amp;cd[value]=0.00&amp;cd[currency]=USD&amp;noscript=1\" style=\"display:none\" width=\"1\"/></noscript>\n",
       "<script>(function() {\n",
       "  var _fbq = window._fbq || (window._fbq = []);\n",
       "  if (!_fbq.loaded) {\n",
       "    var fbds = document.createElement('script');\n",
       "    fbds.async = true;\n",
       "    fbds.src = '//connect.facebook.net/en_US/fbds.js';\n",
       "    var s = document.getElementsByTagName('script')[0];\n",
       "    s.parentNode.insertBefore(fbds, s);\n",
       "    _fbq.loaded = true;\n",
       "  }\n",
       "  _fbq.push(['addPixelId', '407773706048385']);\n",
       "})();\n",
       "window._fbq = window._fbq || [];\n",
       "window._fbq.push(['track', 'PixelInitialized', {}]);\n",
       "</script>\n",
       "<noscript><img alt=\"\" height=\"1\" src=\"https://www.facebook.com/tr?id=407773706048385&amp;ev=PixelInitialized\" style=\"display:none\" width=\"1\"/></noscript>\n",
       "<script type=\"text/javascript\">\n",
       "var axel = Math.random() + \"\";\n",
       "var a = axel * 10000000000000;\n",
       "document.write('<img src=\"http://ad.doubleclick.net/ddm/activity/src=4619205;type=1105t0;cat=tdwib0;ord=' + a + '?\" width=\"1\" height=\"1\" alt=\"\"/>');\n",
       "</script>\n",
       "<noscript>\n",
       "<img alt=\"\" height=\"1\" src=\"http://ad.doubleclick.net/ddm/activity/src=4619205;type=1105t0;cat=tdwib0;ord=1?\" width=\"1\"/>\n",
       "</noscript>\n",
       "<!-- begin SnapEngage code -->\n",
       "<script type=\"text/javascript\">\n",
       "  (function() {\n",
       "    var se = document.createElement('script'); se.type = 'text/javascript'; se.async = true;\n",
       "    se.src = '//storage.googleapis.com/code.snapengage.com/js/94e58518-4843-4066-be94-4b7a126abeb1.js';\n",
       "    var done = false;\n",
       "    se.onload = se.onreadystatechange = function() {\n",
       "      if (!done&&(!this.readyState||this.readyState==='loaded'||this.readyState==='complete')) {\n",
       "        done = true;\n",
       "        /* Place your SnapEngage JS API code below */\n",
       "        /* SnapEngage.allowChatSound(true); Example JS API: Enable sounds for Visitors. */\n",
       "      }\n",
       "    };\n",
       "    var s = document.getElementsByTagName('script')[0]; s.parentNode.insertBefore(se, s);\n",
       "  })();\n",
       "</script>\n",
       "<!-- end SnapEngage code -->\n",
       "</footer>\n",
       "</div>\n",
       "<script type=\"text/javascript\">\n",
       "//<![CDATA[\n",
       "Sys.Application.initialize();\n",
       "//]]>\n",
       "</script>\n",
       "</form>\n",
       "</body>\n",
       "</html>"
      ]
     },
     "execution_count": 108,
     "metadata": {},
     "output_type": "execute_result"
    }
   ],
   "source": [
    "abstract"
   ]
  },
  {
   "cell_type": "markdown",
   "metadata": {},
   "source": [
    "Extract the abstract element"
   ]
  },
  {
   "cell_type": "markdown",
   "metadata": {},
   "source": [
    "### Preprocessing Function 5"
   ]
  },
  {
   "cell_type": "code",
   "execution_count": 109,
   "metadata": {
    "collapsed": false
   },
   "outputs": [],
   "source": [
    "abstract_element = abstract.find(\"p\", {\"id\" : \"contentbox2_0_Content\"}).text"
   ]
  },
  {
   "cell_type": "markdown",
   "metadata": {},
   "source": [
    "### _________________________"
   ]
  },
  {
   "cell_type": "code",
   "execution_count": 110,
   "metadata": {
    "collapsed": false
   },
   "outputs": [
    {
     "data": {
      "text/plain": [
       "'Data-Driven Decisions\\n\\nData Value Chain.\\nInterrogating A Cross-Organizational Data Set.\\nMigration from silos to an integrated raw data landscape.\\n\\n\\xa0Big Data Technological Landscape\\n\\nEcosystem Essentials: \\n\\nUnderstanding  technologies and vendors\\nDefining  the value of distributed computing \\nTechnology  stacks.\\nSelection  Criteria\\n\\nData Swamp, Data Lake and Data Hubs.\\n\\n\\xa0The Intersection of Data Science and Big Data\\n\\nData Science Practice – Teams and Skills\\nDefining the Data Warehouse Goals for Data Science.\\nArtificial Intelligence and Machine Learning Intersects.\\nMonetizing Data.\\nPitfalls of Big Data.\\nChallenges and Barriers.\\n\\n\\xa0Big Data Resources and HR\\n\\nBuilding an internal team for data science.\\nHiring Data Science Team Members.\\nData Science Teams Success Goals.\\n\\nNew Directions and Opportunities for Innovation\\n\\nNew business opportunities.\\nLeveraging Big Data.\\nLeadership development.\\nInnovation Lab: how to take a problem, solve it, and push that solution up within the organization.\\n'"
      ]
     },
     "execution_count": 110,
     "metadata": {},
     "output_type": "execute_result"
    }
   ],
   "source": [
    "abstract_element"
   ]
  },
  {
   "cell_type": "code",
   "execution_count": 18,
   "metadata": {
    "collapsed": false
   },
   "outputs": [
    {
     "data": {
      "text/plain": [
       "str"
      ]
     },
     "execution_count": 18,
     "metadata": {},
     "output_type": "execute_result"
    }
   ],
   "source": [
    "type(abstract_element)"
   ]
  },
  {
   "cell_type": "markdown",
   "metadata": {},
   "source": [
    "### Text Processing"
   ]
  },
  {
   "cell_type": "code",
   "execution_count": 19,
   "metadata": {
    "collapsed": true
   },
   "outputs": [],
   "source": [
    "import nltk"
   ]
  },
  {
   "cell_type": "code",
   "execution_count": 20,
   "metadata": {
    "collapsed": false
   },
   "outputs": [
    {
     "name": "stdout",
     "output_type": "stream",
     "text": [
      "showing info https://raw.githubusercontent.com/nltk/nltk_data/gh-pages/index.xml\n"
     ]
    },
    {
     "data": {
      "text/plain": [
       "True"
      ]
     },
     "execution_count": 20,
     "metadata": {},
     "output_type": "execute_result"
    }
   ],
   "source": [
    "nltk.download()"
   ]
  },
  {
   "cell_type": "markdown",
   "metadata": {
    "collapsed": true
   },
   "source": [
    "### Convert Abstract into Tokens"
   ]
  },
  {
   "cell_type": "raw",
   "metadata": {
    "collapsed": true
   },
   "source": [
    "from nltk.tokenize import sent_tokenize, word_tokenize"
   ]
  },
  {
   "cell_type": "markdown",
   "metadata": {},
   "source": [
    "### Preprocessing Function 1"
   ]
  },
  {
   "cell_type": "code",
   "execution_count": 21,
   "metadata": {
    "collapsed": true
   },
   "outputs": [],
   "source": [
    "from nltk.tokenize import RegexpTokenizer"
   ]
  },
  {
   "cell_type": "code",
   "execution_count": 22,
   "metadata": {
    "collapsed": true
   },
   "outputs": [],
   "source": [
    "### ________________________"
   ]
  },
  {
   "cell_type": "code",
   "execution_count": 23,
   "metadata": {
    "collapsed": true
   },
   "outputs": [],
   "source": [
    "tokenizer = RegexpTokenizer(r'\\w+')"
   ]
  },
  {
   "cell_type": "markdown",
   "metadata": {},
   "source": [
    "### Preprocessing Function 6 - tokenize"
   ]
  },
  {
   "cell_type": "code",
   "execution_count": 24,
   "metadata": {
    "collapsed": false
   },
   "outputs": [],
   "source": [
    "tokens = tokenizer.tokenize(abstract_element)"
   ]
  },
  {
   "cell_type": "markdown",
   "metadata": {},
   "source": [
    "### ____________________________________"
   ]
  },
  {
   "cell_type": "code",
   "execution_count": 25,
   "metadata": {
    "collapsed": false
   },
   "outputs": [
    {
     "data": {
      "text/plain": [
       "['Big',\n",
       " 'data',\n",
       " 'is',\n",
       " 'a',\n",
       " 'hot',\n",
       " 'topic',\n",
       " 'in',\n",
       " 'BI',\n",
       " 'and',\n",
       " 'analytics',\n",
       " 'Yet',\n",
       " 'it',\n",
       " 'is',\n",
       " 'a',\n",
       " 'complex',\n",
       " 'topic',\n",
       " 'that',\n",
       " 'is',\n",
       " 'still',\n",
       " 'in',\n",
       " 'the',\n",
       " 'early',\n",
       " 'stages',\n",
       " 'of',\n",
       " 'evolution',\n",
       " 'Successful',\n",
       " 'big',\n",
       " 'data',\n",
       " 'projects',\n",
       " 'that',\n",
       " 'deliver',\n",
       " 'real',\n",
       " 'business',\n",
       " 'value',\n",
       " 'are',\n",
       " 'challenged',\n",
       " 'by',\n",
       " 'multiple',\n",
       " 'definitions',\n",
       " 'and',\n",
       " 'rapidly',\n",
       " 'shifting',\n",
       " 'technologies',\n",
       " 'Achieving',\n",
       " 'good',\n",
       " 'return',\n",
       " 'on',\n",
       " 'your',\n",
       " 'big',\n",
       " 'data',\n",
       " 'investment',\n",
       " 'requires',\n",
       " 'strategy',\n",
       " 'that',\n",
       " 'focuses',\n",
       " 'on',\n",
       " 'purpose',\n",
       " 'people',\n",
       " 'and',\n",
       " 'process',\n",
       " 'before',\n",
       " 'exploring',\n",
       " 'data',\n",
       " 'and',\n",
       " 'technologies',\n",
       " 'Strategy',\n",
       " 'drives',\n",
       " 'planning',\n",
       " 'and',\n",
       " 'architecture',\n",
       " 'to',\n",
       " 'ensure',\n",
       " 'that',\n",
       " 'big',\n",
       " 'data',\n",
       " 'complements',\n",
       " 'and',\n",
       " 'does',\n",
       " 'not',\n",
       " 'disrupt',\n",
       " 'the',\n",
       " 'existing',\n",
       " 'BI',\n",
       " 'and',\n",
       " 'analytics',\n",
       " 'environment',\n",
       " 'To',\n",
       " 'prepare',\n",
       " 'for',\n",
       " 'success',\n",
       " 'with',\n",
       " 'big',\n",
       " 'data',\n",
       " 'start',\n",
       " 'by',\n",
       " 'understanding',\n",
       " 'all',\n",
       " 'of',\n",
       " 'the',\n",
       " 'pieces',\n",
       " 'and',\n",
       " 'how',\n",
       " 'they',\n",
       " 'fit',\n",
       " 'together',\n",
       " 'You',\n",
       " 'Will',\n",
       " 'Learn',\n",
       " 'Common',\n",
       " 'definitions',\n",
       " 'of',\n",
       " 'big',\n",
       " 'data',\n",
       " 'and',\n",
       " 'the',\n",
       " 'implications',\n",
       " 'of',\n",
       " 'each',\n",
       " 'Key',\n",
       " 'characteristics',\n",
       " 'of',\n",
       " 'big',\n",
       " 'data',\n",
       " 'and',\n",
       " 'why',\n",
       " 'size',\n",
       " 'is',\n",
       " 'not',\n",
       " 'among',\n",
       " 'the',\n",
       " 'top',\n",
       " 'five',\n",
       " 'The',\n",
       " 'structures',\n",
       " 'that',\n",
       " 'can',\n",
       " 'be',\n",
       " 'found',\n",
       " 'in',\n",
       " 'unstructured',\n",
       " 'data',\n",
       " 'Types',\n",
       " 'of',\n",
       " 'big',\n",
       " 'data',\n",
       " 'sources',\n",
       " 'streaming',\n",
       " 'data',\n",
       " 'social',\n",
       " 'data',\n",
       " 'sensor',\n",
       " 'data',\n",
       " 'etc',\n",
       " 'Value',\n",
       " 'opportunities',\n",
       " 'and',\n",
       " 'common',\n",
       " 'applications',\n",
       " 'for',\n",
       " 'big',\n",
       " 'data',\n",
       " 'Considerations',\n",
       " 'when',\n",
       " 'adapting',\n",
       " 'architectures',\n",
       " 'organizations',\n",
       " 'and',\n",
       " 'cultures',\n",
       " 'to',\n",
       " 'incorporate',\n",
       " 'big',\n",
       " 'data',\n",
       " 'The',\n",
       " 'scope',\n",
       " 'of',\n",
       " 'big',\n",
       " 'data',\n",
       " 'processes',\n",
       " 'tools',\n",
       " 'and',\n",
       " 'technologies',\n",
       " 'Geared',\n",
       " 'To',\n",
       " 'Business',\n",
       " 'and',\n",
       " 'data',\n",
       " 'analysts',\n",
       " 'BI',\n",
       " 'and',\n",
       " 'analytics',\n",
       " 'program',\n",
       " 'and',\n",
       " 'project',\n",
       " 'managers',\n",
       " 'BI',\n",
       " 'and',\n",
       " 'data',\n",
       " 'warehouse',\n",
       " 'architects',\n",
       " 'designers',\n",
       " 'and',\n",
       " 'developers',\n",
       " 'data',\n",
       " 'governance',\n",
       " 'and',\n",
       " 'data',\n",
       " 'quality',\n",
       " 'professionals',\n",
       " 'getting',\n",
       " 'started',\n",
       " 'with',\n",
       " 'big',\n",
       " 'data',\n",
       " 'anyone',\n",
       " 'seeking',\n",
       " 'to',\n",
       " 'cut',\n",
       " 'through',\n",
       " 'the',\n",
       " 'hype',\n",
       " 'to',\n",
       " 'understand',\n",
       " 'the',\n",
       " 'opportunities',\n",
       " 'challenges',\n",
       " 'and',\n",
       " 'realities',\n",
       " 'of',\n",
       " 'the',\n",
       " 'big',\n",
       " 'data',\n",
       " 'phenomenon']"
      ]
     },
     "execution_count": 25,
     "metadata": {},
     "output_type": "execute_result"
    }
   ],
   "source": [
    "tokens"
   ]
  },
  {
   "cell_type": "markdown",
   "metadata": {},
   "source": [
    "### Preprocessing Function 7 - make lower case "
   ]
  },
  {
   "cell_type": "code",
   "execution_count": 26,
   "metadata": {
    "collapsed": true
   },
   "outputs": [],
   "source": [
    "lower_tokens = [tok.lower() for tok in tokens]"
   ]
  },
  {
   "cell_type": "code",
   "execution_count": 27,
   "metadata": {
    "collapsed": false
   },
   "outputs": [
    {
     "data": {
      "text/plain": [
       "['big',\n",
       " 'data',\n",
       " 'is',\n",
       " 'a',\n",
       " 'hot',\n",
       " 'topic',\n",
       " 'in',\n",
       " 'bi',\n",
       " 'and',\n",
       " 'analytics',\n",
       " 'yet',\n",
       " 'it',\n",
       " 'is',\n",
       " 'a',\n",
       " 'complex',\n",
       " 'topic',\n",
       " 'that',\n",
       " 'is',\n",
       " 'still',\n",
       " 'in',\n",
       " 'the',\n",
       " 'early',\n",
       " 'stages',\n",
       " 'of',\n",
       " 'evolution',\n",
       " 'successful',\n",
       " 'big',\n",
       " 'data',\n",
       " 'projects',\n",
       " 'that',\n",
       " 'deliver',\n",
       " 'real',\n",
       " 'business',\n",
       " 'value',\n",
       " 'are',\n",
       " 'challenged',\n",
       " 'by',\n",
       " 'multiple',\n",
       " 'definitions',\n",
       " 'and',\n",
       " 'rapidly',\n",
       " 'shifting',\n",
       " 'technologies',\n",
       " 'achieving',\n",
       " 'good',\n",
       " 'return',\n",
       " 'on',\n",
       " 'your',\n",
       " 'big',\n",
       " 'data',\n",
       " 'investment',\n",
       " 'requires',\n",
       " 'strategy',\n",
       " 'that',\n",
       " 'focuses',\n",
       " 'on',\n",
       " 'purpose',\n",
       " 'people',\n",
       " 'and',\n",
       " 'process',\n",
       " 'before',\n",
       " 'exploring',\n",
       " 'data',\n",
       " 'and',\n",
       " 'technologies',\n",
       " 'strategy',\n",
       " 'drives',\n",
       " 'planning',\n",
       " 'and',\n",
       " 'architecture',\n",
       " 'to',\n",
       " 'ensure',\n",
       " 'that',\n",
       " 'big',\n",
       " 'data',\n",
       " 'complements',\n",
       " 'and',\n",
       " 'does',\n",
       " 'not',\n",
       " 'disrupt',\n",
       " 'the',\n",
       " 'existing',\n",
       " 'bi',\n",
       " 'and',\n",
       " 'analytics',\n",
       " 'environment',\n",
       " 'to',\n",
       " 'prepare',\n",
       " 'for',\n",
       " 'success',\n",
       " 'with',\n",
       " 'big',\n",
       " 'data',\n",
       " 'start',\n",
       " 'by',\n",
       " 'understanding',\n",
       " 'all',\n",
       " 'of',\n",
       " 'the',\n",
       " 'pieces',\n",
       " 'and',\n",
       " 'how',\n",
       " 'they',\n",
       " 'fit',\n",
       " 'together',\n",
       " 'you',\n",
       " 'will',\n",
       " 'learn',\n",
       " 'common',\n",
       " 'definitions',\n",
       " 'of',\n",
       " 'big',\n",
       " 'data',\n",
       " 'and',\n",
       " 'the',\n",
       " 'implications',\n",
       " 'of',\n",
       " 'each',\n",
       " 'key',\n",
       " 'characteristics',\n",
       " 'of',\n",
       " 'big',\n",
       " 'data',\n",
       " 'and',\n",
       " 'why',\n",
       " 'size',\n",
       " 'is',\n",
       " 'not',\n",
       " 'among',\n",
       " 'the',\n",
       " 'top',\n",
       " 'five',\n",
       " 'the',\n",
       " 'structures',\n",
       " 'that',\n",
       " 'can',\n",
       " 'be',\n",
       " 'found',\n",
       " 'in',\n",
       " 'unstructured',\n",
       " 'data',\n",
       " 'types',\n",
       " 'of',\n",
       " 'big',\n",
       " 'data',\n",
       " 'sources',\n",
       " 'streaming',\n",
       " 'data',\n",
       " 'social',\n",
       " 'data',\n",
       " 'sensor',\n",
       " 'data',\n",
       " 'etc',\n",
       " 'value',\n",
       " 'opportunities',\n",
       " 'and',\n",
       " 'common',\n",
       " 'applications',\n",
       " 'for',\n",
       " 'big',\n",
       " 'data',\n",
       " 'considerations',\n",
       " 'when',\n",
       " 'adapting',\n",
       " 'architectures',\n",
       " 'organizations',\n",
       " 'and',\n",
       " 'cultures',\n",
       " 'to',\n",
       " 'incorporate',\n",
       " 'big',\n",
       " 'data',\n",
       " 'the',\n",
       " 'scope',\n",
       " 'of',\n",
       " 'big',\n",
       " 'data',\n",
       " 'processes',\n",
       " 'tools',\n",
       " 'and',\n",
       " 'technologies',\n",
       " 'geared',\n",
       " 'to',\n",
       " 'business',\n",
       " 'and',\n",
       " 'data',\n",
       " 'analysts',\n",
       " 'bi',\n",
       " 'and',\n",
       " 'analytics',\n",
       " 'program',\n",
       " 'and',\n",
       " 'project',\n",
       " 'managers',\n",
       " 'bi',\n",
       " 'and',\n",
       " 'data',\n",
       " 'warehouse',\n",
       " 'architects',\n",
       " 'designers',\n",
       " 'and',\n",
       " 'developers',\n",
       " 'data',\n",
       " 'governance',\n",
       " 'and',\n",
       " 'data',\n",
       " 'quality',\n",
       " 'professionals',\n",
       " 'getting',\n",
       " 'started',\n",
       " 'with',\n",
       " 'big',\n",
       " 'data',\n",
       " 'anyone',\n",
       " 'seeking',\n",
       " 'to',\n",
       " 'cut',\n",
       " 'through',\n",
       " 'the',\n",
       " 'hype',\n",
       " 'to',\n",
       " 'understand',\n",
       " 'the',\n",
       " 'opportunities',\n",
       " 'challenges',\n",
       " 'and',\n",
       " 'realities',\n",
       " 'of',\n",
       " 'the',\n",
       " 'big',\n",
       " 'data',\n",
       " 'phenomenon']"
      ]
     },
     "execution_count": 27,
     "metadata": {},
     "output_type": "execute_result"
    }
   ],
   "source": [
    "lower_tokens"
   ]
  },
  {
   "cell_type": "markdown",
   "metadata": {},
   "source": [
    "### Preprocessing Function 2"
   ]
  },
  {
   "cell_type": "code",
   "execution_count": 28,
   "metadata": {
    "collapsed": true
   },
   "outputs": [],
   "source": [
    "from nltk.corpus import stopwords"
   ]
  },
  {
   "cell_type": "markdown",
   "metadata": {},
   "source": [
    "### _________________________________________"
   ]
  },
  {
   "cell_type": "markdown",
   "metadata": {},
   "source": [
    "### Preprocessing Function 9 - remove stop words"
   ]
  },
  {
   "cell_type": "code",
   "execution_count": 29,
   "metadata": {
    "collapsed": true
   },
   "outputs": [],
   "source": [
    "stopwords = stopwords.words('english')"
   ]
  },
  {
   "cell_type": "markdown",
   "metadata": {},
   "source": [
    "### __________________________________"
   ]
  },
  {
   "cell_type": "code",
   "execution_count": 30,
   "metadata": {
    "collapsed": false
   },
   "outputs": [
    {
     "data": {
      "text/plain": [
       "['i',\n",
       " 'me',\n",
       " 'my',\n",
       " 'myself',\n",
       " 'we',\n",
       " 'our',\n",
       " 'ours',\n",
       " 'ourselves',\n",
       " 'you',\n",
       " \"you're\",\n",
       " \"you've\",\n",
       " \"you'll\",\n",
       " \"you'd\",\n",
       " 'your',\n",
       " 'yours',\n",
       " 'yourself',\n",
       " 'yourselves',\n",
       " 'he',\n",
       " 'him',\n",
       " 'his',\n",
       " 'himself',\n",
       " 'she',\n",
       " \"she's\",\n",
       " 'her',\n",
       " 'hers',\n",
       " 'herself',\n",
       " 'it',\n",
       " \"it's\",\n",
       " 'its',\n",
       " 'itself',\n",
       " 'they',\n",
       " 'them',\n",
       " 'their',\n",
       " 'theirs',\n",
       " 'themselves',\n",
       " 'what',\n",
       " 'which',\n",
       " 'who',\n",
       " 'whom',\n",
       " 'this',\n",
       " 'that',\n",
       " \"that'll\",\n",
       " 'these',\n",
       " 'those',\n",
       " 'am',\n",
       " 'is',\n",
       " 'are',\n",
       " 'was',\n",
       " 'were',\n",
       " 'be',\n",
       " 'been',\n",
       " 'being',\n",
       " 'have',\n",
       " 'has',\n",
       " 'had',\n",
       " 'having',\n",
       " 'do',\n",
       " 'does',\n",
       " 'did',\n",
       " 'doing',\n",
       " 'a',\n",
       " 'an',\n",
       " 'the',\n",
       " 'and',\n",
       " 'but',\n",
       " 'if',\n",
       " 'or',\n",
       " 'because',\n",
       " 'as',\n",
       " 'until',\n",
       " 'while',\n",
       " 'of',\n",
       " 'at',\n",
       " 'by',\n",
       " 'for',\n",
       " 'with',\n",
       " 'about',\n",
       " 'against',\n",
       " 'between',\n",
       " 'into',\n",
       " 'through',\n",
       " 'during',\n",
       " 'before',\n",
       " 'after',\n",
       " 'above',\n",
       " 'below',\n",
       " 'to',\n",
       " 'from',\n",
       " 'up',\n",
       " 'down',\n",
       " 'in',\n",
       " 'out',\n",
       " 'on',\n",
       " 'off',\n",
       " 'over',\n",
       " 'under',\n",
       " 'again',\n",
       " 'further',\n",
       " 'then',\n",
       " 'once',\n",
       " 'here',\n",
       " 'there',\n",
       " 'when',\n",
       " 'where',\n",
       " 'why',\n",
       " 'how',\n",
       " 'all',\n",
       " 'any',\n",
       " 'both',\n",
       " 'each',\n",
       " 'few',\n",
       " 'more',\n",
       " 'most',\n",
       " 'other',\n",
       " 'some',\n",
       " 'such',\n",
       " 'no',\n",
       " 'nor',\n",
       " 'not',\n",
       " 'only',\n",
       " 'own',\n",
       " 'same',\n",
       " 'so',\n",
       " 'than',\n",
       " 'too',\n",
       " 'very',\n",
       " 's',\n",
       " 't',\n",
       " 'can',\n",
       " 'will',\n",
       " 'just',\n",
       " 'don',\n",
       " \"don't\",\n",
       " 'should',\n",
       " \"should've\",\n",
       " 'now',\n",
       " 'd',\n",
       " 'll',\n",
       " 'm',\n",
       " 'o',\n",
       " 're',\n",
       " 've',\n",
       " 'y',\n",
       " 'ain',\n",
       " 'aren',\n",
       " \"aren't\",\n",
       " 'couldn',\n",
       " \"couldn't\",\n",
       " 'didn',\n",
       " \"didn't\",\n",
       " 'doesn',\n",
       " \"doesn't\",\n",
       " 'hadn',\n",
       " \"hadn't\",\n",
       " 'hasn',\n",
       " \"hasn't\",\n",
       " 'haven',\n",
       " \"haven't\",\n",
       " 'isn',\n",
       " \"isn't\",\n",
       " 'ma',\n",
       " 'mightn',\n",
       " \"mightn't\",\n",
       " 'mustn',\n",
       " \"mustn't\",\n",
       " 'needn',\n",
       " \"needn't\",\n",
       " 'shan',\n",
       " \"shan't\",\n",
       " 'shouldn',\n",
       " \"shouldn't\",\n",
       " 'wasn',\n",
       " \"wasn't\",\n",
       " 'weren',\n",
       " \"weren't\",\n",
       " 'won',\n",
       " \"won't\",\n",
       " 'wouldn',\n",
       " \"wouldn't\"]"
      ]
     },
     "execution_count": 30,
     "metadata": {},
     "output_type": "execute_result"
    }
   ],
   "source": [
    "stopwords"
   ]
  },
  {
   "cell_type": "markdown",
   "metadata": {},
   "source": [
    "### Preprocessing Function 10 - remove stop words"
   ]
  },
  {
   "cell_type": "code",
   "execution_count": 31,
   "metadata": {
    "collapsed": true
   },
   "outputs": [],
   "source": [
    "nostop_tokens = [tok for tok in lower_tokens if tok not in stopwords]"
   ]
  },
  {
   "cell_type": "markdown",
   "metadata": {},
   "source": [
    "### __________________________________________________"
   ]
  },
  {
   "cell_type": "code",
   "execution_count": 32,
   "metadata": {
    "collapsed": false
   },
   "outputs": [
    {
     "data": {
      "text/plain": [
       "['big',\n",
       " 'data',\n",
       " 'hot',\n",
       " 'topic',\n",
       " 'bi',\n",
       " 'analytics',\n",
       " 'yet',\n",
       " 'complex',\n",
       " 'topic',\n",
       " 'still',\n",
       " 'early',\n",
       " 'stages',\n",
       " 'evolution',\n",
       " 'successful',\n",
       " 'big',\n",
       " 'data',\n",
       " 'projects',\n",
       " 'deliver',\n",
       " 'real',\n",
       " 'business',\n",
       " 'value',\n",
       " 'challenged',\n",
       " 'multiple',\n",
       " 'definitions',\n",
       " 'rapidly',\n",
       " 'shifting',\n",
       " 'technologies',\n",
       " 'achieving',\n",
       " 'good',\n",
       " 'return',\n",
       " 'big',\n",
       " 'data',\n",
       " 'investment',\n",
       " 'requires',\n",
       " 'strategy',\n",
       " 'focuses',\n",
       " 'purpose',\n",
       " 'people',\n",
       " 'process',\n",
       " 'exploring',\n",
       " 'data',\n",
       " 'technologies',\n",
       " 'strategy',\n",
       " 'drives',\n",
       " 'planning',\n",
       " 'architecture',\n",
       " 'ensure',\n",
       " 'big',\n",
       " 'data',\n",
       " 'complements',\n",
       " 'disrupt',\n",
       " 'existing',\n",
       " 'bi',\n",
       " 'analytics',\n",
       " 'environment',\n",
       " 'prepare',\n",
       " 'success',\n",
       " 'big',\n",
       " 'data',\n",
       " 'start',\n",
       " 'understanding',\n",
       " 'pieces',\n",
       " 'fit',\n",
       " 'together',\n",
       " 'learn',\n",
       " 'common',\n",
       " 'definitions',\n",
       " 'big',\n",
       " 'data',\n",
       " 'implications',\n",
       " 'key',\n",
       " 'characteristics',\n",
       " 'big',\n",
       " 'data',\n",
       " 'size',\n",
       " 'among',\n",
       " 'top',\n",
       " 'five',\n",
       " 'structures',\n",
       " 'found',\n",
       " 'unstructured',\n",
       " 'data',\n",
       " 'types',\n",
       " 'big',\n",
       " 'data',\n",
       " 'sources',\n",
       " 'streaming',\n",
       " 'data',\n",
       " 'social',\n",
       " 'data',\n",
       " 'sensor',\n",
       " 'data',\n",
       " 'etc',\n",
       " 'value',\n",
       " 'opportunities',\n",
       " 'common',\n",
       " 'applications',\n",
       " 'big',\n",
       " 'data',\n",
       " 'considerations',\n",
       " 'adapting',\n",
       " 'architectures',\n",
       " 'organizations',\n",
       " 'cultures',\n",
       " 'incorporate',\n",
       " 'big',\n",
       " 'data',\n",
       " 'scope',\n",
       " 'big',\n",
       " 'data',\n",
       " 'processes',\n",
       " 'tools',\n",
       " 'technologies',\n",
       " 'geared',\n",
       " 'business',\n",
       " 'data',\n",
       " 'analysts',\n",
       " 'bi',\n",
       " 'analytics',\n",
       " 'program',\n",
       " 'project',\n",
       " 'managers',\n",
       " 'bi',\n",
       " 'data',\n",
       " 'warehouse',\n",
       " 'architects',\n",
       " 'designers',\n",
       " 'developers',\n",
       " 'data',\n",
       " 'governance',\n",
       " 'data',\n",
       " 'quality',\n",
       " 'professionals',\n",
       " 'getting',\n",
       " 'started',\n",
       " 'big',\n",
       " 'data',\n",
       " 'anyone',\n",
       " 'seeking',\n",
       " 'cut',\n",
       " 'hype',\n",
       " 'understand',\n",
       " 'opportunities',\n",
       " 'challenges',\n",
       " 'realities',\n",
       " 'big',\n",
       " 'data',\n",
       " 'phenomenon']"
      ]
     },
     "execution_count": 32,
     "metadata": {},
     "output_type": "execute_result"
    }
   ],
   "source": [
    "nostop_tokens"
   ]
  },
  {
   "cell_type": "markdown",
   "metadata": {},
   "source": [
    "### Preprocessing Function 8 - Stem"
   ]
  },
  {
   "cell_type": "code",
   "execution_count": 33,
   "metadata": {
    "collapsed": true
   },
   "outputs": [],
   "source": [
    "lancaster = nltk.LancasterStemmer()"
   ]
  },
  {
   "cell_type": "code",
   "execution_count": 34,
   "metadata": {
    "collapsed": true
   },
   "outputs": [],
   "source": [
    "stemmed_tokens = [lancaster.stem(t) for t in nostop_tokens]"
   ]
  },
  {
   "cell_type": "markdown",
   "metadata": {},
   "source": [
    "### _________________________________"
   ]
  },
  {
   "cell_type": "code",
   "execution_count": 35,
   "metadata": {
    "collapsed": false
   },
   "outputs": [
    {
     "data": {
      "text/plain": [
       "['big',\n",
       " 'dat',\n",
       " 'hot',\n",
       " 'top',\n",
       " 'bi',\n",
       " 'analys',\n",
       " 'yet',\n",
       " 'complex',\n",
       " 'top',\n",
       " 'stil',\n",
       " 'ear',\n",
       " 'stag',\n",
       " 'evolv',\n",
       " 'success',\n",
       " 'big',\n",
       " 'dat',\n",
       " 'project',\n",
       " 'del',\n",
       " 'real',\n",
       " 'busy',\n",
       " 'valu',\n",
       " 'challeng',\n",
       " 'multipl',\n",
       " 'definit',\n",
       " 'rapid',\n",
       " 'shift',\n",
       " 'technolog',\n",
       " 'achiev',\n",
       " 'good',\n",
       " 'return',\n",
       " 'big',\n",
       " 'dat',\n",
       " 'invest',\n",
       " 'requir',\n",
       " 'strategy',\n",
       " 'focus',\n",
       " 'purpos',\n",
       " 'peopl',\n",
       " 'process',\n",
       " 'expl',\n",
       " 'dat',\n",
       " 'technolog',\n",
       " 'strategy',\n",
       " 'driv',\n",
       " 'plan',\n",
       " 'architect',\n",
       " 'ens',\n",
       " 'big',\n",
       " 'dat',\n",
       " 'compl',\n",
       " 'disrupt',\n",
       " 'ex',\n",
       " 'bi',\n",
       " 'analys',\n",
       " 'environ',\n",
       " 'prep',\n",
       " 'success',\n",
       " 'big',\n",
       " 'dat',\n",
       " 'start',\n",
       " 'understand',\n",
       " 'piec',\n",
       " 'fit',\n",
       " 'togeth',\n",
       " 'learn',\n",
       " 'common',\n",
       " 'definit',\n",
       " 'big',\n",
       " 'dat',\n",
       " 'imply',\n",
       " 'key',\n",
       " 'charact',\n",
       " 'big',\n",
       " 'dat',\n",
       " 'siz',\n",
       " 'among',\n",
       " 'top',\n",
       " 'fiv',\n",
       " 'structures',\n",
       " 'found',\n",
       " 'unstruct',\n",
       " 'dat',\n",
       " 'typ',\n",
       " 'big',\n",
       " 'dat',\n",
       " 'sourc',\n",
       " 'streaming',\n",
       " 'dat',\n",
       " 'soc',\n",
       " 'dat',\n",
       " 'sens',\n",
       " 'dat',\n",
       " 'etc',\n",
       " 'valu',\n",
       " 'opportun',\n",
       " 'common',\n",
       " 'apply',\n",
       " 'big',\n",
       " 'dat',\n",
       " 'consid',\n",
       " 'adapt',\n",
       " 'architect',\n",
       " 'org',\n",
       " 'cult',\n",
       " 'incorp',\n",
       " 'big',\n",
       " 'dat',\n",
       " 'scop',\n",
       " 'big',\n",
       " 'dat',\n",
       " 'process',\n",
       " 'tool',\n",
       " 'technolog',\n",
       " 'gear',\n",
       " 'busy',\n",
       " 'dat',\n",
       " 'analyst',\n",
       " 'bi',\n",
       " 'analys',\n",
       " 'program',\n",
       " 'project',\n",
       " 'man',\n",
       " 'bi',\n",
       " 'dat',\n",
       " 'wareh',\n",
       " 'architect',\n",
       " 'design',\n",
       " 'develop',\n",
       " 'dat',\n",
       " 'govern',\n",
       " 'dat',\n",
       " 'qual',\n",
       " 'profess',\n",
       " 'get',\n",
       " 'start',\n",
       " 'big',\n",
       " 'dat',\n",
       " 'anyon',\n",
       " 'seek',\n",
       " 'cut',\n",
       " 'hyp',\n",
       " 'understand',\n",
       " 'opportun',\n",
       " 'challeng',\n",
       " 'real',\n",
       " 'big',\n",
       " 'dat',\n",
       " 'phenomenon']"
      ]
     },
     "execution_count": 35,
     "metadata": {},
     "output_type": "execute_result"
    }
   ],
   "source": [
    "stemmed_tokens"
   ]
  },
  {
   "cell_type": "markdown",
   "metadata": {},
   "source": [
    "### Create a Preprocessing Function/Loop for an Abstract & Run the Function"
   ]
  },
  {
   "cell_type": "code",
   "execution_count": 114,
   "metadata": {
    "collapsed": false
   },
   "outputs": [
    {
     "data": {
      "text/plain": [
       "['big',\n",
       " 'data',\n",
       " 'hot',\n",
       " 'topic',\n",
       " 'bi',\n",
       " 'analytics',\n",
       " 'yet',\n",
       " 'complex',\n",
       " 'topic',\n",
       " 'still',\n",
       " 'early',\n",
       " 'stages',\n",
       " 'evolution',\n",
       " 'successful',\n",
       " 'big',\n",
       " 'data',\n",
       " 'projects',\n",
       " 'deliver',\n",
       " 'real',\n",
       " 'business',\n",
       " 'value',\n",
       " 'challenged',\n",
       " 'multiple',\n",
       " 'definitions',\n",
       " 'rapidly',\n",
       " 'shifting',\n",
       " 'technologies',\n",
       " 'achieving',\n",
       " 'good',\n",
       " 'return',\n",
       " 'big',\n",
       " 'data',\n",
       " 'investment',\n",
       " 'requires',\n",
       " 'strategy',\n",
       " 'focuses',\n",
       " 'purpose',\n",
       " 'people',\n",
       " 'process',\n",
       " 'exploring',\n",
       " 'data',\n",
       " 'technologies',\n",
       " 'strategy',\n",
       " 'drives',\n",
       " 'planning',\n",
       " 'architecture',\n",
       " 'ensure',\n",
       " 'big',\n",
       " 'data',\n",
       " 'complements',\n",
       " 'disrupt',\n",
       " 'existing',\n",
       " 'bi',\n",
       " 'analytics',\n",
       " 'environment',\n",
       " 'prepare',\n",
       " 'success',\n",
       " 'big',\n",
       " 'data',\n",
       " 'start',\n",
       " 'understanding',\n",
       " 'pieces',\n",
       " 'fit',\n",
       " 'together',\n",
       " 'learn',\n",
       " 'common',\n",
       " 'definitions',\n",
       " 'big',\n",
       " 'data',\n",
       " 'implications',\n",
       " 'key',\n",
       " 'characteristics',\n",
       " 'big',\n",
       " 'data',\n",
       " 'size',\n",
       " 'among',\n",
       " 'top',\n",
       " 'five',\n",
       " 'structures',\n",
       " 'found',\n",
       " 'unstructured',\n",
       " 'data',\n",
       " 'types',\n",
       " 'big',\n",
       " 'data',\n",
       " 'sources',\n",
       " 'streaming',\n",
       " 'data',\n",
       " 'social',\n",
       " 'data',\n",
       " 'sensor',\n",
       " 'data',\n",
       " 'etc',\n",
       " 'value',\n",
       " 'opportunities',\n",
       " 'common',\n",
       " 'applications',\n",
       " 'big',\n",
       " 'data',\n",
       " 'considerations',\n",
       " 'adapting',\n",
       " 'architectures',\n",
       " 'organizations',\n",
       " 'cultures',\n",
       " 'incorporate',\n",
       " 'big',\n",
       " 'data',\n",
       " 'scope',\n",
       " 'big',\n",
       " 'data',\n",
       " 'processes',\n",
       " 'tools',\n",
       " 'technologies',\n",
       " 'geared',\n",
       " 'business',\n",
       " 'data',\n",
       " 'analysts',\n",
       " 'bi',\n",
       " 'analytics',\n",
       " 'program',\n",
       " 'project',\n",
       " 'managers',\n",
       " 'bi',\n",
       " 'data',\n",
       " 'warehouse',\n",
       " 'architects',\n",
       " 'designers',\n",
       " 'developers',\n",
       " 'data',\n",
       " 'governance',\n",
       " 'data',\n",
       " 'quality',\n",
       " 'professionals',\n",
       " 'getting',\n",
       " 'started',\n",
       " 'big',\n",
       " 'data',\n",
       " 'anyone',\n",
       " 'seeking',\n",
       " 'cut',\n",
       " 'hype',\n",
       " 'understand',\n",
       " 'opportunities',\n",
       " 'challenges',\n",
       " 'realities',\n",
       " 'big',\n",
       " 'data',\n",
       " 'phenomenon']"
      ]
     },
     "execution_count": 114,
     "metadata": {},
     "output_type": "execute_result"
    }
   ],
   "source": [
    "def abstract_preprocess(url):\n",
    "    \n",
    "    from nltk.tokenize import RegexpTokenizer\n",
    "    from nltk.corpus import stopwords\n",
    "    \n",
    "    abstract_webpage = request.urlopen(url).read()\n",
    "    abstract = BeautifulSoup(abstract_webpage,'html.parser')\n",
    "    abstract_element = abstract.find(\"p\", {\"id\" : \"contentbox2_0_Content\"}).text\n",
    "    \n",
    "    tokens = tokenizer.tokenize(abstract_element)\n",
    "    \n",
    "    lower_tokens = [tok.lower() for tok in tokens]\n",
    "    \n",
    "    stopwords = stopwords.words('english')\n",
    "    nostop_tokens = [tok for tok in lower_tokens if tok not in stopwords]\n",
    "    \n",
    "    lancaster = nltk.LancasterStemmer()\n",
    "    stemmed_tokens = [lancaster.stem(t) for t in nostop_tokens]\n",
    "    \n",
    "    return(nostop_tokens)\n",
    "\n",
    "abstract_preprocess(\"https://tdwi.org/events/seminars/dc/sessions/monday/tdwi-big-data-fundamentals-creating-value-from-non-traditional-data-sets.aspx\")"
   ]
  },
  {
   "cell_type": "code",
   "execution_count": 115,
   "metadata": {
    "collapsed": true
   },
   "outputs": [],
   "source": [
    "abstracts = [abstract_preprocess(url) for url in urls]"
   ]
  },
  {
   "cell_type": "code",
   "execution_count": 116,
   "metadata": {
    "collapsed": false
   },
   "outputs": [
    {
     "data": {
      "text/plain": [
       "6"
      ]
     },
     "execution_count": 116,
     "metadata": {},
     "output_type": "execute_result"
    }
   ],
   "source": [
    "len(abstracts)"
   ]
  },
  {
   "cell_type": "code",
   "execution_count": 47,
   "metadata": {
    "collapsed": false
   },
   "outputs": [
    {
     "data": {
      "text/plain": [
       "list"
      ]
     },
     "execution_count": 47,
     "metadata": {},
     "output_type": "execute_result"
    }
   ],
   "source": [
    "type(abstracts)"
   ]
  },
  {
   "cell_type": "code",
   "execution_count": 119,
   "metadata": {
    "collapsed": false
   },
   "outputs": [
    {
     "data": {
      "text/plain": [
       "['digital',\n",
       " 'age',\n",
       " 'brought',\n",
       " 'several',\n",
       " 'tipping',\n",
       " 'points',\n",
       " 'perspectives',\n",
       " 'world',\n",
       " 'data',\n",
       " 'today',\n",
       " 'sizes',\n",
       " 'formats',\n",
       " 'types',\n",
       " 'classes',\n",
       " 'data',\n",
       " 'generated',\n",
       " 'need',\n",
       " 'infrastructure',\n",
       " 'capture',\n",
       " 'transform',\n",
       " 'analyze',\n",
       " 'quickly',\n",
       " 'created',\n",
       " 'rapidly',\n",
       " 'evolving',\n",
       " 'technology',\n",
       " 'landscape',\n",
       " 'integrated',\n",
       " 'storage',\n",
       " 'compute',\n",
       " 'infrastructure',\n",
       " 'programming',\n",
       " 'platforms',\n",
       " 'perspective',\n",
       " 'driven',\n",
       " 'hadoop',\n",
       " 'nosql',\n",
       " 'infrastructures',\n",
       " 'business',\n",
       " 'advantage',\n",
       " 'produce',\n",
       " 'might',\n",
       " 'wondering',\n",
       " 'whether',\n",
       " 'organization',\n",
       " 'even',\n",
       " 'needs',\n",
       " 'data',\n",
       " 'warehouse',\n",
       " 'data',\n",
       " 'warehouse',\n",
       " 'handle',\n",
       " 'new',\n",
       " 'demands',\n",
       " 'digital',\n",
       " 'age',\n",
       " 'session',\n",
       " 'lays',\n",
       " 'ground',\n",
       " 'work',\n",
       " 'understanding',\n",
       " 'framework',\n",
       " 'create',\n",
       " 'manage',\n",
       " 'data',\n",
       " 'warehouse',\n",
       " 'age',\n",
       " 'big',\n",
       " 'data',\n",
       " 'learn',\n",
       " 'data',\n",
       " 'warehouse',\n",
       " 'goals',\n",
       " 'exploratory',\n",
       " 'analytics',\n",
       " 'farming',\n",
       " 'data',\n",
       " 'integrated',\n",
       " 'information',\n",
       " 'platform',\n",
       " 'available',\n",
       " 'usable',\n",
       " 'leveraged',\n",
       " 'infrastructure',\n",
       " 'issues',\n",
       " 'tipping',\n",
       " 'points',\n",
       " 'becoming',\n",
       " 'open',\n",
       " 'source',\n",
       " 'empowered',\n",
       " 'integrating',\n",
       " 'new',\n",
       " 'data',\n",
       " 'infrastructures',\n",
       " 'embrace',\n",
       " 'digital',\n",
       " 'transformation',\n",
       " 'hadoop',\n",
       " 'apache',\n",
       " 'nifi',\n",
       " 'apache',\n",
       " 'tika',\n",
       " 'nosql',\n",
       " 'make',\n",
       " 'work',\n",
       " 'data',\n",
       " 'warehouse',\n",
       " 'database',\n",
       " 'big',\n",
       " 'data',\n",
       " 'infrastructures',\n",
       " 'integrated',\n",
       " 'operational',\n",
       " 'prescriptive',\n",
       " 'analytics',\n",
       " 'new',\n",
       " 'data',\n",
       " 'grid',\n",
       " 'devops',\n",
       " 'machine',\n",
       " 'learning',\n",
       " 'neural',\n",
       " 'networks',\n",
       " 'analytics',\n",
       " 'pitfalls',\n",
       " 'risks',\n",
       " 'mitigation',\n",
       " 'strategies',\n",
       " 'build',\n",
       " 'new',\n",
       " 'ecosystem',\n",
       " 'integrating',\n",
       " 'open',\n",
       " 'source',\n",
       " 'platforms',\n",
       " 'relational',\n",
       " 'databases',\n",
       " 'analytical',\n",
       " 'ecosystems',\n",
       " 'data',\n",
       " 'visualization',\n",
       " 'reporting',\n",
       " 'platforms',\n",
       " 'constant',\n",
       " 'data',\n",
       " 'availability',\n",
       " 'based',\n",
       " 'security',\n",
       " 'role',\n",
       " 'case',\n",
       " 'studies',\n",
       " 'geared',\n",
       " 'anyone',\n",
       " 'looking',\n",
       " 'understand',\n",
       " 'ensure',\n",
       " 'data',\n",
       " 'warehouse',\n",
       " 'supports',\n",
       " 'future',\n",
       " 'analytics',\n",
       " 'big',\n",
       " 'data',\n",
       " 'data',\n",
       " 'architects',\n",
       " 'bi',\n",
       " 'managers',\n",
       " 'directors',\n",
       " 'analysts',\n",
       " 'data',\n",
       " 'professionals']"
      ]
     },
     "execution_count": 119,
     "metadata": {},
     "output_type": "execute_result"
    }
   ],
   "source": [
    "abstracts[2]"
   ]
  },
  {
   "cell_type": "markdown",
   "metadata": {},
   "source": [
    "### Print the Results for All the Abstracts"
   ]
  },
  {
   "cell_type": "code",
   "execution_count": 121,
   "metadata": {
    "collapsed": false
   },
   "outputs": [
    {
     "name": "stdout",
     "output_type": "stream",
     "text": [
      "[['big', 'data', 'hot', 'topic', 'bi', 'analytics', 'yet', 'complex', 'topic', 'still', 'early', 'stages', 'evolution', 'successful', 'big', 'data', 'projects', 'deliver', 'real', 'business', 'value', 'challenged', 'multiple', 'definitions', 'rapidly', 'shifting', 'technologies', 'achieving', 'good', 'return', 'big', 'data', 'investment', 'requires', 'strategy', 'focuses', 'purpose', 'people', 'process', 'exploring', 'data', 'technologies', 'strategy', 'drives', 'planning', 'architecture', 'ensure', 'big', 'data', 'complements', 'disrupt', 'existing', 'bi', 'analytics', 'environment', 'prepare', 'success', 'big', 'data', 'start', 'understanding', 'pieces', 'fit', 'together', 'learn', 'common', 'definitions', 'big', 'data', 'implications', 'key', 'characteristics', 'big', 'data', 'size', 'among', 'top', 'five', 'structures', 'found', 'unstructured', 'data', 'types', 'big', 'data', 'sources', 'streaming', 'data', 'social', 'data', 'sensor', 'data', 'etc', 'value', 'opportunities', 'common', 'applications', 'big', 'data', 'considerations', 'adapting', 'architectures', 'organizations', 'cultures', 'incorporate', 'big', 'data', 'scope', 'big', 'data', 'processes', 'tools', 'technologies', 'geared', 'business', 'data', 'analysts', 'bi', 'analytics', 'program', 'project', 'managers', 'bi', 'data', 'warehouse', 'architects', 'designers', 'developers', 'data', 'governance', 'data', 'quality', 'professionals', 'getting', 'started', 'big', 'data', 'anyone', 'seeking', 'cut', 'hype', 'understand', 'opportunities', 'challenges', 'realities', 'big', 'data', 'phenomenon'], ['big', 'data', 'become', 'new', 'normal', 'every', 'enterprise', 'wants', 'know', 'integrate', 'new', 'type', 'data', 'associated', 'infrastructure', 'changes', 'need', 'implemented', 'world', 'big', 'data', 'infrastructure', 'changes', 'day', 'new', 'innovations', 'happening', 'everywhere', 'slew', 'new', 'technologies', 'hadoop', 'nosql', 'bigquery', 'tableau', 'qliktech', 'r', 'drill', 'new', 'papers', 'emerging', 'technologies', 'spanner', 'dremmel', 'big', 'question', 'technologies', 'organization', 'need', 'evaluate', 'integrate', 'impact', 'edw', 'strategy', 'session', 'focus', 'topics', 'learn', 'big', 'data', 'solve', 'business', 'users', 'big', 'data', 'building', 'business', 'case', 'next', 'generation', 'business', 'intelligence', 'semantics', 'ontologies', 'managing', 'business', 'rules', 'processing', 'case', 'studies', 'big', 'data', 'data', 'warehouse', 'new', 'landscape', 'technology', 'overview', 'hadoop', 'nosql', 'cassandra', 'big', 'query', 'drill', 'redshift', 'aws', 's3', 'ec2', 'programming', 'mapreduce', 'understanding', 'analytical', 'requirements', 'self', 'service', 'discovery', 'platforms', 'challenges', 'data', 'processing', 'workloads', 'data', 'management', 'infrastructure', 'limitations', 'next', 'generation', 'data', 'warehouse', 'solution', 'architectures', 'three', 'scalability', 'sustainability', 'stability', 'people', 'skills', 'critical', 'success', 'factors', 'geared', 'enterprise', 'architects', 'data', 'warehouse', 'architects', 'developers', 'anyone', 'wants', 'learn', 'big', 'data', 'technologies'], ['digital', 'age', 'brought', 'several', 'tipping', 'points', 'perspectives', 'world', 'data', 'today', 'sizes', 'formats', 'types', 'classes', 'data', 'generated', 'need', 'infrastructure', 'capture', 'transform', 'analyze', 'quickly', 'created', 'rapidly', 'evolving', 'technology', 'landscape', 'integrated', 'storage', 'compute', 'infrastructure', 'programming', 'platforms', 'perspective', 'driven', 'hadoop', 'nosql', 'infrastructures', 'business', 'advantage', 'produce', 'might', 'wondering', 'whether', 'organization', 'even', 'needs', 'data', 'warehouse', 'data', 'warehouse', 'handle', 'new', 'demands', 'digital', 'age', 'session', 'lays', 'ground', 'work', 'understanding', 'framework', 'create', 'manage', 'data', 'warehouse', 'age', 'big', 'data', 'learn', 'data', 'warehouse', 'goals', 'exploratory', 'analytics', 'farming', 'data', 'integrated', 'information', 'platform', 'available', 'usable', 'leveraged', 'infrastructure', 'issues', 'tipping', 'points', 'becoming', 'open', 'source', 'empowered', 'integrating', 'new', 'data', 'infrastructures', 'embrace', 'digital', 'transformation', 'hadoop', 'apache', 'nifi', 'apache', 'tika', 'nosql', 'make', 'work', 'data', 'warehouse', 'database', 'big', 'data', 'infrastructures', 'integrated', 'operational', 'prescriptive', 'analytics', 'new', 'data', 'grid', 'devops', 'machine', 'learning', 'neural', 'networks', 'analytics', 'pitfalls', 'risks', 'mitigation', 'strategies', 'build', 'new', 'ecosystem', 'integrating', 'open', 'source', 'platforms', 'relational', 'databases', 'analytical', 'ecosystems', 'data', 'visualization', 'reporting', 'platforms', 'constant', 'data', 'availability', 'based', 'security', 'role', 'case', 'studies', 'geared', 'anyone', 'looking', 'understand', 'ensure', 'data', 'warehouse', 'supports', 'future', 'analytics', 'big', 'data', 'data', 'architects', 'bi', 'managers', 'directors', 'analysts', 'data', 'professionals'], ['today', 'data', 'corporate', 'asset', 'data', 'consumers', 'become', 'accustomed', 'minute', 'analytics', 'event', 'might', 'affect', 'business', 'personal', 'lives', 'becoming', 'used', 'influence', 'iot', 'homes', 'cities', 'clothing', 'phones', 'resulting', 'instant', 'access', 'analytics', 'manage', 'data', 'provide', 'fast', 'insights', 'analytics', 'created', 'machine', 'learning', 'deep', 'learning', 'systems', 'based', 'last', '50', 'years', 'statistical', 'artificial', 'intelligence', 'algorithms', 'interested', 'learning', 'machine', 'learning', 'analytics', 'delivering', 'join', 'us', 'half', 'day', 'class', 'hottest', 'subject', 'current', 'analytics', 'industry', 'learn', 'foundations', 'machine', 'learning', 'chaos', 'theory', 'game', 'theory', 'algorithms', 'machine', 'talk', 'architect', 'bring', 'search', 'implementation', 'theory', 'data', 'deep', 'learning', 'introduction', 'tensorflow', 'library', 'open', 'source', 'algorithms', 'implementing', 'machine', 'deep', 'learning', 'including', 'processing', 'techniques', 'involved', 'available', 'analytics', 'insights', 'outcomes', 'mashups', 'kpis', 'visualizethe', 'results', 'machine', 'deep', 'learning', 'geared', 'data', 'professionals', 'interested', 'machine', 'deep', 'learning'], ['hadoop', 'created', 'lot', 'buzz', 'data', 'warehousing', 'advanced', 'analytics', 'enterprise', 'data', 'processing', 'infrastructure', 'reshaped', 'hadoop', 'technology', 'question', 'longer', 'hadoop', 'best', 'approach', 'business', 'technical', 'value', 'class', 'offers', 'hands', 'learning', 'experience', 'working', 'hadoop', 'ecosystem', 'using', 'series', 'examples', 'exercises', 'topic', 'experience', 'hadoop', 'tools', 'firsthand', 'strengthen', 'learning', 'discussion', 'implement', 'learn', 'hadoop', 'components', 'architecture', 'configuration', 'hadoop', 'configuration', 'core', 'components', 'mapreduce', 'hdfs', 'yarn', 'usage', 'hadoop', 'tools', 'hbase', 'hive', 'pig', 'mahout', 'impala', 'zookeeper', 'setup', 'configuration', 'hadoop', 'administration', 'management', 'geared', 'anyone', 'interest', 'hadoop', 'ranging', 'hadoop', 'curious', 'actively', 'involved', 'implementation', 'attendance', 'limited', '40'], ['data', 'driven', 'decisions', 'data', 'value', 'chain', 'interrogating', 'cross', 'organizational', 'data', 'set', 'migration', 'silos', 'integrated', 'raw', 'data', 'landscape', 'big', 'data', 'technological', 'landscape', 'ecosystem', 'essentials', 'understanding', 'technologies', 'vendors', 'defining', 'value', 'distributed', 'computing', 'technology', 'stacks', 'selection', 'criteria', 'data', 'swamp', 'data', 'lake', 'data', 'hubs', 'intersection', 'data', 'science', 'big', 'data', 'data', 'science', 'practice', 'teams', 'skills', 'defining', 'data', 'warehouse', 'goals', 'data', 'science', 'artificial', 'intelligence', 'machine', 'learning', 'intersects', 'monetizing', 'data', 'pitfalls', 'big', 'data', 'challenges', 'barriers', 'big', 'data', 'resources', 'hr', 'building', 'internal', 'team', 'data', 'science', 'hiring', 'data', 'science', 'team', 'members', 'data', 'science', 'teams', 'success', 'goals', 'new', 'directions', 'opportunities', 'innovation', 'new', 'business', 'opportunities', 'leveraging', 'big', 'data', 'leadership', 'development', 'innovation', 'lab', 'take', 'problem', 'solve', 'push', 'solution', 'within', 'organization']]\n"
     ]
    }
   ],
   "source": [
    "print(abstracts)"
   ]
  },
  {
   "cell_type": "markdown",
   "metadata": {},
   "source": [
    "### Create WordCloud"
   ]
  },
  {
   "cell_type": "code",
   "execution_count": 128,
   "metadata": {
    "collapsed": true
   },
   "outputs": [],
   "source": [
    "from wordcloud import WordCloud"
   ]
  },
  {
   "cell_type": "markdown",
   "metadata": {},
   "source": [
    "### Combine All Tokens of an Abstract into a String"
   ]
  },
  {
   "cell_type": "code",
   "execution_count": 129,
   "metadata": {
    "collapsed": false
   },
   "outputs": [
    {
     "data": {
      "text/plain": [
       "'big data hot topic bi analytics yet complex topic still early stages evolution successful big data projects deliver real business value challenged multiple definitions rapidly shifting technologies achieving good return big data investment requires strategy focuses purpose people process exploring data technologies strategy drives planning architecture ensure big data complements disrupt existing bi analytics environment prepare success big data start understanding pieces fit together learn common definitions big data implications key characteristics big data size among top five structures found unstructured data types big data sources streaming data social data sensor data etc value opportunities common applications big data considerations adapting architectures organizations cultures incorporate big data scope big data processes tools technologies geared business data analysts bi analytics program project managers bi data warehouse architects designers developers data governance data quality professionals getting started big data anyone seeking cut hype understand opportunities challenges realities big data phenomenon'"
      ]
     },
     "execution_count": 129,
     "metadata": {},
     "output_type": "execute_result"
    }
   ],
   "source": [
    "\" \".join(abstracts[0])"
   ]
  },
  {
   "cell_type": "markdown",
   "metadata": {},
   "source": [
    "### Create WorldCloud"
   ]
  },
  {
   "cell_type": "code",
   "execution_count": 133,
   "metadata": {
    "collapsed": true
   },
   "outputs": [],
   "source": [
    "wc = WordCloud(\n",
    "                          background_color='white',\n",
    "                          stopwords=stopwords,\n",
    "                          max_words=200,\n",
    "                          max_font_size=40, \n",
    "                          random_state=42\n",
    "                         ).generate(\" \".join(abstracts[0]))"
   ]
  },
  {
   "cell_type": "code",
   "execution_count": 138,
   "metadata": {
    "collapsed": false
   },
   "outputs": [
    {
     "data": {
      "text/plain": [
       "<matplotlib.image.AxesImage at 0xc2c8cf8>"
      ]
     },
     "execution_count": 138,
     "metadata": {},
     "output_type": "execute_result"
    },
    {
     "data": {
      "image/png": "[encoded data removed]",
      "text/plain": [
       "<matplotlib.figure.Figure at 0x9300278>"
      ]
     },
     "metadata": {},
     "output_type": "display_data"
    }
   ],
   "source": [
    "import matplotlib.pyplot as plt\n",
    "plt.imshow(wc)"
   ]
  },
  {
   "cell_type": "markdown",
   "metadata": {},
   "source": [
    "### Show the Figures in the Notebook"
   ]
  },
  {
   "cell_type": "code",
   "execution_count": 137,
   "metadata": {
    "collapsed": true
   },
   "outputs": [],
   "source": [
    "%matplotlib inline"
   ]
  }
 ],
 "metadata": {
  "kernelspec": {
   "display_name": "Python 3",
   "language": "python",
   "name": "python3"
  },
  "language_info": {
   "codemirror_mode": {
    "name": "ipython",
    "version": 3
   },
   "file_extension": ".py",
   "mimetype": "text/x-python",
   "name": "python",
   "nbconvert_exporter": "python",
   "pygments_lexer": "ipython3",
   "version": "3.5.1"
  }
 },
 "nbformat": 4,
 "nbformat_minor": 0
}
